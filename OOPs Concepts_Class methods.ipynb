{
 "cells": [
  {
   "cell_type": "markdown",
   "id": "e7274a6a-f472-451b-91fc-e43f5fef96c3",
   "metadata": {},
   "source": [
    "# Class methods"
   ]
  },
  {
   "cell_type": "code",
   "execution_count": 1,
   "id": "b5494d2e-1361-4d49-ac2b-44d3b4f97cd6",
   "metadata": {},
   "outputs": [],
   "source": [
    "class pwskills:\n",
    "    \n",
    "    def __init__(self, name, email):\n",
    "        self.name = name\n",
    "        self.email = email\n",
    "        \n",
    "    def student_details(self):\n",
    "        print(self.name, self.email)"
   ]
  },
  {
   "cell_type": "code",
   "execution_count": 2,
   "id": "2141cfcd-b3de-471f-8db7-48c912fa7db9",
   "metadata": {},
   "outputs": [],
   "source": [
    "pw = pwskills(\"sudh\", \"sudh@gmail.com\")"
   ]
  },
  {
   "cell_type": "code",
   "execution_count": 3,
   "id": "fcfb9604-4cf4-4c40-9247-6571fd007fcb",
   "metadata": {},
   "outputs": [
    {
     "data": {
      "text/plain": [
       "'sudh'"
      ]
     },
     "execution_count": 3,
     "metadata": {},
     "output_type": "execute_result"
    }
   ],
   "source": [
    "pw.name"
   ]
  },
  {
   "cell_type": "code",
   "execution_count": 4,
   "id": "9dd0f9ad-373b-4103-9c99-470d5f16a5fa",
   "metadata": {},
   "outputs": [
    {
     "data": {
      "text/plain": [
       "'sudh@gmail.com'"
      ]
     },
     "execution_count": 4,
     "metadata": {},
     "output_type": "execute_result"
    }
   ],
   "source": [
    "pw.email"
   ]
  },
  {
   "cell_type": "code",
   "execution_count": 5,
   "id": "7b28b04d-4fe6-448b-a621-ecf51239e882",
   "metadata": {},
   "outputs": [
    {
     "name": "stdout",
     "output_type": "stream",
     "text": [
      "sudh sudh@gmail.com\n"
     ]
    }
   ],
   "source": [
    "pw.student_details()"
   ]
  },
  {
   "cell_type": "code",
   "execution_count": 6,
   "id": "8a915ac0-9620-4988-8dc5-50bbb0a3bc17",
   "metadata": {},
   "outputs": [],
   "source": [
    "class pwskills1:\n",
    "    \n",
    "    def __init__(self, name, email):\n",
    "        self.name = name\n",
    "        self.email = email\n",
    "    \n",
    "    @classmethod   \n",
    "    def details(cls, name, email):  ## with the help of this, we will be able to pass data to a class directly\n",
    "        return cls(name, email)\n",
    "    \n",
    "    def student_details(self):\n",
    "        print(self.name, self.email)"
   ]
  },
  {
   "cell_type": "code",
   "execution_count": 7,
   "id": "a7ce27cd-1755-40aa-95a1-92d810ac5ab2",
   "metadata": {},
   "outputs": [
    {
     "data": {
      "text/plain": [
       "<__main__.pwskills1 at 0x7f24084ef190>"
      ]
     },
     "execution_count": 7,
     "metadata": {},
     "output_type": "execute_result"
    }
   ],
   "source": [
    "pwskills1.details(\"mohan\", \"mohan@gmail.com\")"
   ]
  },
  {
   "cell_type": "code",
   "execution_count": 8,
   "id": "7aaa18c7-83f1-4e1f-b0ae-d41a34627806",
   "metadata": {},
   "outputs": [],
   "source": [
    "pw1 = pwskills1.details(\"mohan\", \"mohan@gmail.com\")"
   ]
  },
  {
   "cell_type": "code",
   "execution_count": 9,
   "id": "4a208ff0-5dcf-46cd-bd9f-9fc754a8e48b",
   "metadata": {},
   "outputs": [
    {
     "data": {
      "text/plain": [
       "'mohan'"
      ]
     },
     "execution_count": 9,
     "metadata": {},
     "output_type": "execute_result"
    }
   ],
   "source": [
    "pw1.name"
   ]
  },
  {
   "cell_type": "code",
   "execution_count": 10,
   "id": "1a47e37a-ac3f-448e-9337-19877586a0f3",
   "metadata": {},
   "outputs": [
    {
     "data": {
      "text/plain": [
       "'mohan@gmail.com'"
      ]
     },
     "execution_count": 10,
     "metadata": {},
     "output_type": "execute_result"
    }
   ],
   "source": [
    "pw1.email"
   ]
  },
  {
   "cell_type": "code",
   "execution_count": 11,
   "id": "132fa468-1787-4431-ad14-6d22723a9273",
   "metadata": {},
   "outputs": [],
   "source": [
    "class pwskills1:\n",
    "    \n",
    "    def __init__(self, name, email):\n",
    "        self.name = name\n",
    "        self.email = email\n",
    "    \n",
    "    @classmethod   \n",
    "    def details(cls, name1, email1):  ## with the help of this, we will be able to pass data to a class directly\n",
    "        return cls(name1, email1)\n",
    "    \n",
    "    def student_details(self):\n",
    "        print(self.name, self.email)"
   ]
  },
  {
   "cell_type": "code",
   "execution_count": 12,
   "id": "8fc3fa7d-ead0-4537-b006-4ada37dfe4b5",
   "metadata": {},
   "outputs": [],
   "source": [
    "pw1 = pwskills1.details(\"mohan\", \"mohan@gmail.com\")"
   ]
  },
  {
   "cell_type": "code",
   "execution_count": 13,
   "id": "80bff949-978f-4053-a408-16c626a4bdc6",
   "metadata": {},
   "outputs": [
    {
     "data": {
      "text/plain": [
       "'mohan'"
      ]
     },
     "execution_count": 13,
     "metadata": {},
     "output_type": "execute_result"
    }
   ],
   "source": [
    "pw1.name"
   ]
  },
  {
   "cell_type": "code",
   "execution_count": 14,
   "id": "cc88428c-2885-47d1-af4d-ee9f3687f533",
   "metadata": {},
   "outputs": [
    {
     "data": {
      "text/plain": [
       "'mohan@gmail.com'"
      ]
     },
     "execution_count": 14,
     "metadata": {},
     "output_type": "execute_result"
    }
   ],
   "source": [
    "pw1.email"
   ]
  },
  {
   "cell_type": "markdown",
   "id": "47da0a76-094d-49b2-8f0e-33470ef7ae3e",
   "metadata": {},
   "source": [
    "Internally, it is able to assign data even to __init__. So here, we are able to achieve function overloading.\n",
    "However, function overloading is not directly possible in Python classes.\n",
    "\n",
    "So here, we are able to overload __init__ method with the help of classmethod."
   ]
  },
  {
   "cell_type": "code",
   "execution_count": 15,
   "id": "ebd5ba33-bdb1-4670-881b-6e895d4c5c7f",
   "metadata": {},
   "outputs": [
    {
     "name": "stdout",
     "output_type": "stream",
     "text": [
      "mohan mohan@gmail.com\n"
     ]
    }
   ],
   "source": [
    "pw1.student_details()"
   ]
  },
  {
   "cell_type": "markdown",
   "id": "caed67e9-6aad-4a97-8206-38146c8e143c",
   "metadata": {},
   "source": [
    "* self - points to a class through __init__() when we are going to create an object\n",
    "* cls - binds the entire method directly to class"
   ]
  },
  {
   "cell_type": "code",
   "execution_count": 23,
   "id": "5d890bad-c1b3-463c-8569-f91ea1851aef",
   "metadata": {},
   "outputs": [],
   "source": [
    "class pwskills2:\n",
    "    \n",
    "    mobile_number = 9134534535\n",
    "    \n",
    "    def __init__(self, name, email):\n",
    "        self.name = name\n",
    "        self.email = email\n",
    "    \n",
    "    @classmethod\n",
    "    def change_number(cls, mobile):\n",
    "        pwskills2.mobile_number = mobile\n",
    "    \n",
    "    @classmethod   \n",
    "    def details(cls, name1, email1):  ## with the help of this, we will be able to pass data to a class directly\n",
    "        return cls(name1, email1)\n",
    "    \n",
    "    def student_details(self):\n",
    "        print(self.name, self.email, pwskills2.mobile_number)"
   ]
  },
  {
   "cell_type": "code",
   "execution_count": 24,
   "id": "f4374950-a240-42f9-b2ab-6959b6e07c80",
   "metadata": {},
   "outputs": [
    {
     "data": {
      "text/plain": [
       "9134534535"
      ]
     },
     "execution_count": 24,
     "metadata": {},
     "output_type": "execute_result"
    }
   ],
   "source": [
    "pwskills2.mobile_number"
   ]
  },
  {
   "cell_type": "code",
   "execution_count": 25,
   "id": "ac77d50a-c892-4a71-b879-5435279895de",
   "metadata": {},
   "outputs": [],
   "source": [
    "pw2 = pwskills2.details(\"sohan\", \"sohan@gmail.com\") "
   ]
  },
  {
   "cell_type": "code",
   "execution_count": 26,
   "id": "0f389e19-f5cb-4b87-8bc9-399f3f2bb34d",
   "metadata": {},
   "outputs": [
    {
     "name": "stdout",
     "output_type": "stream",
     "text": [
      "sohan sohan@gmail.com 9134534535\n"
     ]
    }
   ],
   "source": [
    "pw2.student_details()"
   ]
  },
  {
   "cell_type": "code",
   "execution_count": 27,
   "id": "ca5fc0cc-2033-48c1-a7db-3bb669fce1d1",
   "metadata": {},
   "outputs": [],
   "source": [
    "pw2_obj = pwskills2(\"rohan\", \"rohan@gmail.com\")  "
   ]
  },
  {
   "cell_type": "code",
   "execution_count": 28,
   "id": "27947c36-1069-403f-91b1-8e18377b004e",
   "metadata": {},
   "outputs": [
    {
     "name": "stdout",
     "output_type": "stream",
     "text": [
      "rohan rohan@gmail.com 9134534535\n"
     ]
    }
   ],
   "source": [
    "pw2_obj.student_details()"
   ]
  },
  {
   "cell_type": "code",
   "execution_count": 29,
   "id": "da4d4753-9667-4f13-8590-281176f6fc12",
   "metadata": {},
   "outputs": [
    {
     "data": {
      "text/plain": [
       "9134534535"
      ]
     },
     "execution_count": 29,
     "metadata": {},
     "output_type": "execute_result"
    }
   ],
   "source": [
    "pwskills2.mobile_number"
   ]
  },
  {
   "cell_type": "code",
   "execution_count": 30,
   "id": "61ce5037-bbbb-4fdc-8732-4c01299345c0",
   "metadata": {},
   "outputs": [],
   "source": [
    "pwskills2.change_number(9233345344)"
   ]
  },
  {
   "cell_type": "code",
   "execution_count": 31,
   "id": "f4f29ee4-686b-486e-8aa6-2e5e27c250f1",
   "metadata": {},
   "outputs": [
    {
     "data": {
      "text/plain": [
       "9233345344"
      ]
     },
     "execution_count": 31,
     "metadata": {},
     "output_type": "execute_result"
    }
   ],
   "source": [
    "pwskills2.mobile_number"
   ]
  },
  {
   "cell_type": "code",
   "execution_count": 32,
   "id": "8d0c09ee-f2b4-4136-9b2e-4c64e0719d27",
   "metadata": {},
   "outputs": [],
   "source": [
    "pw2_obj = pwskills2(\"sohil\", \"sohil@gmail.com\")"
   ]
  },
  {
   "cell_type": "code",
   "execution_count": 33,
   "id": "1f635c41-df1a-4e78-9f65-570933455225",
   "metadata": {},
   "outputs": [
    {
     "ename": "TypeError",
     "evalue": "pwskills2.details() missing 2 required positional arguments: 'name1' and 'email1'",
     "output_type": "error",
     "traceback": [
      "\u001b[0;31m---------------------------------------------------------------------------\u001b[0m",
      "\u001b[0;31mTypeError\u001b[0m                                 Traceback (most recent call last)",
      "Cell \u001b[0;32mIn[33], line 3\u001b[0m\n\u001b[1;32m      1\u001b[0m \u001b[38;5;66;03m## this will give error\u001b[39;00m\n\u001b[0;32m----> 3\u001b[0m \u001b[43mpw2_obj\u001b[49m\u001b[38;5;241;43m.\u001b[39;49m\u001b[43mdetails\u001b[49m\u001b[43m(\u001b[49m\u001b[43m)\u001b[49m\n",
      "\u001b[0;31mTypeError\u001b[0m: pwskills2.details() missing 2 required positional arguments: 'name1' and 'email1'"
     ]
    }
   ],
   "source": [
    "## this will give error\n",
    "\n",
    "pw2_obj.details()"
   ]
  },
  {
   "cell_type": "code",
   "execution_count": 34,
   "id": "d15f7357-e448-48fb-8a2d-6b493c53b137",
   "metadata": {},
   "outputs": [
    {
     "data": {
      "text/plain": [
       "<__main__.pwskills2 at 0x7f2408218820>"
      ]
     },
     "execution_count": 34,
     "metadata": {},
     "output_type": "execute_result"
    }
   ],
   "source": [
    "pw2_obj.details(\"sudh\", \"sudh@gmail.com\")"
   ]
  },
  {
   "cell_type": "code",
   "execution_count": 35,
   "id": "3b22763b-8240-4e2e-adb5-0425ef5efd63",
   "metadata": {},
   "outputs": [
    {
     "data": {
      "text/plain": [
       "'sohil'"
      ]
     },
     "execution_count": 35,
     "metadata": {},
     "output_type": "execute_result"
    }
   ],
   "source": [
    "pw2_obj.name"
   ]
  },
  {
   "cell_type": "markdown",
   "id": "4e862c1b-012e-4021-8348-7aa50f93e8ba",
   "metadata": {},
   "source": [
    "Here we are able to access details(). But originally, it is going to show data which was available at the time of creation of an object.\n",
    "\n",
    "But, another conclusion is that, with the help of an object, we will be able to access classmethod."
   ]
  },
  {
   "cell_type": "code",
   "execution_count": 36,
   "id": "0c877391-709b-45fc-af7f-5ad778ad3ef2",
   "metadata": {},
   "outputs": [],
   "source": [
    "pw2_obj.change_number(534553534)"
   ]
  },
  {
   "cell_type": "code",
   "execution_count": 37,
   "id": "6a4eec1c-8744-4f1b-b27c-35c1ac9b93c3",
   "metadata": {},
   "outputs": [
    {
     "data": {
      "text/plain": [
       "534553534"
      ]
     },
     "execution_count": 37,
     "metadata": {},
     "output_type": "execute_result"
    }
   ],
   "source": [
    "pw2_obj.mobile_number"
   ]
  },
  {
   "cell_type": "markdown",
   "id": "15b07997-62ff-4ba7-ae69-3469bfa7563e",
   "metadata": {},
   "source": [
    "* classmethod is like a global method, which will be accessible by all the objects.\n",
    "* instance method will also be accessible to each and every object.\n",
    "\n",
    "* classmethod will always to create only one instance whereas instance method will create as per the number of objects created. "
   ]
  },
  {
   "cell_type": "code",
   "execution_count": 38,
   "id": "512fe01a-676b-40dc-aecb-971412ddecbf",
   "metadata": {},
   "outputs": [],
   "source": [
    "class pwskills3:\n",
    "    \n",
    "    mobile_number = 9134534535\n",
    "    \n",
    "    def __init__(self, name, email):\n",
    "        self.name = name\n",
    "        self.email = email\n",
    "    \n",
    "    @classmethod\n",
    "    def change_number(cls, mobile):\n",
    "        pwskills2.mobile_number = mobile\n",
    "    \n",
    "    @classmethod   \n",
    "    def details(cls, name1, email1):  ## with the help of this, we will be able to pass data to a class directly\n",
    "        return cls(name1, email1)\n",
    "    \n",
    "    def student_details(self):\n",
    "        print(self.name, self.email, pwskills2.mobile_number)"
   ]
  },
  {
   "cell_type": "code",
   "execution_count": 39,
   "id": "6a9a9d95-9518-41a8-8191-6831f1979bc6",
   "metadata": {},
   "outputs": [],
   "source": [
    "def course_details(cls, course_name):\n",
    "    print(\"Course details : \",course_name)"
   ]
  },
  {
   "cell_type": "code",
   "execution_count": 40,
   "id": "5d04e125-3b09-4cf5-90c7-f82c89856e0d",
   "metadata": {},
   "outputs": [],
   "source": [
    "# add an external function to a particular class\n",
    "\n",
    "pwskills3.course_details = classmethod(course_details)"
   ]
  },
  {
   "cell_type": "code",
   "execution_count": 41,
   "id": "e0cdcafa-7de7-4e8c-ac46-451a439fbee5",
   "metadata": {},
   "outputs": [
    {
     "name": "stdout",
     "output_type": "stream",
     "text": [
      "Course details :  Data Science Masters\n"
     ]
    }
   ],
   "source": [
    "pwskills3.course_details(\"Data Science Masters\")"
   ]
  },
  {
   "cell_type": "code",
   "execution_count": 42,
   "id": "d6d07b8f-3942-43c5-ac68-800fb558bc4c",
   "metadata": {},
   "outputs": [],
   "source": [
    "pw3 = pwskills3(\"sudh\", \"sudh@gmail.com\")"
   ]
  },
  {
   "cell_type": "code",
   "execution_count": 43,
   "id": "edb2d5d9-5d9d-4ec0-9848-cd955ca41b15",
   "metadata": {},
   "outputs": [
    {
     "name": "stdout",
     "output_type": "stream",
     "text": [
      "Course details :  Web Development\n"
     ]
    }
   ],
   "source": [
    "pw3.course_details(\"Web Development\")"
   ]
  },
  {
   "cell_type": "code",
   "execution_count": 44,
   "id": "ee6c5104-f45d-470e-8e94-a11761397a6a",
   "metadata": {},
   "outputs": [],
   "source": [
    "class pwskills4:\n",
    "    \n",
    "    mobile_number = 9134534535\n",
    "    \n",
    "    def __init__(self, name, email):\n",
    "        self.name = name\n",
    "        self.email = email\n",
    "    \n",
    "    @classmethod\n",
    "    def change_number(cls, mobile):\n",
    "        pwskills2.mobile_number = mobile\n",
    "    \n",
    "    @classmethod   \n",
    "    def details(cls, name1, email1):  ## with the help of this, we will be able to pass data to a class directly\n",
    "        return cls(name1, email1)\n",
    "    \n",
    "    def student_details(self):\n",
    "        print(self.name, self.email, pwskills2.mobile_number)"
   ]
  },
  {
   "cell_type": "code",
   "execution_count": 45,
   "id": "a043b794-eb3a-4e57-90e4-ad3ace1a155d",
   "metadata": {},
   "outputs": [],
   "source": [
    "del pwskills4.change_number  ## this will delete"
   ]
  },
  {
   "cell_type": "code",
   "execution_count": 46,
   "id": "b82959bd-0922-464a-92b7-e805419b4332",
   "metadata": {},
   "outputs": [
    {
     "ename": "AttributeError",
     "evalue": "type object 'pwskills4' has no attribute 'change_number'",
     "output_type": "error",
     "traceback": [
      "\u001b[0;31m---------------------------------------------------------------------------\u001b[0m",
      "\u001b[0;31mAttributeError\u001b[0m                            Traceback (most recent call last)",
      "Cell \u001b[0;32mIn[46], line 3\u001b[0m\n\u001b[1;32m      1\u001b[0m \u001b[38;5;66;03m## this will raise error\u001b[39;00m\n\u001b[0;32m----> 3\u001b[0m \u001b[43mpwskills4\u001b[49m\u001b[38;5;241;43m.\u001b[39;49m\u001b[43mchange_number\u001b[49m(\u001b[38;5;241m2432535345\u001b[39m)\n",
      "\u001b[0;31mAttributeError\u001b[0m: type object 'pwskills4' has no attribute 'change_number'"
     ]
    }
   ],
   "source": [
    "## this will raise error\n",
    "\n",
    "pwskills4.change_number(2432535345)"
   ]
  },
  {
   "cell_type": "code",
   "execution_count": 47,
   "id": "429f790c-812d-4357-9dab-ec4799f244f9",
   "metadata": {},
   "outputs": [],
   "source": [
    "## another way to delete\n",
    "\n",
    "delattr(pwskills4,\"details\")"
   ]
  },
  {
   "cell_type": "code",
   "execution_count": 48,
   "id": "31919c26-f875-45b9-80d1-42106bf48ad2",
   "metadata": {},
   "outputs": [
    {
     "data": {
      "text/plain": [
       "9134534535"
      ]
     },
     "execution_count": 48,
     "metadata": {},
     "output_type": "execute_result"
    }
   ],
   "source": [
    "pwskills4.mobile_number"
   ]
  },
  {
   "cell_type": "code",
   "execution_count": 49,
   "id": "9cc4231c-1f22-465f-81c9-fea8e1856168",
   "metadata": {},
   "outputs": [],
   "source": [
    "## delete a variable\n",
    "\n",
    "delattr(pwskills4,\"mobile_number\")"
   ]
  },
  {
   "cell_type": "code",
   "execution_count": 50,
   "id": "a4a402ef-2cd9-4b99-a612-8fa8fe93b488",
   "metadata": {},
   "outputs": [
    {
     "ename": "AttributeError",
     "evalue": "type object 'pwskills4' has no attribute 'mobile_number'",
     "output_type": "error",
     "traceback": [
      "\u001b[0;31m---------------------------------------------------------------------------\u001b[0m",
      "\u001b[0;31mAttributeError\u001b[0m                            Traceback (most recent call last)",
      "Cell \u001b[0;32mIn[50], line 3\u001b[0m\n\u001b[1;32m      1\u001b[0m \u001b[38;5;66;03m## this will give error \u001b[39;00m\n\u001b[0;32m----> 3\u001b[0m \u001b[43mpwskills4\u001b[49m\u001b[38;5;241;43m.\u001b[39;49m\u001b[43mmobile_number\u001b[49m\n",
      "\u001b[0;31mAttributeError\u001b[0m: type object 'pwskills4' has no attribute 'mobile_number'"
     ]
    }
   ],
   "source": [
    "## this will give error \n",
    "\n",
    "pwskills4.mobile_number"
   ]
  },
  {
   "cell_type": "code",
   "execution_count": 51,
   "id": "bba47b93-3f33-4b92-ac30-0695d2686ce8",
   "metadata": {},
   "outputs": [],
   "source": [
    "## delete instance method\n",
    "\n",
    "delattr(pwskills4,\"student_details\")"
   ]
  },
  {
   "cell_type": "code",
   "execution_count": 53,
   "id": "56762b85-4629-4665-85b4-3e07c280c639",
   "metadata": {},
   "outputs": [
    {
     "ename": "AttributeError",
     "evalue": "type object 'pwskills4' has no attribute 'student_details'",
     "output_type": "error",
     "traceback": [
      "\u001b[0;31m---------------------------------------------------------------------------\u001b[0m",
      "\u001b[0;31mAttributeError\u001b[0m                            Traceback (most recent call last)",
      "Cell \u001b[0;32mIn[53], line 3\u001b[0m\n\u001b[1;32m      1\u001b[0m \u001b[38;5;66;03m## will generate error\u001b[39;00m\n\u001b[0;32m----> 3\u001b[0m \u001b[43mpwskills4\u001b[49m\u001b[38;5;241;43m.\u001b[39;49m\u001b[43mstudent_details\u001b[49m()\n",
      "\u001b[0;31mAttributeError\u001b[0m: type object 'pwskills4' has no attribute 'student_details'"
     ]
    }
   ],
   "source": [
    "## will generate error\n",
    "\n",
    "pwskills4.student_details()"
   ]
  },
  {
   "cell_type": "code",
   "execution_count": null,
   "id": "1a46a297-eaa4-4967-905c-a511b0bf6d63",
   "metadata": {},
   "outputs": [],
   "source": []
  }
 ],
 "metadata": {
  "kernelspec": {
   "display_name": "Python 3 (ipykernel)",
   "language": "python",
   "name": "python3"
  },
  "language_info": {
   "codemirror_mode": {
    "name": "ipython",
    "version": 3
   },
   "file_extension": ".py",
   "mimetype": "text/x-python",
   "name": "python",
   "nbconvert_exporter": "python",
   "pygments_lexer": "ipython3",
   "version": "3.10.8"
  }
 },
 "nbformat": 4,
 "nbformat_minor": 5
}

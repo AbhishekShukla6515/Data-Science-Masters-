{
 "cells": [
  {
   "cell_type": "markdown",
   "id": "fe199352-fbf7-4b4a-b4cf-77983138fd88",
   "metadata": {},
   "source": [
    "# Polymorphism"
   ]
  },
  {
   "cell_type": "markdown",
   "id": "feb0ba1f-2f0c-4b13-8c8c-bdf5df864888",
   "metadata": {},
   "source": [
    "Polymorphism means having many forms."
   ]
  },
  {
   "cell_type": "code",
   "execution_count": 1,
   "id": "be2372be-4edb-4a25-8e62-0d7176a06521",
   "metadata": {},
   "outputs": [],
   "source": [
    "def test(a,b):\n",
    "    return a+b"
   ]
  },
  {
   "cell_type": "code",
   "execution_count": 2,
   "id": "bb45b3b0-05ee-41d7-b0a9-986273fd7aa0",
   "metadata": {},
   "outputs": [
    {
     "data": {
      "text/plain": [
       "9"
      ]
     },
     "execution_count": 2,
     "metadata": {},
     "output_type": "execute_result"
    }
   ],
   "source": [
    "test(4,5)"
   ]
  },
  {
   "cell_type": "markdown",
   "id": "cf3d2c84-5161-4aa0-964a-4a127c42712c",
   "metadata": {},
   "source": [
    "Here, it is trying to perform an addition operation."
   ]
  },
  {
   "cell_type": "code",
   "execution_count": 3,
   "id": "bf8287ae-8d47-4321-bc7c-0990b45efacf",
   "metadata": {},
   "outputs": [
    {
     "data": {
      "text/plain": [
       "'sudh kumar'"
      ]
     },
     "execution_count": 3,
     "metadata": {},
     "output_type": "execute_result"
    }
   ],
   "source": [
    "test(\"sudh \",\"kumar\")"
   ]
  },
  {
   "cell_type": "markdown",
   "id": "263304dc-67df-48e3-96f2-777a2a81d253",
   "metadata": {},
   "source": [
    "Here, the function's behaviour is changing. Sometimes it is trying to perform addition operation and sometimes it is trying to perform a concatenation operation."
   ]
  },
  {
   "cell_type": "code",
   "execution_count": 4,
   "id": "60ddc47d-828f-4a5c-8223-cdce5a4deecc",
   "metadata": {},
   "outputs": [
    {
     "data": {
      "text/plain": [
       "[2, 3, 4, 5, 5, 4, 5, 6, 7]"
      ]
     },
     "execution_count": 4,
     "metadata": {},
     "output_type": "execute_result"
    }
   ],
   "source": [
    "test([2,3,4,5,5],[4,5,6,7])"
   ]
  },
  {
   "cell_type": "markdown",
   "id": "4cbb5965-6645-4a17-976d-1a2f4eddae31",
   "metadata": {},
   "source": [
    "Here, it is performing list concatenation operation.\n",
    "\n",
    "So the function is going to behave differently as per the data we are going to pass in the function. So here we are able to achieve the property of polymorphism."
   ]
  },
  {
   "cell_type": "code",
   "execution_count": 5,
   "id": "16a5244a-6734-4b34-ab23-3c8ce3a501f8",
   "metadata": {},
   "outputs": [],
   "source": [
    "class data_science : \n",
    "    \n",
    "    def syllabus(self):\n",
    "        print(\"This is my method for data science syllabus.\")"
   ]
  },
  {
   "cell_type": "code",
   "execution_count": 6,
   "id": "a613c2c2-71fc-446e-87d5-0df9db1cc281",
   "metadata": {},
   "outputs": [],
   "source": [
    "class web_dev:\n",
    "    \n",
    "    def syllabus(self):\n",
    "        print(\"This is my method for web dev.\")"
   ]
  },
  {
   "cell_type": "code",
   "execution_count": 7,
   "id": "5c15f9bf-e81d-48cb-a4c8-91917fae8d37",
   "metadata": {},
   "outputs": [],
   "source": [
    "def class_parser(class_object):\n",
    "    for i in class_object:\n",
    "        i.syllabus()"
   ]
  },
  {
   "cell_type": "code",
   "execution_count": 8,
   "id": "45667a3e-5e0e-4198-8c8d-f4bba032ce31",
   "metadata": {},
   "outputs": [],
   "source": [
    "obj_data_science = data_science()"
   ]
  },
  {
   "cell_type": "code",
   "execution_count": 9,
   "id": "03bd152c-a74e-4cba-a754-653be1ee03e3",
   "metadata": {},
   "outputs": [],
   "source": [
    "obj_web_dev = web_dev()"
   ]
  },
  {
   "cell_type": "code",
   "execution_count": 10,
   "id": "33f8e6e4-ec00-4766-b63c-c38436f89d34",
   "metadata": {},
   "outputs": [],
   "source": [
    "class_obj = [obj_data_science, obj_web_dev]"
   ]
  },
  {
   "cell_type": "code",
   "execution_count": 11,
   "id": "b2f89b96-eb7b-4a5d-96e9-ce7054953686",
   "metadata": {},
   "outputs": [
    {
     "name": "stdout",
     "output_type": "stream",
     "text": [
      "This is my method for data science syllabus.\n",
      "This is my method for web dev.\n"
     ]
    }
   ],
   "source": [
    "class_parser(class_obj)"
   ]
  },
  {
   "cell_type": "markdown",
   "id": "cbc6b441-065e-4421-aa94-161601dd1a0b",
   "metadata": {},
   "source": [
    "So here, this function is differently in different circumstances.\n",
    "\n",
    "So, we are able to achieve polymorphism here."
   ]
  },
  {
   "cell_type": "code",
   "execution_count": null,
   "id": "fdd4e166-214c-4273-a79b-9994cbb5d50d",
   "metadata": {},
   "outputs": [],
   "source": []
  }
 ],
 "metadata": {
  "kernelspec": {
   "display_name": "Python 3 (ipykernel)",
   "language": "python",
   "name": "python3"
  },
  "language_info": {
   "codemirror_mode": {
    "name": "ipython",
    "version": 3
   },
   "file_extension": ".py",
   "mimetype": "text/x-python",
   "name": "python",
   "nbconvert_exporter": "python",
   "pygments_lexer": "ipython3",
   "version": "3.10.8"
  }
 },
 "nbformat": 4,
 "nbformat_minor": 5
}

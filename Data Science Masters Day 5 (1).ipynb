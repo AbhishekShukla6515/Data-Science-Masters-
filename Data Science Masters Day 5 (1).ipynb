{
 "cells": [
  {
   "cell_type": "markdown",
   "id": "8ec8f781-9c01-49b5-a08a-b7cfe7d8f289",
   "metadata": {},
   "source": [
    "# DAY 4"
   ]
  },
  {
   "cell_type": "code",
   "execution_count": 24,
   "id": "ccaaa79f-1a46-4fbf-ab99-e5178637954b",
   "metadata": {},
   "outputs": [
    {
     "data": {
      "text/plain": [
       "'Data science masters'"
      ]
     },
     "execution_count": 24,
     "metadata": {},
     "output_type": "execute_result"
    }
   ],
   "source": [
    "name = \"Data science Masters\"\n",
    "name.capitalize()"
   ]
  },
  {
   "cell_type": "code",
   "execution_count": 25,
   "id": "3d143ba7-df18-4338-8e80-36ba19d3b2dc",
   "metadata": {},
   "outputs": [
    {
     "data": {
      "text/plain": [
       "'dATA SCIENCE mASTERS'"
      ]
     },
     "execution_count": 25,
     "metadata": {},
     "output_type": "execute_result"
    }
   ],
   "source": [
    "name.swapcase()"
   ]
  },
  {
   "cell_type": "markdown",
   "id": "de87268d-a4d7-4ef0-a841-723db03cae65",
   "metadata": {},
   "source": [
    "#### Reversing a string"
   ]
  },
  {
   "cell_type": "code",
   "execution_count": 26,
   "id": "f0760701-231c-4280-bc19-5b7ba88d4997",
   "metadata": {},
   "outputs": [
    {
     "data": {
      "text/plain": [
       "'sretsaM ecneics ataD'"
      ]
     },
     "execution_count": 26,
     "metadata": {},
     "output_type": "execute_result"
    }
   ],
   "source": [
    "name[::-1]"
   ]
  },
  {
   "cell_type": "code",
   "execution_count": 28,
   "id": "56cf3a0d-0a13-47c2-a0f0-4b9b02bd81b5",
   "metadata": {},
   "outputs": [
    {
     "data": {
      "text/plain": [
       "<reversed at 0x7f4ae65b4910>"
      ]
     },
     "execution_count": 28,
     "metadata": {},
     "output_type": "execute_result"
    }
   ],
   "source": [
    "reversed(name)\n",
    "\n",
    "# returns a reverse iterator"
   ]
  },
  {
   "cell_type": "code",
   "execution_count": 29,
   "id": "6cd8b18f-b61f-469d-bb73-988218fe2fd7",
   "metadata": {},
   "outputs": [
    {
     "data": {
      "text/plain": [
       "'s r e t s a M   e c n e i c s   a t a D'"
      ]
     },
     "execution_count": 29,
     "metadata": {},
     "output_type": "execute_result"
    }
   ],
   "source": [
    "\" \".join(reversed(name))"
   ]
  },
  {
   "cell_type": "code",
   "execution_count": 30,
   "id": "acb24e0e-b438-4f4a-a40a-6434013ef76a",
   "metadata": {},
   "outputs": [
    {
     "data": {
      "text/plain": [
       "'NKrishaKrishiKrishk'"
      ]
     },
     "execution_count": 30,
     "metadata": {},
     "output_type": "execute_result"
    }
   ],
   "source": [
    "\"Krish\".join(\"Naik\")"
   ]
  },
  {
   "cell_type": "code",
   "execution_count": 31,
   "id": "e9a17249-f0df-45ff-a0ec-fd8e39add02b",
   "metadata": {},
   "outputs": [
    {
     "data": {
      "text/plain": [
       "'a'"
      ]
     },
     "execution_count": 31,
     "metadata": {},
     "output_type": "execute_result"
    }
   ],
   "source": [
    "\"Krish\".join(\"a\")"
   ]
  },
  {
   "cell_type": "code",
   "execution_count": 32,
   "id": "3420e4cf-f602-4c3a-9f91-7c2a6d6a42cc",
   "metadata": {},
   "outputs": [
    {
     "data": {
      "text/plain": [
       "'a b c d'"
      ]
     },
     "execution_count": 32,
     "metadata": {},
     "output_type": "execute_result"
    }
   ],
   "source": [
    "\" \".join(\"abcd\")"
   ]
  },
  {
   "cell_type": "code",
   "execution_count": 33,
   "id": "ade3d87f-4264-4899-87b0-5adf962b4d6c",
   "metadata": {},
   "outputs": [
    {
     "data": {
      "text/plain": [
       "['t', 'n', 'a']"
      ]
     },
     "execution_count": 33,
     "metadata": {},
     "output_type": "execute_result"
    }
   ],
   "source": [
    "list(reversed(\"ant\"))"
   ]
  },
  {
   "cell_type": "markdown",
   "id": "a07199ee-b84f-4437-ad25-7bd2ab77c658",
   "metadata": {},
   "source": [
    "reversed() - returns a reverse iterator"
   ]
  },
  {
   "cell_type": "markdown",
   "id": "8bcbe76a-c110-4810-853e-403cf1ba0622",
   "metadata": {},
   "source": [
    "#### Removing character from the end of the string"
   ]
  },
  {
   "cell_type": "code",
   "execution_count": 35,
   "id": "b3cde4d8-1580-424d-b267-6cfd1731b309",
   "metadata": {},
   "outputs": [
    {
     "data": {
      "text/plain": [
       "'PWSkills'"
      ]
     },
     "execution_count": 35,
     "metadata": {},
     "output_type": "execute_result"
    }
   ],
   "source": [
    "string_a = \" PWSkills \"\n",
    "string_a.strip(\" \")"
   ]
  },
  {
   "cell_type": "code",
   "execution_count": 36,
   "id": "341ba224-d1aa-491a-9e71-546a7beab8d6",
   "metadata": {},
   "outputs": [
    {
     "data": {
      "text/plain": [
       "'PWSkills '"
      ]
     },
     "execution_count": 36,
     "metadata": {},
     "output_type": "execute_result"
    }
   ],
   "source": [
    "string_a.lstrip(\" \")"
   ]
  },
  {
   "cell_type": "code",
   "execution_count": 37,
   "id": "1a21d14e-105b-4785-8d31-b236829f5bf3",
   "metadata": {},
   "outputs": [
    {
     "data": {
      "text/plain": [
       "' PWSkills'"
      ]
     },
     "execution_count": 37,
     "metadata": {},
     "output_type": "execute_result"
    }
   ],
   "source": [
    "string_a.rstrip(\" \")"
   ]
  },
  {
   "cell_type": "code",
   "execution_count": 38,
   "id": "33b28237-59b6-424d-bf5c-a22cb50f3a09",
   "metadata": {},
   "outputs": [
    {
     "data": {
      "text/plain": [
       "'Greeting from PWSkills'"
      ]
     },
     "execution_count": 38,
     "metadata": {},
     "output_type": "execute_result"
    }
   ],
   "source": [
    "string_n = \"Greeting to PWSkills\"\n",
    "string_n.replace(\"to\",\"from\")"
   ]
  },
  {
   "cell_type": "code",
   "execution_count": 47,
   "id": "32b63205-a908-47bb-8648-149a5c7a79f9",
   "metadata": {},
   "outputs": [],
   "source": [
    "string_n = \"Greeting to PWSkills\"\n",
    "var_a = string_n.replace(\"G\",\"T\")"
   ]
  },
  {
   "cell_type": "code",
   "execution_count": 48,
   "id": "7347920f-5095-4444-ab5b-ea815260809e",
   "metadata": {},
   "outputs": [
    {
     "name": "stdout",
     "output_type": "stream",
     "text": [
      "139959666850624\n",
      "139959666752960\n"
     ]
    }
   ],
   "source": [
    "print(id(string_n))\n",
    "print(id(var_a))"
   ]
  },
  {
   "cell_type": "code",
   "execution_count": 49,
   "id": "2adf4754-1bf6-4ff6-8395-3fe0f69137e6",
   "metadata": {},
   "outputs": [
    {
     "data": {
      "text/plain": [
       "'hello \\tworld'"
      ]
     },
     "execution_count": 49,
     "metadata": {},
     "output_type": "execute_result"
    }
   ],
   "source": [
    "\"hello \\tworld\""
   ]
  },
  {
   "cell_type": "code",
   "execution_count": 50,
   "id": "c64f421e-425c-45eb-bdbe-7bd72c21384f",
   "metadata": {},
   "outputs": [
    {
     "data": {
      "text/plain": [
       "'hello   world'"
      ]
     },
     "execution_count": 50,
     "metadata": {},
     "output_type": "execute_result"
    }
   ],
   "source": [
    "\"hello \\tworld\".expandtabs()"
   ]
  },
  {
   "cell_type": "code",
   "execution_count": 51,
   "id": "e99ccba8-5997-4486-8a0b-9bd1fc4c3dc1",
   "metadata": {},
   "outputs": [
    {
     "data": {
      "text/plain": [
       "'Welcome to PWSkills. Welcome to Data Science Masters'"
      ]
     },
     "execution_count": 51,
     "metadata": {},
     "output_type": "execute_result"
    }
   ],
   "source": [
    "## Assignment problem\n",
    "\n",
    "str1 = \"Welcome to PWSkills. Welcome to Dat cience Masters\"\n",
    "str1.replace(\"Dat\",\"Data\").replace(\"cience\",\"Science\")"
   ]
  },
  {
   "cell_type": "code",
   "execution_count": 52,
   "id": "f887bd18-1784-45b5-9fe5-bdc55763a3ca",
   "metadata": {},
   "outputs": [
    {
     "data": {
      "text/plain": [
       "True"
      ]
     },
     "execution_count": 52,
     "metadata": {},
     "output_type": "execute_result"
    }
   ],
   "source": [
    "str1 = \"KRISH\"\n",
    "str1.isupper()"
   ]
  },
  {
   "cell_type": "code",
   "execution_count": 53,
   "id": "bb2afc42-9b93-46c4-9ae1-3e51ad6251a5",
   "metadata": {},
   "outputs": [
    {
     "data": {
      "text/plain": [
       "False"
      ]
     },
     "execution_count": 53,
     "metadata": {},
     "output_type": "execute_result"
    }
   ],
   "source": [
    "str1.islower()"
   ]
  },
  {
   "cell_type": "code",
   "execution_count": 54,
   "id": "a982b6fd-7e97-404d-afe4-e80854f7fc0b",
   "metadata": {},
   "outputs": [
    {
     "data": {
      "text/plain": [
       "False"
      ]
     },
     "execution_count": 54,
     "metadata": {},
     "output_type": "execute_result"
    }
   ],
   "source": [
    "str1.isspace()"
   ]
  },
  {
   "cell_type": "code",
   "execution_count": 55,
   "id": "eef9a572-270f-4a5c-be1f-dd5b3a92bd4f",
   "metadata": {},
   "outputs": [
    {
     "data": {
      "text/plain": [
       "True"
      ]
     },
     "execution_count": 55,
     "metadata": {},
     "output_type": "execute_result"
    }
   ],
   "source": [
    "str2 = \"PWSkills\"\n",
    "str2.endswith(\"s\")"
   ]
  },
  {
   "cell_type": "code",
   "execution_count": 57,
   "id": "f3560791-f5b1-4558-9dff-ac1268eda77e",
   "metadata": {},
   "outputs": [
    {
     "data": {
      "text/plain": [
       "False"
      ]
     },
     "execution_count": 57,
     "metadata": {},
     "output_type": "execute_result"
    }
   ],
   "source": [
    "str2.startswith(\"p\")"
   ]
  },
  {
   "cell_type": "code",
   "execution_count": 58,
   "id": "55c4e62f-f6fd-46c1-8090-becc0cc2c61f",
   "metadata": {},
   "outputs": [
    {
     "data": {
      "text/plain": [
       "True"
      ]
     },
     "execution_count": 58,
     "metadata": {},
     "output_type": "execute_result"
    }
   ],
   "source": [
    "#### check if all characters are alphanumeric\n",
    "\n",
    "a = \"abcd1234\"\n",
    "a.isalnum()"
   ]
  },
  {
   "cell_type": "code",
   "execution_count": 59,
   "id": "d2299dcb-7f1c-4c64-beed-db5d00570357",
   "metadata": {},
   "outputs": [
    {
     "name": "stdout",
     "output_type": "stream",
     "text": [
      "8\n"
     ]
    }
   ],
   "source": [
    "### count number of characters\n",
    "\n",
    "count = 0\n",
    "for i in str2:\n",
    "    count = count+1\n",
    "print(count)"
   ]
  },
  {
   "cell_type": "code",
   "execution_count": 60,
   "id": "7e831676-19cb-407d-b82e-a1b564c49406",
   "metadata": {},
   "outputs": [
    {
     "data": {
      "text/plain": [
       "8"
      ]
     },
     "execution_count": 60,
     "metadata": {},
     "output_type": "execute_result"
    }
   ],
   "source": [
    "## or use len() function\n",
    "\n",
    "len(str2)"
   ]
  },
  {
   "cell_type": "code",
   "execution_count": 61,
   "id": "ddf50794-eb8b-4ad7-af91-dc98a4703fbc",
   "metadata": {},
   "outputs": [
    {
     "name": "stdout",
     "output_type": "stream",
     "text": [
      "P\n",
      "W\n",
      "S\n",
      "k\n",
      "i\n",
      "l\n",
      "l\n",
      "s\n"
     ]
    }
   ],
   "source": [
    "for i in str2:\n",
    "    print(i)"
   ]
  },
  {
   "cell_type": "code",
   "execution_count": 62,
   "id": "96c129b6-4764-4dc3-9582-06268569a67f",
   "metadata": {},
   "outputs": [
    {
     "name": "stdout",
     "output_type": "stream",
     "text": [
      "P\n",
      "W\n",
      "S\n",
      "k\n",
      "i\n",
      "l\n",
      "l\n",
      "s\n"
     ]
    }
   ],
   "source": [
    "for i in range(len(str2)):\n",
    "    print(str2[i])"
   ]
  },
  {
   "cell_type": "markdown",
   "id": "1b1929a8-8ed4-43a7-b858-99955e8e1c83",
   "metadata": {},
   "source": [
    "Unnecessarily defining variables leads to extra space and less optimization."
   ]
  },
  {
   "cell_type": "code",
   "execution_count": 63,
   "id": "510c369a-a5e1-4b79-888b-2c35c9ededd0",
   "metadata": {},
   "outputs": [
    {
     "name": "stdout",
     "output_type": "stream",
     "text": [
      "s\n",
      "l\n",
      "l\n",
      "i\n",
      "k\n",
      "S\n",
      "W\n",
      "P\n"
     ]
    }
   ],
   "source": [
    "#### Use index to iterate string in reverse direction\n",
    "\n",
    "for i in range(len(str2)-1,-1,-1):\n",
    "    print(str2[i])"
   ]
  },
  {
   "cell_type": "code",
   "execution_count": 65,
   "id": "cf0596a7-fde1-4cb5-b850-109437095a16",
   "metadata": {},
   "outputs": [
    {
     "name": "stdout",
     "output_type": "stream",
     "text": [
      "s\n",
      "l\n",
      "l\n",
      "i\n",
      "k\n",
      "S\n",
      "W\n",
      "P\n"
     ]
    }
   ],
   "source": [
    "## another method\n",
    "\n",
    "string = \"PWSkills\"\n",
    "ch = len(string)-1\n",
    "while ch>=0:\n",
    "    print(string[ch])\n",
    "    ch = ch-1"
   ]
  },
  {
   "cell_type": "code",
   "execution_count": 66,
   "id": "e9c4fe68-455c-4e69-a626-363e24c82c4e",
   "metadata": {},
   "outputs": [
    {
     "name": "stdout",
     "output_type": "stream",
     "text": [
      "s\n",
      "l\n",
      "l\n",
      "i\n",
      "k\n",
      "S\n",
      "W\n",
      "P\n"
     ]
    }
   ],
   "source": [
    "## another way\n",
    "\n",
    "for i in range(len(string)):\n",
    "    print(string[len(string)-(i+1)])"
   ]
  },
  {
   "cell_type": "code",
   "execution_count": 67,
   "id": "73ea264c-b397-45b7-a11f-82fd32ad8ec4",
   "metadata": {},
   "outputs": [
    {
     "name": "stdout",
     "output_type": "stream",
     "text": [
      "P is not a vowel\n",
      "W is not a vowel\n",
      "S is not a vowel\n",
      "k is not a vowel\n",
      "i is a vowel.\n",
      "l is not a vowel\n",
      "l is not a vowel\n",
      "s is not a vowel\n"
     ]
    }
   ],
   "source": [
    "name = \"PWSkills\"\n",
    "vowel = \"AaEeIiOoUu\"\n",
    "\n",
    "for ch in name:\n",
    "    if ch in vowel:\n",
    "        print(\"{} is a vowel.\".format(ch))\n",
    "    else:\n",
    "        print(\"{} is not a vowel\".format(ch))"
   ]
  },
  {
   "cell_type": "markdown",
   "id": "92f557b8-b0c7-4add-9522-e912b4641b53",
   "metadata": {},
   "source": [
    "### Lists"
   ]
  },
  {
   "cell_type": "code",
   "execution_count": 68,
   "id": "3f4b0206-ce99-4490-bede-56870aab12db",
   "metadata": {},
   "outputs": [
    {
     "data": {
      "text/plain": [
       "list"
      ]
     },
     "execution_count": 68,
     "metadata": {},
     "output_type": "execute_result"
    }
   ],
   "source": [
    "type([])"
   ]
  },
  {
   "cell_type": "markdown",
   "id": "ab783efb-0f9a-4514-ad23-76d0154e8c4c",
   "metadata": {},
   "source": [
    "List is a built-in mutable sequence. It is an ordered collection of elements. "
   ]
  },
  {
   "cell_type": "code",
   "execution_count": 69,
   "id": "d085ef77-c7ee-4a92-ac2c-aa7b47a714ba",
   "metadata": {},
   "outputs": [
    {
     "data": {
      "text/plain": [
       "['P', 'W', 'S', 'k', 'i', 'l', 'l', 's']"
      ]
     },
     "execution_count": 69,
     "metadata": {},
     "output_type": "execute_result"
    }
   ],
   "source": [
    "str2 = \"PWSkills\"\n",
    "list(str2)"
   ]
  },
  {
   "cell_type": "code",
   "execution_count": 70,
   "id": "93b61284-568f-4c23-9bec-1800e3de52ff",
   "metadata": {},
   "outputs": [
    {
     "data": {
      "text/plain": [
       "['PW', 'Skills', 'Data', 'Science', 'Masters']"
      ]
     },
     "execution_count": 70,
     "metadata": {},
     "output_type": "execute_result"
    }
   ],
   "source": [
    "str1 = \"PW Skills Data Science Masters\"\n",
    "list(str1.split(\" \"))"
   ]
  },
  {
   "cell_type": "code",
   "execution_count": 72,
   "id": "12397771-91f0-4cfa-89c4-0ce0c9290bec",
   "metadata": {},
   "outputs": [
    {
     "data": {
      "text/plain": [
       "['PW', 'Skills', 'Data', 'Science', 'Masters']"
      ]
     },
     "execution_count": 72,
     "metadata": {},
     "output_type": "execute_result"
    }
   ],
   "source": [
    "str1.split(\" \")\n",
    "\n",
    "## return type of this function is by-default list"
   ]
  },
  {
   "cell_type": "code",
   "execution_count": 73,
   "id": "a713c0ac-46fc-4259-b436-f8cc1cffc489",
   "metadata": {},
   "outputs": [],
   "source": [
    "lst = str1.split(\" \")\n",
    "lst[2]=\"Datas\""
   ]
  },
  {
   "cell_type": "code",
   "execution_count": 74,
   "id": "d3a19f65-5d92-4af0-ad36-e5ffcb9a8706",
   "metadata": {},
   "outputs": [
    {
     "data": {
      "text/plain": [
       "['PW', 'Skills', 'Datas', 'Science', 'Masters']"
      ]
     },
     "execution_count": 74,
     "metadata": {},
     "output_type": "execute_result"
    }
   ],
   "source": [
    "lst"
   ]
  },
  {
   "cell_type": "code",
   "execution_count": 75,
   "id": "f333284e-5317-4267-8f92-e95e14ce1d23",
   "metadata": {},
   "outputs": [
    {
     "data": {
      "text/plain": [
       "['Masters', 'Datas', 'PW']"
      ]
     },
     "execution_count": 75,
     "metadata": {},
     "output_type": "execute_result"
    }
   ],
   "source": [
    "lst[::-2]"
   ]
  },
  {
   "cell_type": "markdown",
   "id": "6b8ad544-0420-485a-9791-88944abcb1c4",
   "metadata": {},
   "source": [
    "#### concatenation operation"
   ]
  },
  {
   "cell_type": "code",
   "execution_count": 77,
   "id": "c10c1392-6413-4c47-a370-43f298d8277f",
   "metadata": {},
   "outputs": [
    {
     "data": {
      "text/plain": [
       "['PW', 'Skills', 'Datas', 'Science', 'Masters', 'new element', 3]"
      ]
     },
     "execution_count": 77,
     "metadata": {},
     "output_type": "execute_result"
    }
   ],
   "source": [
    "lst + [\"new element\",3]"
   ]
  },
  {
   "cell_type": "code",
   "execution_count": 78,
   "id": "dc9ab1cd-b2de-4147-8570-ea5ac2517b6e",
   "metadata": {},
   "outputs": [
    {
     "data": {
      "text/plain": [
       "['PW', 'Skills', 'Datas', 'Science', 'Masters', ['new element', 3]]"
      ]
     },
     "execution_count": 78,
     "metadata": {},
     "output_type": "execute_result"
    }
   ],
   "source": [
    "lst + [[\"new element\",3]]"
   ]
  },
  {
   "cell_type": "code",
   "execution_count": 80,
   "id": "f6385a0c-a48d-40c7-acc9-c5f39f2e7996",
   "metadata": {},
   "outputs": [
    {
     "data": {
      "text/plain": [
       "['new element', 3]"
      ]
     },
     "execution_count": 80,
     "metadata": {},
     "output_type": "execute_result"
    }
   ],
   "source": [
    "lst2 = lst + [[\"new element\",3]]\n",
    "lst2[-1]"
   ]
  },
  {
   "cell_type": "code",
   "execution_count": 81,
   "id": "87f82a45-1599-48e6-93d1-a0e53f2a357c",
   "metadata": {},
   "outputs": [
    {
     "data": {
      "text/plain": [
       "'new element'"
      ]
     },
     "execution_count": 81,
     "metadata": {},
     "output_type": "execute_result"
    }
   ],
   "source": [
    "lst2[-1][0]"
   ]
  },
  {
   "cell_type": "code",
   "execution_count": 83,
   "id": "4c7eb264-1bcc-4bb1-85f3-3e2c5f56b85d",
   "metadata": {},
   "outputs": [
    {
     "name": "stdout",
     "output_type": "stream",
     "text": [
      "OK\n"
     ]
    }
   ],
   "source": [
    "if \"Science\" in lst:\n",
    "    print(\"OK\")"
   ]
  },
  {
   "cell_type": "code",
   "execution_count": 84,
   "id": "fda3f4e8-2c51-4529-8cf9-71238407355d",
   "metadata": {},
   "outputs": [
    {
     "name": "stdout",
     "output_type": "stream",
     "text": [
      "PW\n",
      "Skills\n",
      "Datas\n",
      "Science\n"
     ]
    }
   ],
   "source": [
    "for element in lst:\n",
    "    print(element)\n",
    "    if element==\"Science\":\n",
    "        break"
   ]
  },
  {
   "cell_type": "markdown",
   "id": "90a3e72d-6971-4040-b760-c308c628ec16",
   "metadata": {},
   "source": [
    "##### check elements in list "
   ]
  },
  {
   "cell_type": "code",
   "execution_count": 85,
   "id": "51fd2349-b973-4f6a-8988-c3fab78d23a1",
   "metadata": {},
   "outputs": [
    {
     "data": {
      "text/plain": [
       "True"
      ]
     },
     "execution_count": 85,
     "metadata": {},
     "output_type": "execute_result"
    }
   ],
   "source": [
    "lst = [1,2,3,4]\n",
    "4 in lst"
   ]
  },
  {
   "cell_type": "code",
   "execution_count": 86,
   "id": "3cc8eeeb-efd0-481f-a3f4-8184bc386e72",
   "metadata": {},
   "outputs": [
    {
     "data": {
      "text/plain": [
       "True"
      ]
     },
     "execution_count": 86,
     "metadata": {},
     "output_type": "execute_result"
    }
   ],
   "source": [
    "2.0 in lst"
   ]
  },
  {
   "cell_type": "code",
   "execution_count": 87,
   "id": "bf96224d-9064-4d76-9bea-fc0d97131f2d",
   "metadata": {},
   "outputs": [],
   "source": [
    "lst1 = [\"Zebra\",\"Monkey\",\"Donkey\",\"Lion\"]\n",
    "lst2 = [5,2,9,8,6,7,8]"
   ]
  },
  {
   "cell_type": "code",
   "execution_count": 88,
   "id": "4b6056db-6ab6-482a-b20f-1825b157a24a",
   "metadata": {},
   "outputs": [
    {
     "name": "stdout",
     "output_type": "stream",
     "text": [
      "Zebra\n"
     ]
    }
   ],
   "source": [
    "print(max(lst1))"
   ]
  },
  {
   "cell_type": "code",
   "execution_count": 89,
   "id": "8ed93133-d8d9-4d60-b539-7d80a6c4a3cc",
   "metadata": {},
   "outputs": [
    {
     "data": {
      "text/plain": [
       "9"
      ]
     },
     "execution_count": 89,
     "metadata": {},
     "output_type": "execute_result"
    }
   ],
   "source": [
    "max(lst2)"
   ]
  },
  {
   "cell_type": "code",
   "execution_count": 90,
   "id": "3d254f3c-0810-4e5a-afcb-1edb0d4b3cf6",
   "metadata": {},
   "outputs": [
    {
     "data": {
      "text/plain": [
       "'Donkey'"
      ]
     },
     "execution_count": 90,
     "metadata": {},
     "output_type": "execute_result"
    }
   ],
   "source": [
    "min(lst1)"
   ]
  },
  {
   "cell_type": "code",
   "execution_count": 91,
   "id": "e93d77c9-6ecb-492a-a941-a7730d2bbee1",
   "metadata": {},
   "outputs": [
    {
     "data": {
      "text/plain": [
       "2"
      ]
     },
     "execution_count": 91,
     "metadata": {},
     "output_type": "execute_result"
    }
   ],
   "source": [
    "min(lst2)"
   ]
  },
  {
   "cell_type": "code",
   "execution_count": 92,
   "id": "86c96aab-73e9-4b40-b947-21b9206498ca",
   "metadata": {},
   "outputs": [],
   "source": [
    "lst = [1,2,3,4,5,6]\n",
    "lst.append(\"PWSkills\")"
   ]
  },
  {
   "cell_type": "code",
   "execution_count": 93,
   "id": "0bbbb1f5-e260-4fdd-ae01-2337de79ae22",
   "metadata": {},
   "outputs": [
    {
     "data": {
      "text/plain": [
       "[1, 2, 3, 4, 5, 6, 'PWSkills']"
      ]
     },
     "execution_count": 93,
     "metadata": {},
     "output_type": "execute_result"
    }
   ],
   "source": [
    "lst"
   ]
  },
  {
   "cell_type": "code",
   "execution_count": 94,
   "id": "dd04f3e9-1ee0-4708-91a7-0d1b6d211f0e",
   "metadata": {},
   "outputs": [
    {
     "data": {
      "text/plain": [
       "[1, 2, 3, 4, 5, 6, 'PWSkills', 1, 2, 3, 4, 5, 6, 'PWSkills']"
      ]
     },
     "execution_count": 94,
     "metadata": {},
     "output_type": "execute_result"
    }
   ],
   "source": [
    "lst*2"
   ]
  },
  {
   "cell_type": "code",
   "execution_count": 95,
   "id": "eb88b81d-e840-4a3d-8c96-104954de0cef",
   "metadata": {},
   "outputs": [
    {
     "data": {
      "text/plain": [
       "'Lion'"
      ]
     },
     "execution_count": 95,
     "metadata": {},
     "output_type": "execute_result"
    }
   ],
   "source": [
    "lst1 = [\"Zebra\",\"Monkey\",\"Donkey\",\"Lion\"]\n",
    "lst1.pop()"
   ]
  },
  {
   "cell_type": "code",
   "execution_count": 96,
   "id": "c71d9f75-3a48-4453-b888-9462200039ec",
   "metadata": {},
   "outputs": [
    {
     "data": {
      "text/plain": [
       "['Zebra', 'Monkey', 'Donkey']"
      ]
     },
     "execution_count": 96,
     "metadata": {},
     "output_type": "execute_result"
    }
   ],
   "source": [
    "lst1"
   ]
  },
  {
   "cell_type": "code",
   "execution_count": 97,
   "id": "e9a2fd4d-42fe-42dd-80f7-c4d1959a4c61",
   "metadata": {},
   "outputs": [
    {
     "data": {
      "text/plain": [
       "'Donkey'"
      ]
     },
     "execution_count": 97,
     "metadata": {},
     "output_type": "execute_result"
    }
   ],
   "source": [
    "lst1.pop(2)"
   ]
  },
  {
   "cell_type": "code",
   "execution_count": 98,
   "id": "f10ff6e9-ff51-44da-b68b-fa70520435d0",
   "metadata": {},
   "outputs": [
    {
     "data": {
      "text/plain": [
       "['Zebra', 'Monkey']"
      ]
     },
     "execution_count": 98,
     "metadata": {},
     "output_type": "execute_result"
    }
   ],
   "source": [
    "lst1"
   ]
  },
  {
   "cell_type": "code",
   "execution_count": 99,
   "id": "f7b4b690-90a5-4c92-ae83-40f840a7c596",
   "metadata": {},
   "outputs": [
    {
     "data": {
      "text/plain": [
       "['u', 't', 's', 'f', 'e', 'q']"
      ]
     },
     "execution_count": 99,
     "metadata": {},
     "output_type": "execute_result"
    }
   ],
   "source": [
    "#### sorting and reverse method\n",
    "\n",
    "new_list = [\"q\",\"e\",\"f\",\"s\",\"t\",\"u\"]\n",
    "new_list[::-1]"
   ]
  },
  {
   "cell_type": "code",
   "execution_count": 100,
   "id": "b860e490-47e7-4447-9b5c-abaea1ee004b",
   "metadata": {},
   "outputs": [],
   "source": [
    "## inplace operation\n",
    "\n",
    "new_list.reverse()"
   ]
  },
  {
   "cell_type": "code",
   "execution_count": 101,
   "id": "93ed8b58-0fdf-4c03-a8e0-74ff8f9324ce",
   "metadata": {},
   "outputs": [
    {
     "data": {
      "text/plain": [
       "['u', 't', 's', 'f', 'e', 'q']"
      ]
     },
     "execution_count": 101,
     "metadata": {},
     "output_type": "execute_result"
    }
   ],
   "source": [
    "new_list"
   ]
  },
  {
   "cell_type": "code",
   "execution_count": 102,
   "id": "cf05f216-8f70-44ae-8332-b7f27bc70ca2",
   "metadata": {},
   "outputs": [],
   "source": [
    "new_list.sort()"
   ]
  },
  {
   "cell_type": "code",
   "execution_count": 103,
   "id": "1ac61a11-ee6c-4c4c-a075-317c849667c9",
   "metadata": {},
   "outputs": [
    {
     "data": {
      "text/plain": [
       "['e', 'f', 'q', 's', 't', 'u']"
      ]
     },
     "execution_count": 103,
     "metadata": {},
     "output_type": "execute_result"
    }
   ],
   "source": [
    "new_list"
   ]
  },
  {
   "cell_type": "code",
   "execution_count": 104,
   "id": "3f45a9e9-f4fc-4aa5-bf43-ff682a9dd2ca",
   "metadata": {},
   "outputs": [],
   "source": [
    "new_list.sort(reverse = True)"
   ]
  },
  {
   "cell_type": "code",
   "execution_count": 105,
   "id": "771dba56-0bd0-4932-8675-939b62a151a0",
   "metadata": {},
   "outputs": [
    {
     "data": {
      "text/plain": [
       "['u', 't', 's', 'q', 'f', 'e']"
      ]
     },
     "execution_count": 105,
     "metadata": {},
     "output_type": "execute_result"
    }
   ],
   "source": [
    "new_list"
   ]
  },
  {
   "cell_type": "code",
   "execution_count": 106,
   "id": "d8894c95-f501-496e-85f7-8404e13a21f6",
   "metadata": {},
   "outputs": [],
   "source": [
    "lst = [1,2,3,4,5,6]\n",
    "lst.append(10)"
   ]
  },
  {
   "cell_type": "code",
   "execution_count": 107,
   "id": "3190a92f-4dce-499b-bb5f-ed5bdee6e966",
   "metadata": {},
   "outputs": [
    {
     "data": {
      "text/plain": [
       "[1, 2, 3, 4, 5, 6, 10]"
      ]
     },
     "execution_count": 107,
     "metadata": {},
     "output_type": "execute_result"
    }
   ],
   "source": [
    "lst"
   ]
  },
  {
   "cell_type": "code",
   "execution_count": 108,
   "id": "d9d422d6-da75-45db-b25c-e631d1580e83",
   "metadata": {},
   "outputs": [],
   "source": [
    "lst.append([\"PW\",\"Skills\"])"
   ]
  },
  {
   "cell_type": "code",
   "execution_count": 109,
   "id": "cfada948-ecbe-41cd-bbe7-c00f04be5fe4",
   "metadata": {},
   "outputs": [
    {
     "data": {
      "text/plain": [
       "[1, 2, 3, 4, 5, 6, 10, ['PW', 'Skills']]"
      ]
     },
     "execution_count": 109,
     "metadata": {},
     "output_type": "execute_result"
    }
   ],
   "source": [
    "lst"
   ]
  },
  {
   "cell_type": "code",
   "execution_count": 110,
   "id": "8c5a50af-e914-4075-8ef2-5bd597031aa5",
   "metadata": {},
   "outputs": [],
   "source": [
    "lst = [1,2,3,4,5,6,10]\n",
    "lst.extend([\"PW\",\"Skills\"])"
   ]
  },
  {
   "cell_type": "code",
   "execution_count": 111,
   "id": "2943fff5-f423-4c30-9c53-c963e1d7cb54",
   "metadata": {},
   "outputs": [
    {
     "data": {
      "text/plain": [
       "[1, 2, 3, 4, 5, 6, 10, 'PW', 'Skills']"
      ]
     },
     "execution_count": 111,
     "metadata": {},
     "output_type": "execute_result"
    }
   ],
   "source": [
    "lst"
   ]
  },
  {
   "cell_type": "markdown",
   "id": "f1ca2b82-7f45-4e64-ba2d-50c0de2e18f4",
   "metadata": {},
   "source": [
    "#### Nested lists"
   ]
  },
  {
   "cell_type": "code",
   "execution_count": 113,
   "id": "bc72d572-95dc-4900-8d51-522782a3a241",
   "metadata": {},
   "outputs": [],
   "source": [
    "lst_1 = [1,2,3]\n",
    "lst_2 = [4,5,6]\n",
    "lst_3 = [7,8,9]\n",
    "\n",
    "matrix = [lst_1,lst_2,lst_3]"
   ]
  },
  {
   "cell_type": "code",
   "execution_count": 114,
   "id": "5a43b451-3a80-46ea-a8b9-95a7837be6cd",
   "metadata": {},
   "outputs": [
    {
     "data": {
      "text/plain": [
       "[[1, 2, 3], [4, 5, 6], [7, 8, 9]]"
      ]
     },
     "execution_count": 114,
     "metadata": {},
     "output_type": "execute_result"
    }
   ],
   "source": [
    "matrix"
   ]
  },
  {
   "cell_type": "code",
   "execution_count": 115,
   "id": "2c67452b-6579-4ddc-88bd-4b49a4185f46",
   "metadata": {},
   "outputs": [
    {
     "data": {
      "text/plain": [
       "6"
      ]
     },
     "execution_count": 115,
     "metadata": {},
     "output_type": "execute_result"
    }
   ],
   "source": [
    "matrix[1][2]"
   ]
  },
  {
   "cell_type": "code",
   "execution_count": 116,
   "id": "9eb15c1d-c941-4f95-a0b0-05d284208f3f",
   "metadata": {},
   "outputs": [
    {
     "data": {
      "text/plain": [
       "[8, 9]"
      ]
     },
     "execution_count": 116,
     "metadata": {},
     "output_type": "execute_result"
    }
   ],
   "source": [
    "matrix[2][1:]"
   ]
  },
  {
   "cell_type": "code",
   "execution_count": 117,
   "id": "e5c27dff-be12-47d1-adc6-bfaf50529981",
   "metadata": {},
   "outputs": [
    {
     "data": {
      "text/plain": [
       "[[1, 2, 3], [4, 5, 6], [7, 8, 9]]"
      ]
     },
     "execution_count": 117,
     "metadata": {},
     "output_type": "execute_result"
    }
   ],
   "source": [
    "matrix[:]"
   ]
  },
  {
   "cell_type": "markdown",
   "id": "e6e44382-6b1b-4940-a9f7-acf7943dc2ee",
   "metadata": {},
   "source": [
    "#### List comprehension"
   ]
  },
  {
   "cell_type": "code",
   "execution_count": 118,
   "id": "df9be0c4-ba9c-4d75-9299-aa9af50281b6",
   "metadata": {},
   "outputs": [
    {
     "data": {
      "text/plain": [
       "[0, 1, 2, 3, 4, 5, 6, 7, 8, 9, 10, 11, 12, 13, 14, 15, 16, 17, 18, 19]"
      ]
     },
     "execution_count": 118,
     "metadata": {},
     "output_type": "execute_result"
    }
   ],
   "source": [
    "[i for i in range(20)]"
   ]
  },
  {
   "cell_type": "code",
   "execution_count": 120,
   "id": "d8dcfb6f-09ba-426e-a7ca-f050a38c804d",
   "metadata": {},
   "outputs": [
    {
     "data": {
      "text/plain": [
       "[0, '', 2, '', 4, '', 6, '', 8, '', 10, '', 12, '', 14, '', 16, '', 18, '']"
      ]
     },
     "execution_count": 120,
     "metadata": {},
     "output_type": "execute_result"
    }
   ],
   "source": [
    "[i if i%2==0 else \"\" for i in range(0,20)]"
   ]
  },
  {
   "cell_type": "code",
   "execution_count": 121,
   "id": "f8ed197a-3f79-4015-a2e6-557e503a0d86",
   "metadata": {},
   "outputs": [
    {
     "name": "stdout",
     "output_type": "stream",
     "text": [
      "20\n",
      "16\n"
     ]
    }
   ],
   "source": [
    "lst = [1,2,3,4,5,6,7,8]\n",
    "\n",
    "even_sum = 0\n",
    "odd_sum = 0\n",
    "\n",
    "for i in lst:\n",
    "    if i%2==0:\n",
    "        even_sum+=i\n",
    "    else:\n",
    "        odd_sum+=i\n",
    "        \n",
    "print(even_sum)\n",
    "print(odd_sum)"
   ]
  },
  {
   "cell_type": "code",
   "execution_count": 122,
   "id": "faa7485b-5d56-485d-b18d-be888aee1eba",
   "metadata": {},
   "outputs": [
    {
     "data": {
      "text/plain": [
       "[2, 4, 6, 8]"
      ]
     },
     "execution_count": 122,
     "metadata": {},
     "output_type": "execute_result"
    }
   ],
   "source": [
    "[num for num in lst if num%2==0]"
   ]
  },
  {
   "cell_type": "code",
   "execution_count": 124,
   "id": "96d5f628-4c16-4cd0-a9a9-f6018b7bcd8a",
   "metadata": {},
   "outputs": [
    {
     "data": {
      "text/plain": [
       "20"
      ]
     },
     "execution_count": 124,
     "metadata": {},
     "output_type": "execute_result"
    }
   ],
   "source": [
    "even_sum = sum([num for num in lst if num%2==0])\n",
    "even_sum"
   ]
  },
  {
   "cell_type": "code",
   "execution_count": 125,
   "id": "edc850e1-c8e3-4d2e-b04d-250eb20404b5",
   "metadata": {},
   "outputs": [
    {
     "data": {
      "text/plain": [
       "16"
      ]
     },
     "execution_count": 125,
     "metadata": {},
     "output_type": "execute_result"
    }
   ],
   "source": [
    "odd_sum = sum([num for num in lst if num%2!=0])\n",
    "odd_sum"
   ]
  },
  {
   "cell_type": "code",
   "execution_count": 127,
   "id": "c6f54918-edb8-472e-a616-c61440de142a",
   "metadata": {},
   "outputs": [
    {
     "data": {
      "text/plain": [
       "[1, 4, 9, 16, 25, 36, 49, 64, 81, 100]"
      ]
     },
     "execution_count": 127,
     "metadata": {},
     "output_type": "execute_result"
    }
   ],
   "source": [
    "## list of squares \n",
    "\n",
    "lst = [1,2,3,4,5,6,7,8,9,10]\n",
    "[num**2 for num in lst]"
   ]
  },
  {
   "cell_type": "code",
   "execution_count": 128,
   "id": "9497cb59-ad75-4ef9-b282-8667132355ff",
   "metadata": {},
   "outputs": [
    {
     "data": {
      "text/plain": [
       "[1, 2, 3, 4]"
      ]
     },
     "execution_count": 128,
     "metadata": {},
     "output_type": "execute_result"
    }
   ],
   "source": [
    "## positive numbers from given list\n",
    "\n",
    "numbers = [-2,-1,0,1,2,3,4]\n",
    "[num for num in numbers if num>0]"
   ]
  },
  {
   "cell_type": "code",
   "execution_count": 129,
   "id": "ede3fdb9-b648-4866-a21f-a0e940d19769",
   "metadata": {},
   "outputs": [
    {
     "data": {
      "text/plain": [
       "['a', 'b', 'c', 'd']"
      ]
     },
     "execution_count": 129,
     "metadata": {},
     "output_type": "execute_result"
    }
   ],
   "source": [
    "## list of only first letters of words\n",
    "\n",
    "words = [\"apple\",\"banana\",\"cherry\",\"date\"]\n",
    "[word[0] for word in words]"
   ]
  },
  {
   "cell_type": "code",
   "execution_count": 130,
   "id": "16712e02-e985-44ce-8785-06d4fb68868a",
   "metadata": {},
   "outputs": [
    {
     "data": {
      "text/plain": [
       "[32.0, 50.0, 68.0, 86.0, 104.0, 122.0]"
      ]
     },
     "execution_count": 130,
     "metadata": {},
     "output_type": "execute_result"
    }
   ],
   "source": [
    "## convert celsius to fahrenheit\n",
    "\n",
    "celsius_temp = [0,10,20,30,40,50]\n",
    "[(9/5)*temp + 32 for temp in celsius_temp]"
   ]
  },
  {
   "cell_type": "code",
   "execution_count": 131,
   "id": "3449fed5-145c-4931-96fa-87e71397e65e",
   "metadata": {},
   "outputs": [],
   "source": [
    "## flatten list of lists into single list\n",
    "lists = [[1,2,3],[4,5,6],[7,8,9]]"
   ]
  },
  {
   "cell_type": "code",
   "execution_count": 132,
   "id": "42c09e02-8556-4df8-b5d9-abe2da4fea9d",
   "metadata": {},
   "outputs": [
    {
     "data": {
      "text/plain": [
       "[1, 2, 3, 4, 5, 6, 7, 8, 9]"
      ]
     },
     "execution_count": 132,
     "metadata": {},
     "output_type": "execute_result"
    }
   ],
   "source": [
    "[num for sublist in lists for num in sublist]"
   ]
  },
  {
   "cell_type": "code",
   "execution_count": 133,
   "id": "b8ddf3aa-56d0-4a1e-a951-fb99cdc28632",
   "metadata": {},
   "outputs": [],
   "source": [
    "### assignment question 1\n",
    "## create a list of only prime numbers from given list \n",
    "\n",
    "numbers = [1,2,3,4,5,6,7,8,9,10]"
   ]
  },
  {
   "cell_type": "code",
   "execution_count": 135,
   "id": "d4573a17-46e4-42d1-ae4d-f323df86055f",
   "metadata": {},
   "outputs": [
    {
     "name": "stdout",
     "output_type": "stream",
     "text": [
      "[2, 3, 5, 7]\n"
     ]
    }
   ],
   "source": [
    "## method 1\n",
    "lst = []\n",
    "for i in numbers:\n",
    "    if all(i%j!=0 for j in range(2,i)) and i>1:\n",
    "        lst.append(i)\n",
    "        \n",
    "print(lst)"
   ]
  },
  {
   "cell_type": "code",
   "execution_count": 136,
   "id": "902002f8-bdc6-4418-a02f-292e0b66bf20",
   "metadata": {},
   "outputs": [
    {
     "name": "stdout",
     "output_type": "stream",
     "text": [
      "[2, 3, 5, 7]\n"
     ]
    }
   ],
   "source": [
    "## method 2\n",
    "\n",
    "lst = []\n",
    "for i in numbers:\n",
    "    count = 0\n",
    "    for j in range(1,i+1):\n",
    "        if i%j==0:\n",
    "            count+=1\n",
    "            \n",
    "    if count<=2:\n",
    "        if i>1:\n",
    "            lst.append(i)\n",
    "            \n",
    "print(lst)"
   ]
  },
  {
   "cell_type": "code",
   "execution_count": 137,
   "id": "7aac6f07-eb87-4d5b-aef1-12555dcda56d",
   "metadata": {},
   "outputs": [
    {
     "data": {
      "text/plain": [
       "[2, 3, 5, 7]"
      ]
     },
     "execution_count": 137,
     "metadata": {},
     "output_type": "execute_result"
    }
   ],
   "source": [
    "## method 3 - using list comprehension\n",
    "\n",
    "[i for i in numbers if all(i%j!=0 for j in range(2,i)) and i>1]"
   ]
  },
  {
   "cell_type": "code",
   "execution_count": 138,
   "id": "4689f636-5dc2-4f44-9950-c8c1df16ed73",
   "metadata": {},
   "outputs": [],
   "source": [
    "## ques 2\n",
    "## list of all possible combinations of 2 elements from list\n",
    "\n",
    "numbers = [1,2,3,4,5]"
   ]
  },
  {
   "cell_type": "code",
   "execution_count": 140,
   "id": "f4ceb200-8b32-4942-a767-ac344b87d01d",
   "metadata": {},
   "outputs": [
    {
     "name": "stdout",
     "output_type": "stream",
     "text": [
      "[(1, 1), (1, 2), (1, 3), (1, 4), (1, 5), (2, 1), (2, 2), (2, 3), (2, 4), (2, 5), (3, 1), (3, 2), (3, 3), (3, 4), (3, 5), (4, 1), (4, 2), (4, 3), (4, 4), (4, 5), (5, 1), (5, 2), (5, 3), (5, 4), (5, 5)]\n"
     ]
    }
   ],
   "source": [
    "## method 1\n",
    "lst = []\n",
    "for k in numbers:\n",
    "    for l in numbers:\n",
    "        lst.append((k,l))\n",
    "        \n",
    "print(lst)"
   ]
  },
  {
   "cell_type": "code",
   "execution_count": 143,
   "id": "fb31e78f-ee72-439f-9bda-b53ef8fdbf19",
   "metadata": {},
   "outputs": [
    {
     "name": "stdout",
     "output_type": "stream",
     "text": [
      "[(1, 1), (1, 2), (1, 3), (1, 4), (1, 5), (2, 1), (2, 2), (2, 3), (2, 4), (2, 5), (3, 1), (3, 2), (3, 3), (3, 4), (3, 5), (4, 1), (4, 2), (4, 3), (4, 4), (4, 5), (5, 1), (5, 2), (5, 3), (5, 4), (5, 5)]\n"
     ]
    }
   ],
   "source": [
    "## method 2\n",
    "\n",
    "print([(i,j) for i in numbers for j in numbers])"
   ]
  },
  {
   "cell_type": "code",
   "execution_count": null,
   "id": "2699fe8c-76af-4101-9e78-5c8490d63301",
   "metadata": {},
   "outputs": [],
   "source": []
  }
 ],
 "metadata": {
  "kernelspec": {
   "display_name": "Python 3 (ipykernel)",
   "language": "python",
   "name": "python3"
  },
  "language_info": {
   "codemirror_mode": {
    "name": "ipython",
    "version": 3
   },
   "file_extension": ".py",
   "mimetype": "text/x-python",
   "name": "python",
   "nbconvert_exporter": "python",
   "pygments_lexer": "ipython3",
   "version": "3.10.8"
  }
 },
 "nbformat": 4,
 "nbformat_minor": 5
}

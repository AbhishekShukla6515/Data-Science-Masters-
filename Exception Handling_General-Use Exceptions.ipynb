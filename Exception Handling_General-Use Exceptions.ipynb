{
 "cells": [
  {
   "cell_type": "markdown",
   "id": "3317e06f-06b9-458e-849d-51665cd589b3",
   "metadata": {},
   "source": [
    "# List of General Use Exceptions"
   ]
  },
  {
   "cell_type": "code",
   "execution_count": 2,
   "id": "59f9b560-ba13-4225-aa1b-2154bfe0ea99",
   "metadata": {},
   "outputs": [
    {
     "name": "stdout",
     "output_type": "stream",
     "text": [
      "division by zero\n"
     ]
    }
   ],
   "source": [
    "try:\n",
    "    a = 10\n",
    "    10/0\n",
    "except ZeroDivisionError as e:\n",
    "    print(e)"
   ]
  },
  {
   "cell_type": "code",
   "execution_count": 3,
   "id": "6f72c201-3e76-4305-9627-3e73069dc1d8",
   "metadata": {},
   "outputs": [
    {
     "name": "stdout",
     "output_type": "stream",
     "text": [
      "invalid literal for int() with base 10: 'sudh'\n"
     ]
    }
   ],
   "source": [
    "try:\n",
    "    int(\"sudh\")\n",
    "except (ValueError, TypeError) as e:\n",
    "    print(e)"
   ]
  },
  {
   "cell_type": "code",
   "execution_count": 4,
   "id": "2c151003-446c-4440-aea3-704ad28c937d",
   "metadata": {},
   "outputs": [
    {
     "name": "stdout",
     "output_type": "stream",
     "text": [
      "This will catch an error.\n"
     ]
    }
   ],
   "source": [
    "try:\n",
    "    int(\"sudh\")\n",
    "except :\n",
    "    print(\"This will catch an error.\")"
   ]
  },
  {
   "cell_type": "markdown",
   "id": "9d512203-18dd-4be2-9ec0-241e8c50d227",
   "metadata": {},
   "source": [
    "In the above code, this is not a good practice. Whenever we are using try-except, then we are supposed to mention the type of the error specifically."
   ]
  },
  {
   "cell_type": "code",
   "execution_count": 5,
   "id": "a86bed05-3383-41d5-a61c-5cdb9df8c973",
   "metadata": {},
   "outputs": [
    {
     "name": "stdout",
     "output_type": "stream",
     "text": [
      "No module named 'sudh'\n"
     ]
    }
   ],
   "source": [
    "try:\n",
    "    import sudh\n",
    "except ImportError as e:\n",
    "    print(e)"
   ]
  },
  {
   "cell_type": "code",
   "execution_count": 6,
   "id": "39978401-1e87-423c-b01f-714fb0736c6a",
   "metadata": {},
   "outputs": [
    {
     "name": "stdout",
     "output_type": "stream",
     "text": [
      "'key10'\n"
     ]
    }
   ],
   "source": [
    "try:\n",
    "    d = {1 : [3,4,5,6],\"key\" : \"sudh\"}\n",
    "    d[\"key10\"]\n",
    "except KeyError as e:\n",
    "    print(e)"
   ]
  },
  {
   "cell_type": "code",
   "execution_count": 7,
   "id": "972cc9a6-6d31-4218-bf7a-27665f1ae4a8",
   "metadata": {},
   "outputs": [
    {
     "name": "stdout",
     "output_type": "stream",
     "text": [
      "'str' object has no attribute 'test'\n"
     ]
    }
   ],
   "source": [
    "try:\n",
    "    \"sudh\".test()\n",
    "except AttributeError as e:\n",
    "    print(e)"
   ]
  },
  {
   "cell_type": "code",
   "execution_count": 8,
   "id": "56606390-2550-46db-954a-e42dfe70858d",
   "metadata": {},
   "outputs": [
    {
     "name": "stdout",
     "output_type": "stream",
     "text": [
      "list index out of range\n"
     ]
    }
   ],
   "source": [
    "try:\n",
    "    l = [1,2,3,3]\n",
    "    l[10]\n",
    "except IndexError as e:\n",
    "    print(e)"
   ]
  },
  {
   "cell_type": "code",
   "execution_count": 9,
   "id": "56c89b18-f9ae-47e8-9a0b-ea257be66fa9",
   "metadata": {},
   "outputs": [
    {
     "name": "stdout",
     "output_type": "stream",
     "text": [
      "unsupported operand type(s) for +: 'int' and 'str'\n"
     ]
    }
   ],
   "source": [
    "try:\n",
    "    123 + \"sudh\"\n",
    "except TypeError as e:\n",
    "    print(e)"
   ]
  },
  {
   "cell_type": "code",
   "execution_count": 10,
   "id": "28d9f4c6-5185-4726-b48c-6d58ce11ec98",
   "metadata": {},
   "outputs": [
    {
     "name": "stdout",
     "output_type": "stream",
     "text": [
      "[Errno 2] No such file or directory: 'test.txt'\n"
     ]
    }
   ],
   "source": [
    "try:\n",
    "    with open(\"test.txt\",\"r\") as f:\n",
    "        f.read()\n",
    "except FileNotFoundError as e:\n",
    "    print(e)"
   ]
  },
  {
   "cell_type": "code",
   "execution_count": 11,
   "id": "7970315e-d28c-4fb9-93e3-305e164f9522",
   "metadata": {},
   "outputs": [
    {
     "name": "stdout",
     "output_type": "stream",
     "text": [
      "Test : [Errno 2] No such file or directory: 'test.txt'\n"
     ]
    }
   ],
   "source": [
    "try:\n",
    "    with open(\"test.txt\",\"r\") as f:\n",
    "        f.read()\n",
    "except Exception as e:\n",
    "    print(\"Test :\",e)\n",
    "except FileNotFoundError as e:\n",
    "    print(\"This is my file not found type error :\",e)"
   ]
  },
  {
   "cell_type": "markdown",
   "id": "138f63b2-ab26-4699-a4d7-9044949a942b",
   "metadata": {},
   "source": [
    "Exception is a super-class. So if we are trying to write Exception class or super-class in the very first place, so it is going to work on Exception class, and it will not come to the specific one. \n",
    "* However, we are not supposed to write a super-class in a very first place. Super-class will be able to handle any number of errors automatically."
   ]
  },
  {
   "cell_type": "code",
   "execution_count": 12,
   "id": "51519d31-0059-4c38-b9e1-998fad8dcff1",
   "metadata": {},
   "outputs": [],
   "source": [
    "def test(file):\n",
    "    try:\n",
    "        with open(\"test.txt\",\"r\") as f:\n",
    "            f.read()\n",
    "    except FileNotFoundError as e:\n",
    "        print(\"This is my file not found type error :\",e)"
   ]
  },
  {
   "cell_type": "code",
   "execution_count": null,
   "id": "c780fb9f-77db-4710-ab29-10cec59ec879",
   "metadata": {},
   "outputs": [],
   "source": []
  }
 ],
 "metadata": {
  "kernelspec": {
   "display_name": "Python 3 (ipykernel)",
   "language": "python",
   "name": "python3"
  },
  "language_info": {
   "codemirror_mode": {
    "name": "ipython",
    "version": 3
   },
   "file_extension": ".py",
   "mimetype": "text/x-python",
   "name": "python",
   "nbconvert_exporter": "python",
   "pygments_lexer": "ipython3",
   "version": "3.10.8"
  }
 },
 "nbformat": 4,
 "nbformat_minor": 5
}

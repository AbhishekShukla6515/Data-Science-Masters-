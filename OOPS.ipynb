{
 "cells": [
  {
   "cell_type": "markdown",
   "id": "6ef9128d-64a7-4f28-9ed9-1e60dc1f8b48",
   "metadata": {},
   "source": [
    "# OOPS"
   ]
  },
  {
   "cell_type": "code",
   "execution_count": 38,
   "id": "8de7de44-bae7-4d66-bd55-e84fa1bee80f",
   "metadata": {},
   "outputs": [],
   "source": [
    "a = 1"
   ]
  },
  {
   "cell_type": "code",
   "execution_count": 39,
   "id": "4b79e86e-0539-44c5-8884-92433a69ebd1",
   "metadata": {},
   "outputs": [
    {
     "name": "stdout",
     "output_type": "stream",
     "text": [
      "<class 'int'>\n"
     ]
    }
   ],
   "source": [
    "print(type(a))"
   ]
  },
  {
   "cell_type": "markdown",
   "id": "ec653b52-d95e-4cd9-93b1-e590f4072f59",
   "metadata": {},
   "source": [
    "This belongs to a class \"integer\""
   ]
  },
  {
   "cell_type": "code",
   "execution_count": 40,
   "id": "258a835a-ea41-4e6a-8228-65bca47c2360",
   "metadata": {},
   "outputs": [
    {
     "name": "stdout",
     "output_type": "stream",
     "text": [
      "<class 'str'>\n"
     ]
    }
   ],
   "source": [
    "print(type(\"pwskills\"))"
   ]
  },
  {
   "cell_type": "markdown",
   "id": "d11c10ed-0db1-4f40-8fa6-ff958b50fb70",
   "metadata": {},
   "source": [
    "This belongs to class \"string\""
   ]
  },
  {
   "cell_type": "markdown",
   "id": "cdf173e1-8e75-4e3c-8d2c-e6a92a615b4a",
   "metadata": {},
   "source": [
    "#### Class"
   ]
  },
  {
   "cell_type": "markdown",
   "id": "6fb41280-e769-4ccb-9b42-0430fe4ec1e7",
   "metadata": {},
   "source": [
    "A class is a classification of a real-world entity or a blueprint"
   ]
  },
  {
   "cell_type": "markdown",
   "id": "1da10c20-203c-422e-bf53-c5981402a60f",
   "metadata": {},
   "source": [
    "In the case of code, it is better for us to segregate all the codes in different modules. \n",
    "For example, writing front-end code in one module, writing backend code in another module, and writing database connectivity code in one singe module. "
   ]
  },
  {
   "cell_type": "markdown",
   "id": "242583f0-86b3-4c5b-95a9-99fc22925c5b",
   "metadata": {},
   "source": [
    "In this case - \n",
    "* Our code will be clean\n",
    "* Code will be maintainable\n",
    "* We can reuse our code again and again\n",
    "* Easy for someone else to understand and start working in our project"
   ]
  },
  {
   "cell_type": "markdown",
   "id": "8aa66c4d-dbdc-40fb-8a1e-39be506142f4",
   "metadata": {},
   "source": [
    "We will able to make our code simpler, and we can enhance the quality of our code. And code cleaning can be done in easiest possible way."
   ]
  },
  {
   "cell_type": "code",
   "execution_count": 43,
   "id": "8c2271b5-cd07-4b37-965d-c7f6c4b960cf",
   "metadata": {},
   "outputs": [
    {
     "ename": "SyntaxError",
     "evalue": "incomplete input (671290132.py, line 4)",
     "output_type": "error",
     "traceback": [
      "\u001b[0;36m  Cell \u001b[0;32mIn[43], line 4\u001b[0;36m\u001b[0m\n\u001b[0;31m    \u001b[0m\n\u001b[0m    ^\u001b[0m\n\u001b[0;31mSyntaxError\u001b[0m\u001b[0;31m:\u001b[0m incomplete input\n"
     ]
    }
   ],
   "source": [
    "## this will raise error\n",
    " \n",
    "class test:\n",
    "    "
   ]
  },
  {
   "cell_type": "code",
   "execution_count": 44,
   "id": "e41913f2-3d4f-4cac-bf67-79f1dd05ad06",
   "metadata": {},
   "outputs": [],
   "source": [
    "class test:\n",
    "    pass"
   ]
  },
  {
   "cell_type": "code",
   "execution_count": 45,
   "id": "d5399790-0656-442f-ae21-926cfca22711",
   "metadata": {},
   "outputs": [],
   "source": [
    "a = test()"
   ]
  },
  {
   "cell_type": "code",
   "execution_count": 47,
   "id": "8d40e283-4efa-4161-bfec-4fd166dfca49",
   "metadata": {},
   "outputs": [
    {
     "name": "stdout",
     "output_type": "stream",
     "text": [
      "<class '__main__.test'>\n"
     ]
    }
   ],
   "source": [
    "print(type(a))"
   ]
  },
  {
   "cell_type": "markdown",
   "id": "98516736-ad1d-4590-9ef4-57bca0e7569e",
   "metadata": {},
   "source": [
    "Here, \"a\" is called an object, a real world entity.\n",
    "It will called as an object of class \"test\" or instance of class \"test\""
   ]
  },
  {
   "cell_type": "code",
   "execution_count": 54,
   "id": "683f3cd0-f677-4a97-bc2f-8d5ca326c8fa",
   "metadata": {},
   "outputs": [],
   "source": [
    "class pwskills:\n",
    "    \n",
    "    def welcome_msg(self):\n",
    "        print(\"Welcome to PWSkills\")"
   ]
  },
  {
   "cell_type": "code",
   "execution_count": 55,
   "id": "8cbd8c3b-8f48-4b91-bd6d-d46877ef07ce",
   "metadata": {},
   "outputs": [],
   "source": [
    "rohan = pwskills()"
   ]
  },
  {
   "cell_type": "code",
   "execution_count": 56,
   "id": "77adb9b7-be78-4e17-9e96-763cb217b606",
   "metadata": {},
   "outputs": [
    {
     "name": "stdout",
     "output_type": "stream",
     "text": [
      "Welcome to PWSkills\n"
     ]
    }
   ],
   "source": [
    "rohan.welcome_msg()"
   ]
  },
  {
   "cell_type": "markdown",
   "id": "60a28c8c-4563-4af2-952f-99f2c0b6778f",
   "metadata": {},
   "source": [
    "Whenever we are trying to create any function inside a class, we are supposed to give a pointer or a reference. Then, the class will be able to bind this method."
   ]
  },
  {
   "cell_type": "code",
   "execution_count": 57,
   "id": "ba48390d-1385-45af-8db8-ab802cde4440",
   "metadata": {},
   "outputs": [],
   "source": [
    "sohan = pwskills()"
   ]
  },
  {
   "cell_type": "code",
   "execution_count": 58,
   "id": "bb708c3b-b016-4153-a49d-aad5fecebcbe",
   "metadata": {},
   "outputs": [
    {
     "name": "stdout",
     "output_type": "stream",
     "text": [
      "Welcome to PWSkills\n"
     ]
    }
   ],
   "source": [
    "sohan.welcome_msg()"
   ]
  },
  {
   "cell_type": "code",
   "execution_count": 59,
   "id": "15335451-1878-4aa9-a69f-482e78e810d1",
   "metadata": {},
   "outputs": [],
   "source": [
    "a = 1\n",
    "b = 2"
   ]
  },
  {
   "cell_type": "code",
   "execution_count": 60,
   "id": "6b467c0e-bb30-4cbc-ba15-72f565fdcec5",
   "metadata": {},
   "outputs": [
    {
     "data": {
      "text/plain": [
       "1"
      ]
     },
     "execution_count": 60,
     "metadata": {},
     "output_type": "execute_result"
    }
   ],
   "source": [
    "a"
   ]
  },
  {
   "cell_type": "code",
   "execution_count": 61,
   "id": "2d64540f-4901-4932-ba11-f99ac5351ff5",
   "metadata": {},
   "outputs": [
    {
     "data": {
      "text/plain": [
       "2"
      ]
     },
     "execution_count": 61,
     "metadata": {},
     "output_type": "execute_result"
    }
   ],
   "source": [
    "b"
   ]
  },
  {
   "cell_type": "markdown",
   "id": "badcf61f-8f4a-468f-b835-4cb095fbf49f",
   "metadata": {},
   "source": [
    "Here, both \"a\" and \"b\" belong to integer class but on calling, both of them will give their respective values."
   ]
  },
  {
   "cell_type": "markdown",
   "id": "e3ad9c99-e81f-4e95-a599-731ff0bc91b8",
   "metadata": {},
   "source": [
    "Constructor helps a class to take some data."
   ]
  },
  {
   "cell_type": "code",
   "execution_count": 62,
   "id": "2db4a0d6-b97b-40fd-b0bf-4cbb655bdccd",
   "metadata": {},
   "outputs": [],
   "source": [
    "class pwskills1 : \n",
    "    \n",
    "    def __init__(self, phone_number, email_id, student_id):\n",
    "        self.phone_number = phone_number\n",
    "        self.email_id = email_id\n",
    "        self.student_id = student_id\n",
    "        \n",
    "    def return_student_details(self):\n",
    "        return self.phone_number, self.email_id, self.student_id"
   ]
  },
  {
   "cell_type": "code",
   "execution_count": 64,
   "id": "5c6b3e6e-a23a-4195-b2cb-2baf5242c0f3",
   "metadata": {},
   "outputs": [
    {
     "ename": "TypeError",
     "evalue": "pwskills1.__init__() missing 3 required positional arguments: 'phone_number', 'email_id', and 'student_id'",
     "output_type": "error",
     "traceback": [
      "\u001b[0;31m---------------------------------------------------------------------------\u001b[0m",
      "\u001b[0;31mTypeError\u001b[0m                                 Traceback (most recent call last)",
      "Cell \u001b[0;32mIn[64], line 3\u001b[0m\n\u001b[1;32m      1\u001b[0m \u001b[38;5;66;03m## this will give error\u001b[39;00m\n\u001b[0;32m----> 3\u001b[0m rohan \u001b[38;5;241m=\u001b[39m \u001b[43mpwskills1\u001b[49m\u001b[43m(\u001b[49m\u001b[43m)\u001b[49m\n",
      "\u001b[0;31mTypeError\u001b[0m: pwskills1.__init__() missing 3 required positional arguments: 'phone_number', 'email_id', and 'student_id'"
     ]
    }
   ],
   "source": [
    "## this will give error\n",
    "\n",
    "rohan = pwskills1()"
   ]
  },
  {
   "cell_type": "code",
   "execution_count": 66,
   "id": "4071293f-1cb2-434f-bab9-252a9d70166f",
   "metadata": {},
   "outputs": [],
   "source": [
    "rohan = pwskills1(95435665,\"rohan@gmail.com\",101)"
   ]
  },
  {
   "cell_type": "markdown",
   "id": "83f88c52-8fff-4b5c-b578-e5fb03a37a91",
   "metadata": {},
   "source": [
    "Constructor will always try to take data while creating an object and it will pass the data to the class. Then the class will be able to interpret that, for that particular class object, these are the data sets."
   ]
  },
  {
   "cell_type": "code",
   "execution_count": 67,
   "id": "494ca3cf-72fe-422a-9388-544157620eac",
   "metadata": {},
   "outputs": [
    {
     "data": {
      "text/plain": [
       "95435665"
      ]
     },
     "execution_count": 67,
     "metadata": {},
     "output_type": "execute_result"
    }
   ],
   "source": [
    "rohan.phone_number"
   ]
  },
  {
   "cell_type": "code",
   "execution_count": 68,
   "id": "2d2a66f7-e9f4-4596-bd21-bb0de845699a",
   "metadata": {},
   "outputs": [
    {
     "data": {
      "text/plain": [
       "'rohan@gmail.com'"
      ]
     },
     "execution_count": 68,
     "metadata": {},
     "output_type": "execute_result"
    }
   ],
   "source": [
    "rohan.email_id"
   ]
  },
  {
   "cell_type": "code",
   "execution_count": 69,
   "id": "d2993c0b-ad6b-4197-af43-5fed9b5dfe92",
   "metadata": {},
   "outputs": [
    {
     "data": {
      "text/plain": [
       "101"
      ]
     },
     "execution_count": 69,
     "metadata": {},
     "output_type": "execute_result"
    }
   ],
   "source": [
    "rohan.student_id"
   ]
  },
  {
   "cell_type": "code",
   "execution_count": 70,
   "id": "5c9c36f2-0e0f-4c3c-9258-bd20933453fc",
   "metadata": {},
   "outputs": [
    {
     "data": {
      "text/plain": [
       "(95435665, 'rohan@gmail.com', 101)"
      ]
     },
     "execution_count": 70,
     "metadata": {},
     "output_type": "execute_result"
    }
   ],
   "source": [
    "rohan.return_student_details()"
   ]
  },
  {
   "cell_type": "code",
   "execution_count": 71,
   "id": "791512a7-44fe-4fcc-9c68-b0a2c91455f2",
   "metadata": {},
   "outputs": [],
   "source": [
    "sohan = pwskills1(999679869,\"sohan@gmail.com\",102)"
   ]
  },
  {
   "cell_type": "code",
   "execution_count": 72,
   "id": "dfad61e2-6df3-4539-b50e-a292b8de6dcf",
   "metadata": {},
   "outputs": [
    {
     "data": {
      "text/plain": [
       "999679869"
      ]
     },
     "execution_count": 72,
     "metadata": {},
     "output_type": "execute_result"
    }
   ],
   "source": [
    "sohan.phone_number"
   ]
  },
  {
   "cell_type": "code",
   "execution_count": 74,
   "id": "356afada-db43-4cbe-9b16-b3919b76b91a",
   "metadata": {},
   "outputs": [
    {
     "data": {
      "text/plain": [
       "(999679869, 'sohan@gmail.com', 102)"
      ]
     },
     "execution_count": 74,
     "metadata": {},
     "output_type": "execute_result"
    }
   ],
   "source": [
    "sohan.return_student_details()"
   ]
  },
  {
   "cell_type": "code",
   "execution_count": 77,
   "id": "75588dc0-65ef-4e7f-9e88-3c7368661d23",
   "metadata": {},
   "outputs": [],
   "source": [
    "class pwskills2 : \n",
    "    \n",
    "    def __init__(sudh, phone_number, email_id, student_id):\n",
    "        sudh.phone_number = phone_number\n",
    "        sudh.email_id = email_id\n",
    "        sudh.student_id = student_id\n",
    "        \n",
    "    def return_student_details(sudh):\n",
    "        return sudh.phone_number, sudh.email_id, sudh.student_id"
   ]
  },
  {
   "cell_type": "code",
   "execution_count": 78,
   "id": "62f8321c-7d98-4d8f-8600-1fed3391bc64",
   "metadata": {},
   "outputs": [],
   "source": [
    "mohan = pwskills2(99699578,\"mohan@gmail.com\",234)"
   ]
  },
  {
   "cell_type": "code",
   "execution_count": 79,
   "id": "8b17803b-e720-4dd3-85ac-c136ce922bc3",
   "metadata": {},
   "outputs": [
    {
     "data": {
      "text/plain": [
       "99699578"
      ]
     },
     "execution_count": 79,
     "metadata": {},
     "output_type": "execute_result"
    }
   ],
   "source": [
    "mohan.phone_number"
   ]
  },
  {
   "cell_type": "markdown",
   "id": "ee1bd467-393d-46b8-b2ac-aab14c7af078",
   "metadata": {},
   "source": [
    "\"self\" is not a keyword, it is a reference. We can give anything for a reference variable."
   ]
  },
  {
   "cell_type": "code",
   "execution_count": 81,
   "id": "ef2fc581-bad4-4434-99c8-774da0734cb0",
   "metadata": {},
   "outputs": [
    {
     "data": {
      "text/plain": [
       "(99699578, 'mohan@gmail.com', 234)"
      ]
     },
     "execution_count": 81,
     "metadata": {},
     "output_type": "execute_result"
    }
   ],
   "source": [
    "mohan.return_student_details()"
   ]
  },
  {
   "cell_type": "code",
   "execution_count": 82,
   "id": "3ea89b6d-6aa8-4ce0-addb-2df7f8db088d",
   "metadata": {},
   "outputs": [],
   "source": [
    "class pwskills3 : \n",
    "    \n",
    "    def __init__(self, phone_number, email_id, student_id):\n",
    "        self.phone_number1 = phone_number\n",
    "        self.email_id = email_id\n",
    "        self.student_id = student_id\n",
    "        \n",
    "    def return_student_details(self):\n",
    "        return self.phone_number, self.email_id, self.student_id"
   ]
  },
  {
   "cell_type": "code",
   "execution_count": 83,
   "id": "2bf1e237-a548-489f-af98-b4dae6740697",
   "metadata": {},
   "outputs": [],
   "source": [
    "rohan = pwskills3(999735,\"rohan@gmail.com\",123)"
   ]
  },
  {
   "cell_type": "code",
   "execution_count": 85,
   "id": "6fa15528-b983-46fc-9f8d-d3b2a128c53a",
   "metadata": {},
   "outputs": [
    {
     "ename": "AttributeError",
     "evalue": "'pwskills3' object has no attribute 'phone_number'",
     "output_type": "error",
     "traceback": [
      "\u001b[0;31m---------------------------------------------------------------------------\u001b[0m",
      "\u001b[0;31mAttributeError\u001b[0m                            Traceback (most recent call last)",
      "Cell \u001b[0;32mIn[85], line 3\u001b[0m\n\u001b[1;32m      1\u001b[0m \u001b[38;5;66;03m## this will raise error\u001b[39;00m\n\u001b[0;32m----> 3\u001b[0m \u001b[43mrohan\u001b[49m\u001b[38;5;241;43m.\u001b[39;49m\u001b[43mphone_number\u001b[49m\n",
      "\u001b[0;31mAttributeError\u001b[0m: 'pwskills3' object has no attribute 'phone_number'"
     ]
    }
   ],
   "source": [
    "## this will raise error\n",
    "\n",
    "rohan.phone_number"
   ]
  },
  {
   "cell_type": "markdown",
   "id": "759ce245-a139-4b0e-9e1c-050b65ff7cc4",
   "metadata": {},
   "source": [
    "Class always tries to take a parameter or it always tries to understand a variable which is binded to it with the help of some reference variable."
   ]
  },
  {
   "cell_type": "code",
   "execution_count": 87,
   "id": "ce71d73d-9cd7-4588-a121-bb97d41582d1",
   "metadata": {},
   "outputs": [
    {
     "ename": "AttributeError",
     "evalue": "'pwskills3' object has no attribute 'phone_number'",
     "output_type": "error",
     "traceback": [
      "\u001b[0;31m---------------------------------------------------------------------------\u001b[0m",
      "\u001b[0;31mAttributeError\u001b[0m                            Traceback (most recent call last)",
      "Cell \u001b[0;32mIn[87], line 3\u001b[0m\n\u001b[1;32m      1\u001b[0m \u001b[38;5;66;03m## this will also generate error\u001b[39;00m\n\u001b[0;32m----> 3\u001b[0m \u001b[43mrohan\u001b[49m\u001b[38;5;241;43m.\u001b[39;49m\u001b[43mreturn_student_details\u001b[49m\u001b[43m(\u001b[49m\u001b[43m)\u001b[49m\n",
      "Cell \u001b[0;32mIn[82], line 9\u001b[0m, in \u001b[0;36mpwskills3.return_student_details\u001b[0;34m(self)\u001b[0m\n\u001b[1;32m      8\u001b[0m \u001b[38;5;28;01mdef\u001b[39;00m \u001b[38;5;21mreturn_student_details\u001b[39m(\u001b[38;5;28mself\u001b[39m):\n\u001b[0;32m----> 9\u001b[0m     \u001b[38;5;28;01mreturn\u001b[39;00m \u001b[38;5;28;43mself\u001b[39;49m\u001b[38;5;241;43m.\u001b[39;49m\u001b[43mphone_number\u001b[49m, \u001b[38;5;28mself\u001b[39m\u001b[38;5;241m.\u001b[39memail_id, \u001b[38;5;28mself\u001b[39m\u001b[38;5;241m.\u001b[39mstudent_id\n",
      "\u001b[0;31mAttributeError\u001b[0m: 'pwskills3' object has no attribute 'phone_number'"
     ]
    }
   ],
   "source": [
    "## this will also generate error\n",
    "\n",
    "rohan.return_student_details()"
   ]
  },
  {
   "cell_type": "code",
   "execution_count": null,
   "id": "34ecedfc-af01-4c6e-bf30-6546b612ab91",
   "metadata": {},
   "outputs": [],
   "source": []
  }
 ],
 "metadata": {
  "kernelspec": {
   "display_name": "Python 3 (ipykernel)",
   "language": "python",
   "name": "python3"
  },
  "language_info": {
   "codemirror_mode": {
    "name": "ipython",
    "version": 3
   },
   "file_extension": ".py",
   "mimetype": "text/x-python",
   "name": "python",
   "nbconvert_exporter": "python",
   "pygments_lexer": "ipython3",
   "version": "3.10.8"
  }
 },
 "nbformat": 4,
 "nbformat_minor": 5
}

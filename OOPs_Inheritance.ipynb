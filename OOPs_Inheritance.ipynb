{
 "cells": [
  {
   "cell_type": "markdown",
   "id": "4f72bef8-f16a-4944-a2b9-175978a7330e",
   "metadata": {},
   "source": [
    "# Inheritance"
   ]
  },
  {
   "cell_type": "markdown",
   "id": "2bf5d12d-23e4-4b31-9444-aadc89fde066",
   "metadata": {},
   "source": [
    "Here, a class can inherit the property of other classes."
   ]
  },
  {
   "cell_type": "code",
   "execution_count": 1,
   "id": "16c6dd2a-8f3d-48b1-8b75-4fd2b7de8df5",
   "metadata": {},
   "outputs": [],
   "source": [
    "class parent:\n",
    "    \n",
    "    def test_parent(self):\n",
    "        print(\"This is my parent class.\")"
   ]
  },
  {
   "cell_type": "code",
   "execution_count": 9,
   "id": "26d8af11-def0-450d-86fc-c989737bf2da",
   "metadata": {},
   "outputs": [],
   "source": [
    "class child(parent):  ## this will inherit the property of class parent\n",
    "    pass"
   ]
  },
  {
   "cell_type": "code",
   "execution_count": 10,
   "id": "16357eb1-a231-43e7-9c07-d5168cbe33a7",
   "metadata": {},
   "outputs": [],
   "source": [
    "child_obj = child()"
   ]
  },
  {
   "cell_type": "code",
   "execution_count": 11,
   "id": "0b4d86db-fb27-4e17-b5a6-7a7d75647211",
   "metadata": {},
   "outputs": [
    {
     "name": "stdout",
     "output_type": "stream",
     "text": [
      "This is my parent class.\n"
     ]
    }
   ],
   "source": [
    "child_obj.test_parent()  ## we are able to achieve inheritance"
   ]
  },
  {
   "cell_type": "markdown",
   "id": "644a7960-3172-4744-b9bd-8e7d2da02c09",
   "metadata": {},
   "source": [
    "#### Multilevel inheritance "
   ]
  },
  {
   "cell_type": "code",
   "execution_count": 12,
   "id": "571e3882-1a98-4569-800c-da6e4f95414e",
   "metadata": {},
   "outputs": [],
   "source": [
    "class class1:\n",
    "    \n",
    "    def test_class1(self):\n",
    "        print(\"This is my class1\")"
   ]
  },
  {
   "cell_type": "code",
   "execution_count": 13,
   "id": "81f14186-0bce-401d-b8f3-bbd564ae8f7a",
   "metadata": {},
   "outputs": [],
   "source": [
    "class class2(class1):\n",
    "    \n",
    "    def test_class2(self):\n",
    "        print(\"This is my class2\")"
   ]
  },
  {
   "cell_type": "code",
   "execution_count": 14,
   "id": "3ff80787-08c0-4bbc-86c5-bc48ce894b8c",
   "metadata": {},
   "outputs": [],
   "source": [
    "class class3(class2):\n",
    "    \n",
    "    def test_class3(self):\n",
    "        print(\"This is my class3\")"
   ]
  },
  {
   "cell_type": "code",
   "execution_count": 15,
   "id": "3e307503-0b52-4c07-9e44-6cadfa072cad",
   "metadata": {},
   "outputs": [],
   "source": [
    "obj_class3 = class3()"
   ]
  },
  {
   "cell_type": "code",
   "execution_count": 16,
   "id": "319198e5-cf5f-4c30-9b6d-8c03732d05af",
   "metadata": {},
   "outputs": [
    {
     "name": "stdout",
     "output_type": "stream",
     "text": [
      "This is my class1\n"
     ]
    }
   ],
   "source": [
    "obj_class3.test_class1()"
   ]
  },
  {
   "cell_type": "code",
   "execution_count": 17,
   "id": "6ca27a59-a3c2-447f-a5d7-4d6ec03e9612",
   "metadata": {},
   "outputs": [
    {
     "name": "stdout",
     "output_type": "stream",
     "text": [
      "This is my class2\n"
     ]
    }
   ],
   "source": [
    "obj_class3.test_class2()"
   ]
  },
  {
   "cell_type": "code",
   "execution_count": 18,
   "id": "2e2c920b-9dd2-43e4-8d50-269ad216c1cc",
   "metadata": {},
   "outputs": [
    {
     "name": "stdout",
     "output_type": "stream",
     "text": [
      "This is my class3\n"
     ]
    }
   ],
   "source": [
    "obj_class3.test_class3()"
   ]
  },
  {
   "cell_type": "markdown",
   "id": "b00c1859-e183-43ae-b0d6-c2008605ee70",
   "metadata": {},
   "source": [
    "#### Multiple inheritance\n",
    "\n",
    "From multiple classes, we will be able to inherit in one class"
   ]
  },
  {
   "cell_type": "code",
   "execution_count": 19,
   "id": "46dcd82a-e9e5-4c4e-9825-983fc90e8728",
   "metadata": {},
   "outputs": [],
   "source": [
    "class class1:\n",
    "    \n",
    "    def test_class1(self):\n",
    "        print(\"This is my class1\")"
   ]
  },
  {
   "cell_type": "code",
   "execution_count": 20,
   "id": "bd3616db-ae53-4561-98de-f38660ac36f8",
   "metadata": {},
   "outputs": [],
   "source": [
    "class class2:\n",
    "    \n",
    "    def test_class2(self):\n",
    "        print(\"This is my class2\")"
   ]
  },
  {
   "cell_type": "code",
   "execution_count": 21,
   "id": "ba8cf10d-6687-4e22-b79a-5724364bd15c",
   "metadata": {},
   "outputs": [],
   "source": [
    "class class3(class1, class2):\n",
    "    pass"
   ]
  },
  {
   "cell_type": "code",
   "execution_count": 22,
   "id": "fed84270-cff6-41d7-8700-b9a3806a6a09",
   "metadata": {},
   "outputs": [],
   "source": [
    "obj_class3 = class3()"
   ]
  },
  {
   "cell_type": "code",
   "execution_count": 23,
   "id": "aa56f71c-e286-4f75-8548-bee40e5ccfd0",
   "metadata": {},
   "outputs": [
    {
     "name": "stdout",
     "output_type": "stream",
     "text": [
      "This is my class1\n"
     ]
    }
   ],
   "source": [
    "obj_class3.test_class1()"
   ]
  },
  {
   "cell_type": "code",
   "execution_count": 24,
   "id": "944f1b0b-aa9e-4907-ac75-6c2d8bcd5415",
   "metadata": {},
   "outputs": [
    {
     "name": "stdout",
     "output_type": "stream",
     "text": [
      "This is my class2\n"
     ]
    }
   ],
   "source": [
    "obj_class3.test_class2()"
   ]
  },
  {
   "cell_type": "code",
   "execution_count": null,
   "id": "151e24fe-146e-40ab-8d89-f5801bc248fd",
   "metadata": {},
   "outputs": [],
   "source": []
  }
 ],
 "metadata": {
  "kernelspec": {
   "display_name": "Python 3 (ipykernel)",
   "language": "python",
   "name": "python3"
  },
  "language_info": {
   "codemirror_mode": {
    "name": "ipython",
    "version": 3
   },
   "file_extension": ".py",
   "mimetype": "text/x-python",
   "name": "python",
   "nbconvert_exporter": "python",
   "pygments_lexer": "ipython3",
   "version": "3.10.8"
  }
 },
 "nbformat": 4,
 "nbformat_minor": 5
}

{
 "cells": [
  {
   "cell_type": "markdown",
   "id": "4e7fe912-92a3-4548-a705-396be388f09d",
   "metadata": {},
   "source": [
    "# Multithreading"
   ]
  },
  {
   "cell_type": "code",
   "execution_count": 1,
   "id": "2a4fb48d-8f41-4f93-91bd-7ee1c081b780",
   "metadata": {},
   "outputs": [],
   "source": [
    "import threading"
   ]
  },
  {
   "cell_type": "code",
   "execution_count": 3,
   "id": "a01df591-7151-4bf2-a606-3bbbe034357d",
   "metadata": {},
   "outputs": [],
   "source": [
    "def test(id):\n",
    "    print(\"This is my test id %d\" % id)"
   ]
  },
  {
   "cell_type": "code",
   "execution_count": 4,
   "id": "1b96e49d-da84-4c76-9c9c-e242aef34475",
   "metadata": {},
   "outputs": [
    {
     "name": "stdout",
     "output_type": "stream",
     "text": [
      "This is my test id 10\n"
     ]
    }
   ],
   "source": [
    "test(10)"
   ]
  },
  {
   "cell_type": "code",
   "execution_count": 5,
   "id": "df0ef5d1-bffa-45f6-914b-e257a242ec11",
   "metadata": {},
   "outputs": [
    {
     "name": "stdout",
     "output_type": "stream",
     "text": [
      "This is my test id 1\n"
     ]
    }
   ],
   "source": [
    "test(1)"
   ]
  },
  {
   "cell_type": "code",
   "execution_count": 6,
   "id": "180c7410-eb68-4897-8bab-aac05a046971",
   "metadata": {},
   "outputs": [
    {
     "name": "stdout",
     "output_type": "stream",
     "text": [
      "This is my test id 3\n"
     ]
    }
   ],
   "source": [
    "test(3)"
   ]
  },
  {
   "cell_type": "code",
   "execution_count": 7,
   "id": "3428af57-7324-458f-a18d-37dcd9a15aeb",
   "metadata": {},
   "outputs": [],
   "source": [
    "thred = [threading.Thread(target = test, args = (i,)) for i in [10,1,3]]"
   ]
  },
  {
   "cell_type": "code",
   "execution_count": 8,
   "id": "00324862-aaec-44a5-96f1-18f1f105c88f",
   "metadata": {},
   "outputs": [
    {
     "data": {
      "text/plain": [
       "[<Thread(Thread-5 (test), initial)>,\n",
       " <Thread(Thread-6 (test), initial)>,\n",
       " <Thread(Thread-7 (test), initial)>]"
      ]
     },
     "execution_count": 8,
     "metadata": {},
     "output_type": "execute_result"
    }
   ],
   "source": [
    "thred"
   ]
  },
  {
   "cell_type": "markdown",
   "id": "3d8477f7-9640-4913-acbb-6c4023beff87",
   "metadata": {},
   "source": [
    "Here, in a single core, it has created 3 threads."
   ]
  },
  {
   "cell_type": "code",
   "execution_count": 9,
   "id": "8ee51f32-da3a-44c9-8e31-f5b938bbe499",
   "metadata": {},
   "outputs": [
    {
     "name": "stdout",
     "output_type": "stream",
     "text": [
      "This is my test id 10\n",
      "This is my test id 1\n",
      "This is my test id 3\n"
     ]
    }
   ],
   "source": [
    "for t in thred:\n",
    "    t.start()"
   ]
  },
  {
   "cell_type": "markdown",
   "id": "2460d42e-3265-4903-8fee-b7af1164063c",
   "metadata": {},
   "source": [
    "All of these programs are executed inside a single core."
   ]
  },
  {
   "cell_type": "code",
   "execution_count": 10,
   "id": "96ae07b8-cb23-4f6f-aa26-795f790989f2",
   "metadata": {},
   "outputs": [],
   "source": [
    "import urllib.request\n",
    "\n",
    "def file_download(url, filename):\n",
    "    urllib.request.urlretrieve(url, filename)"
   ]
  },
  {
   "cell_type": "code",
   "execution_count": 11,
   "id": "c4214435-b4fc-47f6-8d57-791a2b9a96b4",
   "metadata": {},
   "outputs": [],
   "source": [
    "file_download(\"https://raw.githubusercontent.com/itsfoss/text-files/master/agatha.txt\",\"test1.txt\")"
   ]
  },
  {
   "cell_type": "code",
   "execution_count": 12,
   "id": "528dc2c0-019b-4a2d-9584-c3eb1c545748",
   "metadata": {},
   "outputs": [],
   "source": [
    "url_list = [\"https://raw.githubusercontent.com/itsfoss/text-files/master/agatha.txt\",\"https://raw.githubusercontent.com/itsfoss/text-files/master/sherlock.txt\",\"https://raw.githubusercontent.com/itsfoss/text-files/master/sample_log_file.txt\"]"
   ]
  },
  {
   "cell_type": "code",
   "execution_count": 13,
   "id": "e9acebb0-931c-46f8-aed7-6172d2fa6b87",
   "metadata": {},
   "outputs": [
    {
     "data": {
      "text/plain": [
       "['https://raw.githubusercontent.com/itsfoss/text-files/master/agatha.txt',\n",
       " 'https://raw.githubusercontent.com/itsfoss/text-files/master/sherlock.txt',\n",
       " 'https://raw.githubusercontent.com/itsfoss/text-files/master/sample_log_file.txt']"
      ]
     },
     "execution_count": 13,
     "metadata": {},
     "output_type": "execute_result"
    }
   ],
   "source": [
    "url_list"
   ]
  },
  {
   "cell_type": "code",
   "execution_count": 14,
   "id": "09cabaa3-271a-4e8c-9ce8-233a10ec6dcc",
   "metadata": {},
   "outputs": [],
   "source": [
    "data_file_list = [\"data1.txt\",\"data2.txt\",\"data3.txt\"]"
   ]
  },
  {
   "cell_type": "code",
   "execution_count": 15,
   "id": "dcdf4fa3-6df7-491f-bb32-009fd2059163",
   "metadata": {},
   "outputs": [],
   "source": [
    "thread1 = [threading.Thread(target = file_download, args = (url_list[i], data_file_list[i])) for i in range(len(url_list))]"
   ]
  },
  {
   "cell_type": "code",
   "execution_count": 16,
   "id": "018dbe12-fd3c-4a89-af89-4575c1ca0f74",
   "metadata": {},
   "outputs": [],
   "source": [
    "for t in thread1:\n",
    "    t.start()"
   ]
  },
  {
   "cell_type": "markdown",
   "id": "a9e88a2a-2a3e-4070-a696-9d55ebe9aa02",
   "metadata": {},
   "source": [
    "Here, we are calling our function just once in a thread, and thread automatically tries to create 3 different instance of our function with different inputs which we are looking for. \n",
    "* Thus, we are able to optimize our code and besides, we are ablr to run this program thrice in a single core, with 3 different arguments."
   ]
  },
  {
   "cell_type": "code",
   "execution_count": 17,
   "id": "220dfe90-32e4-4c43-b3be-5d43c3942e05",
   "metadata": {},
   "outputs": [
    {
     "data": {
      "text/plain": [
       "[<Thread(Thread-8 (file_download), stopped 140318779364928)>,\n",
       " <Thread(Thread-9 (file_download), stopped 140318769923648)>,\n",
       " <Thread(Thread-10 (file_download), stopped 140318761530944)>]"
      ]
     },
     "execution_count": 17,
     "metadata": {},
     "output_type": "execute_result"
    }
   ],
   "source": [
    "thread1"
   ]
  },
  {
   "cell_type": "code",
   "execution_count": 18,
   "id": "f698fee6-5916-464c-835b-ff1f91a3fab2",
   "metadata": {},
   "outputs": [],
   "source": [
    "import time"
   ]
  },
  {
   "cell_type": "code",
   "execution_count": 26,
   "id": "b7386d46-5736-4902-967d-12ae8036fbc4",
   "metadata": {},
   "outputs": [],
   "source": [
    "def test2(x):\n",
    "    for i in range(10):\n",
    "        print(\" test1 : print the value of x -> %d and the print the value of i -> %d\" %(x,i))\n",
    "        time.sleep(1)"
   ]
  },
  {
   "cell_type": "code",
   "execution_count": 27,
   "id": "f5e6c400-fa3e-4b44-bd81-2458cc5c1e0d",
   "metadata": {},
   "outputs": [
    {
     "name": "stdout",
     "output_type": "stream",
     "text": [
      " test1 : print the value of x -> 10 and the print the value of i -> 0\n",
      " test1 : print the value of x -> 10 and the print the value of i -> 1\n",
      " test1 : print the value of x -> 10 and the print the value of i -> 2\n",
      " test1 : print the value of x -> 10 and the print the value of i -> 3\n",
      " test1 : print the value of x -> 10 and the print the value of i -> 4\n",
      " test1 : print the value of x -> 10 and the print the value of i -> 5\n",
      " test1 : print the value of x -> 10 and the print the value of i -> 6\n",
      " test1 : print the value of x -> 10 and the print the value of i -> 7\n",
      " test1 : print the value of x -> 10 and the print the value of i -> 8\n",
      " test1 : print the value of x -> 10 and the print the value of i -> 9\n"
     ]
    }
   ],
   "source": [
    "test2(10)"
   ]
  },
  {
   "cell_type": "code",
   "execution_count": 25,
   "id": "ea2723ae-be91-41bf-81aa-03900e34d5eb",
   "metadata": {},
   "outputs": [
    {
     "name": "stdout",
     "output_type": "stream",
     "text": [
      " test1 : print the value of x -> 2 and the print the value of i -> 0\n",
      " test1 : print the value of x -> 2 and the print the value of i -> 1\n",
      " test1 : print the value of x -> 2 and the print the value of i -> 2\n",
      " test1 : print the value of x -> 2 and the print the value of i -> 3\n",
      " test1 : print the value of x -> 2 and the print the value of i -> 4\n",
      " test1 : print the value of x -> 2 and the print the value of i -> 5\n",
      " test1 : print the value of x -> 2 and the print the value of i -> 6\n",
      " test1 : print the value of x -> 2 and the print the value of i -> 7\n",
      " test1 : print the value of x -> 2 and the print the value of i -> 8\n",
      " test1 : print the value of x -> 2 and the print the value of i -> 9\n"
     ]
    }
   ],
   "source": [
    "test2(2)"
   ]
  },
  {
   "cell_type": "code",
   "execution_count": 28,
   "id": "58585d3a-c7af-4146-b1c5-915c64329351",
   "metadata": {},
   "outputs": [],
   "source": [
    "thread2 = [threading.Thread(target = test2, args = (i,)) for i in [100,10,20,5]]"
   ]
  },
  {
   "cell_type": "code",
   "execution_count": 29,
   "id": "1705e813-2ba6-4d30-82c9-9a7d8d02cf0c",
   "metadata": {},
   "outputs": [
    {
     "name": "stdout",
     "output_type": "stream",
     "text": [
      " test1 : print the value of x -> 100 and the print the value of i -> 0\n",
      " test1 : print the value of x -> 10 and the print the value of i -> 0\n",
      " test1 : print the value of x -> 20 and the print the value of i -> 0\n",
      " test1 : print the value of x -> 5 and the print the value of i -> 0\n",
      " test1 : print the value of x -> 10 and the print the value of i -> 1\n",
      " test1 : print the value of x -> 20 and the print the value of i -> 1\n",
      " test1 : print the value of x -> 100 and the print the value of i -> 1\n",
      " test1 : print the value of x -> 5 and the print the value of i -> 1\n",
      " test1 : print the value of x -> 10 and the print the value of i -> 2 test1 : print the value of x -> 20 and the print the value of i -> 2\n",
      " test1 : print the value of x -> 100 and the print the value of i -> 2\n",
      " test1 : print the value of x -> 5 and the print the value of i -> 2\n",
      "\n",
      " test1 : print the value of x -> 20 and the print the value of i -> 3 test1 : print the value of x -> 100 and the print the value of i -> 3\n",
      "\n",
      " test1 : print the value of x -> 5 and the print the value of i -> 3\n",
      " test1 : print the value of x -> 10 and the print the value of i -> 3\n",
      " test1 : print the value of x -> 100 and the print the value of i -> 4 test1 : print the value of x -> 5 and the print the value of i -> 4\n",
      " test1 : print the value of x -> 20 and the print the value of i -> 4\n",
      " test1 : print the value of x -> 10 and the print the value of i -> 4\n",
      "\n",
      " test1 : print the value of x -> 5 and the print the value of i -> 5 test1 : print the value of x -> 20 and the print the value of i -> 5\n",
      " test1 : print the value of x -> 10 and the print the value of i -> 5\n",
      " test1 : print the value of x -> 100 and the print the value of i -> 5\n",
      "\n",
      " test1 : print the value of x -> 100 and the print the value of i -> 6\n",
      " test1 : print the value of x -> 20 and the print the value of i -> 6\n",
      " test1 : print the value of x -> 5 and the print the value of i -> 6\n",
      " test1 : print the value of x -> 10 and the print the value of i -> 6\n",
      " test1 : print the value of x -> 20 and the print the value of i -> 7 test1 : print the value of x -> 5 and the print the value of i -> 7\n",
      " test1 : print the value of x -> 100 and the print the value of i -> 7\n",
      "\n",
      " test1 : print the value of x -> 10 and the print the value of i -> 7\n",
      " test1 : print the value of x -> 5 and the print the value of i -> 8\n",
      " test1 : print the value of x -> 100 and the print the value of i -> 8\n",
      " test1 : print the value of x -> 20 and the print the value of i -> 8\n",
      " test1 : print the value of x -> 10 and the print the value of i -> 8\n",
      " test1 : print the value of x -> 5 and the print the value of i -> 9\n",
      " test1 : print the value of x -> 100 and the print the value of i -> 9\n",
      " test1 : print the value of x -> 20 and the print the value of i -> 9\n",
      " test1 : print the value of x -> 10 and the print the value of i -> 9\n"
     ]
    }
   ],
   "source": [
    "for t in thread2:\n",
    "    t.start()"
   ]
  },
  {
   "cell_type": "markdown",
   "id": "567ac659-e918-4f4a-af97-0009f218192e",
   "metadata": {},
   "source": [
    "Here, all the four threads are utilising the resources in a round-robin fashion [just because of \"time.sleep()\"] "
   ]
  },
  {
   "cell_type": "code",
   "execution_count": 35,
   "id": "9b7d9898-c513-4ed4-91fb-4bd8980b9a54",
   "metadata": {},
   "outputs": [
    {
     "name": "stdout",
     "output_type": "stream",
     "text": [
      "Value of x : 1 and value of shared_var : 1\n",
      "Value of x : 2 and value of shared_var : 2\n",
      "Value of x : 3 and value of shared_var : 3\n",
      "Value of x : 4 and value of shared_var : 4\n",
      "Value of x : 4 and value of shared_var : 5\n",
      "Value of x : 5 and value of shared_var : 6\n"
     ]
    }
   ],
   "source": [
    "shared_var = 0\n",
    "lock_var = threading.Lock()\n",
    "def test3(x):\n",
    "    global shared_var\n",
    "    with lock_var:\n",
    "        shared_var = shared_var + 1\n",
    "        print(\"Value of x : %d and value of shared_var : %d\" %(x, shared_var))\n",
    "        time.sleep(1)\n",
    "        \n",
    "thread4 = [threading.Thread(target = test3, args = (i,)) for i in [1,2,3,4,4,5]]\n",
    "for t in thread4:\n",
    "    t.start()"
   ]
  },
  {
   "cell_type": "code",
   "execution_count": 31,
   "id": "cc82520b-a30a-4338-b730-bd37d0ec6fc6",
   "metadata": {},
   "outputs": [
    {
     "name": "stdout",
     "output_type": "stream",
     "text": [
      "Value of x : 1 and value of shared_var : 1\n"
     ]
    }
   ],
   "source": [
    "test3(1)"
   ]
  },
  {
   "cell_type": "code",
   "execution_count": 34,
   "id": "5c1f51fc-7263-4465-a257-7341b70ae3a0",
   "metadata": {},
   "outputs": [
    {
     "name": "stdout",
     "output_type": "stream",
     "text": [
      "Value of x : 2 and value of shared_var : 4\n"
     ]
    }
   ],
   "source": [
    "test3(2)"
   ]
  },
  {
   "cell_type": "code",
   "execution_count": null,
   "id": "da01521f-409e-49e5-a1c7-c3a09b04acef",
   "metadata": {},
   "outputs": [],
   "source": []
  }
 ],
 "metadata": {
  "kernelspec": {
   "display_name": "Python 3 (ipykernel)",
   "language": "python",
   "name": "python3"
  },
  "language_info": {
   "codemirror_mode": {
    "name": "ipython",
    "version": 3
   },
   "file_extension": ".py",
   "mimetype": "text/x-python",
   "name": "python",
   "nbconvert_exporter": "python",
   "pygments_lexer": "ipython3",
   "version": "3.10.8"
  }
 },
 "nbformat": 4,
 "nbformat_minor": 5
}

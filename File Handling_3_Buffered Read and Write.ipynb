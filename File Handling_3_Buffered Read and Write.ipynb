{
 "cells": [
  {
   "cell_type": "markdown",
   "id": "0130041d-2bf3-4e12-bc73-04e6a030fd37",
   "metadata": {},
   "source": [
    "# Buffered Read and Write"
   ]
  },
  {
   "cell_type": "code",
   "execution_count": 12,
   "id": "4fff91ba-7112-48a9-abda-0669ad056d71",
   "metadata": {},
   "outputs": [],
   "source": [
    "import io"
   ]
  },
  {
   "cell_type": "markdown",
   "id": "c8262191-dca3-4d57-af44-f8f19c45b1e3",
   "metadata": {},
   "source": [
    "When the size of a file is very size is very large, then we may not be able to read the file. \n",
    "So, we can try to read the file in chunks, in small bits and pieces. This is where buffered read and write files come in picture."
   ]
  },
  {
   "cell_type": "code",
   "execution_count": 15,
   "id": "399c81a6-4223-4fd0-be2d-e6850c384b9e",
   "metadata": {},
   "outputs": [],
   "source": [
    "with open(\"test.txt\",\"wb\") as f:\n",
    "    file = io.BufferedWriter(f)\n",
    "    file.write(b\"The Data Science Masters course is highly curated and uniquely designed according to the latest industry standards. This program instills in students the skills essential to knowledge discovery efforts to identify standard, novel, and truly differentiated solutions and decision-making, including skills in managing, querying, analyzing, visualizing, and extracting meaning from large data sets.\\n\")\n",
    "    file.write(b\"This is my second line that I am trying to write.\")\n",
    "    file.flush()"
   ]
  },
  {
   "cell_type": "code",
   "execution_count": 16,
   "id": "23b80aaf-12c7-46eb-8cda-2f4724a83ef6",
   "metadata": {},
   "outputs": [
    {
     "name": "stdout",
     "output_type": "stream",
     "text": [
      "b'The Data Science Masters course is highly curated and uniquely designed according to the latest industry standards. This program instills in students the skills essential to knowledge discovery efforts to identify standard, novel, and truly differentiated solutions and decision-making, including skills in managing, querying, analyzing, visualizing, and extracting meaning from large data sets.\\nThis is my second line that I am trying to write.'\n"
     ]
    }
   ],
   "source": [
    "with open(\"test.txt\", \"rb\") as f:\n",
    "    file = io.BufferedReader(f)\n",
    "    data = file.read()\n",
    "    print(data)"
   ]
  },
  {
   "cell_type": "code",
   "execution_count": 18,
   "id": "5989b1b8-633d-41e7-9ae8-9080c42a1db2",
   "metadata": {},
   "outputs": [
    {
     "name": "stdout",
     "output_type": "stream",
     "text": [
      "b'The Data Science Masters course is highly curated and uniquely designed according to the latest indu'\n"
     ]
    }
   ],
   "source": [
    "with open(\"test.txt\", \"rb\") as f:\n",
    "    file = io.BufferedReader(f)\n",
    "    data = file.read(100)\n",
    "    print(data)"
   ]
  },
  {
   "cell_type": "code",
   "execution_count": null,
   "id": "b85c8b6e-2772-42bf-94db-bf7a92a8889f",
   "metadata": {},
   "outputs": [],
   "source": []
  }
 ],
 "metadata": {
  "kernelspec": {
   "display_name": "Python 3 (ipykernel)",
   "language": "python",
   "name": "python3"
  },
  "language_info": {
   "codemirror_mode": {
    "name": "ipython",
    "version": 3
   },
   "file_extension": ".py",
   "mimetype": "text/x-python",
   "name": "python",
   "nbconvert_exporter": "python",
   "pygments_lexer": "ipython3",
   "version": "3.10.8"
  }
 },
 "nbformat": 4,
 "nbformat_minor": 5
}

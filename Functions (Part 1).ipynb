{
 "cells": [
  {
   "cell_type": "markdown",
   "id": "a4e736fc-8a02-4cc3-9b37-02bf623825d1",
   "metadata": {},
   "source": [
    "# FUNCTIONS (PART 1)"
   ]
  },
  {
   "cell_type": "code",
   "execution_count": 1,
   "id": "12e85a13-90cf-496c-903f-394eb0bfe447",
   "metadata": {},
   "outputs": [
    {
     "name": "stdout",
     "output_type": "stream",
     "text": [
      "This is my program.\n"
     ]
    }
   ],
   "source": [
    "print(\"This is my program.\")"
   ]
  },
  {
   "cell_type": "code",
   "execution_count": 2,
   "id": "42b1cf56-9de2-4512-8ac9-8a7dfccaad41",
   "metadata": {},
   "outputs": [],
   "source": [
    "l = [1,2,3,4]"
   ]
  },
  {
   "cell_type": "code",
   "execution_count": 3,
   "id": "529afd1d-80c8-42d4-a167-a766b7c34bd1",
   "metadata": {},
   "outputs": [
    {
     "data": {
      "text/plain": [
       "4"
      ]
     },
     "execution_count": 3,
     "metadata": {},
     "output_type": "execute_result"
    }
   ],
   "source": [
    "len(l)"
   ]
  },
  {
   "cell_type": "markdown",
   "id": "31217fe6-7f5a-409a-83f7-6dd1df21fee3",
   "metadata": {},
   "source": [
    "Other functions for a list include extend(), append(),count(),index() and so on.\n",
    "\n",
    "These functions are basically in-built functions. They have been created already for all of us and we are able to consume it."
   ]
  },
  {
   "cell_type": "code",
   "execution_count": 6,
   "id": "d836aa2b-9098-4473-8a07-eaa24bca6ede",
   "metadata": {},
   "outputs": [
    {
     "ename": "SyntaxError",
     "evalue": "incomplete input (1047280840.py, line 4)",
     "output_type": "error",
     "traceback": [
      "\u001b[0;36m  Cell \u001b[0;32mIn[6], line 4\u001b[0;36m\u001b[0m\n\u001b[0;31m    \u001b[0m\n\u001b[0m    ^\u001b[0m\n\u001b[0;31mSyntaxError\u001b[0m\u001b[0;31m:\u001b[0m incomplete input\n"
     ]
    }
   ],
   "source": [
    "## wrong way\n",
    "\n",
    "def test():\n",
    "    "
   ]
  },
  {
   "cell_type": "markdown",
   "id": "eafad36a-868f-4a95-85e5-613f696ffb34",
   "metadata": {},
   "source": [
    "Here we have just defined a function, we have not given any kind of direction to this function (i.e, what this function is supposed to do)"
   ]
  },
  {
   "cell_type": "code",
   "execution_count": 7,
   "id": "e1352ccb-f15a-4def-8a6c-b5aab0349f9f",
   "metadata": {},
   "outputs": [],
   "source": [
    "def test():\n",
    "    pass"
   ]
  },
  {
   "cell_type": "markdown",
   "id": "4bf4f792-aa36-4ddc-945b-21e40f533767",
   "metadata": {},
   "source": [
    "pass simply means pass the entire definition."
   ]
  },
  {
   "cell_type": "code",
   "execution_count": 8,
   "id": "1e8b66a9-7b65-4ad7-9584-8673a8d7d21f",
   "metadata": {},
   "outputs": [],
   "source": [
    "def test1():\n",
    "    print(\"This is my very very first function.\")"
   ]
  },
  {
   "cell_type": "code",
   "execution_count": 9,
   "id": "342b69af-c793-4010-a171-319e8b6ac99a",
   "metadata": {},
   "outputs": [
    {
     "name": "stdout",
     "output_type": "stream",
     "text": [
      "This is my very very first function.\n"
     ]
    }
   ],
   "source": [
    "test1()"
   ]
  },
  {
   "cell_type": "markdown",
   "id": "5b0b81d5-a5a1-44bc-9f14-475dee5b8a7d",
   "metadata": {},
   "source": [
    "#### One of the major advantages of functions is that it increases usability. It will be able to increase modularity inside our code."
   ]
  },
  {
   "cell_type": "code",
   "execution_count": 11,
   "id": "a17fb71d-69bf-4d2d-9570-dfd2a773a730",
   "metadata": {},
   "outputs": [
    {
     "name": "stdout",
     "output_type": "stream",
     "text": [
      "This is my very very first function.\n"
     ]
    },
    {
     "ename": "TypeError",
     "evalue": "unsupported operand type(s) for +: 'NoneType' and 'str'",
     "output_type": "error",
     "traceback": [
      "\u001b[0;31m---------------------------------------------------------------------------\u001b[0m",
      "\u001b[0;31mTypeError\u001b[0m                                 Traceback (most recent call last)",
      "Cell \u001b[0;32mIn[11], line 2\u001b[0m\n\u001b[1;32m      1\u001b[0m \u001b[38;5;66;03m## incorrect way\u001b[39;00m\n\u001b[0;32m----> 2\u001b[0m \u001b[43mtest1\u001b[49m\u001b[43m(\u001b[49m\u001b[43m)\u001b[49m\u001b[43m \u001b[49m\u001b[38;5;241;43m+\u001b[39;49m\u001b[43m \u001b[49m\u001b[38;5;124;43m\"\u001b[39;49m\u001b[38;5;124;43msudh\u001b[39;49m\u001b[38;5;124;43m\"\u001b[39;49m\n",
      "\u001b[0;31mTypeError\u001b[0m: unsupported operand type(s) for +: 'NoneType' and 'str'"
     ]
    }
   ],
   "source": [
    "## incorrect way\n",
    "test1() + \"sudh\""
   ]
  },
  {
   "cell_type": "markdown",
   "id": "d3fb7301-861e-4252-a351-96ae2afb8c0f",
   "metadata": {},
   "source": [
    "print() always returns NoneType and this is the only reason."
   ]
  },
  {
   "cell_type": "code",
   "execution_count": 12,
   "id": "cdb387f8-281c-42b4-886c-a8e7cfc5d0ac",
   "metadata": {},
   "outputs": [],
   "source": [
    "def test2():\n",
    "    return \"this is my fun with return\""
   ]
  },
  {
   "cell_type": "code",
   "execution_count": 13,
   "id": "0ee934a6-fef1-453f-a153-a69ae1b0ef56",
   "metadata": {},
   "outputs": [
    {
     "data": {
      "text/plain": [
       "'this is my fun with return'"
      ]
     },
     "execution_count": 13,
     "metadata": {},
     "output_type": "execute_result"
    }
   ],
   "source": [
    "test2()"
   ]
  },
  {
   "cell_type": "code",
   "execution_count": 14,
   "id": "ccc603bc-e538-4109-8746-3a10df5d5238",
   "metadata": {},
   "outputs": [
    {
     "data": {
      "text/plain": [
       "'this is my fun with returnsudh'"
      ]
     },
     "execution_count": 14,
     "metadata": {},
     "output_type": "execute_result"
    }
   ],
   "source": [
    "test2() + \"sudh\""
   ]
  },
  {
   "cell_type": "markdown",
   "id": "2138c580-a93c-4563-b557-b3c2563e44aa",
   "metadata": {},
   "source": [
    "return will try to return as it is. It will be able to return in its datatype in its original format."
   ]
  },
  {
   "cell_type": "code",
   "execution_count": 2,
   "id": "ad66ea4a-2898-4efb-b00b-0e05b175d33e",
   "metadata": {},
   "outputs": [],
   "source": [
    "def test3():\n",
    "    return 1,4,\"pwskills\",34.56"
   ]
  },
  {
   "cell_type": "code",
   "execution_count": 2,
   "id": "d9ba2c46-07b0-4861-a155-bff4761f9f7d",
   "metadata": {},
   "outputs": [
    {
     "data": {
      "text/plain": [
       "(1, 4, 'pwskills', 34.56)"
      ]
     },
     "execution_count": 2,
     "metadata": {},
     "output_type": "execute_result"
    }
   ],
   "source": [
    "test3()"
   ]
  },
  {
   "cell_type": "markdown",
   "id": "59e72827-1576-461e-90bb-a75da565b5e2",
   "metadata": {},
   "source": [
    "Here, we are able to get multiple returns from the function test3()"
   ]
  },
  {
   "cell_type": "code",
   "execution_count": 36,
   "id": "dcb1b1d8-9dd0-4b83-9834-da2fc857d717",
   "metadata": {},
   "outputs": [],
   "source": [
    "## passing multiple values in a variable\n",
    "\n",
    "a = 1,2,3,4,5"
   ]
  },
  {
   "cell_type": "code",
   "execution_count": 37,
   "id": "527e8ec8-8e40-4397-822d-0c6b4ec84cde",
   "metadata": {},
   "outputs": [
    {
     "data": {
      "text/plain": [
       "(1, 2, 3, 4, 5)"
      ]
     },
     "execution_count": 37,
     "metadata": {},
     "output_type": "execute_result"
    }
   ],
   "source": [
    "a"
   ]
  },
  {
   "cell_type": "code",
   "execution_count": 38,
   "id": "e724c950-e7fb-4a65-94ca-e7a06e099092",
   "metadata": {},
   "outputs": [],
   "source": [
    "## passing values in multiple variables in single line\n",
    "\n",
    "a,b,c,d = 1,2,34.56,True"
   ]
  },
  {
   "cell_type": "code",
   "execution_count": 6,
   "id": "7f809454-cd67-4164-bc0c-bddcb9ce99e4",
   "metadata": {},
   "outputs": [
    {
     "data": {
      "text/plain": [
       "1"
      ]
     },
     "execution_count": 6,
     "metadata": {},
     "output_type": "execute_result"
    }
   ],
   "source": [
    "a"
   ]
  },
  {
   "cell_type": "code",
   "execution_count": 7,
   "id": "00fa5b13-33e6-48da-87f7-fbc60b2b259d",
   "metadata": {},
   "outputs": [
    {
     "data": {
      "text/plain": [
       "2"
      ]
     },
     "execution_count": 7,
     "metadata": {},
     "output_type": "execute_result"
    }
   ],
   "source": [
    "b"
   ]
  },
  {
   "cell_type": "code",
   "execution_count": 8,
   "id": "dac506ca-72ce-40d9-8c7d-f800f9a88a51",
   "metadata": {},
   "outputs": [
    {
     "data": {
      "text/plain": [
       "34.56"
      ]
     },
     "execution_count": 8,
     "metadata": {},
     "output_type": "execute_result"
    }
   ],
   "source": [
    "c"
   ]
  },
  {
   "cell_type": "code",
   "execution_count": 9,
   "id": "2917f758-96db-4578-9cc8-08f4f6470ec7",
   "metadata": {},
   "outputs": [
    {
     "data": {
      "text/plain": [
       "True"
      ]
     },
     "execution_count": 9,
     "metadata": {},
     "output_type": "execute_result"
    }
   ],
   "source": [
    "d"
   ]
  },
  {
   "cell_type": "code",
   "execution_count": 10,
   "id": "fbccf66f-fba8-410b-a5c5-5ce5920f4b1f",
   "metadata": {},
   "outputs": [
    {
     "data": {
      "text/plain": [
       "(1, 4, 'pwskills', 34.56)"
      ]
     },
     "execution_count": 10,
     "metadata": {},
     "output_type": "execute_result"
    }
   ],
   "source": [
    "test3()"
   ]
  },
  {
   "cell_type": "markdown",
   "id": "efd5fefa-0a34-45e3-be7f-0553fe7000cd",
   "metadata": {},
   "source": [
    "Here, we are getting data in the form of a tuple."
   ]
  },
  {
   "cell_type": "code",
   "execution_count": 11,
   "id": "e05ac57a-3a77-4491-8743-d1732cc36838",
   "metadata": {},
   "outputs": [
    {
     "data": {
      "text/plain": [
       "1"
      ]
     },
     "execution_count": 11,
     "metadata": {},
     "output_type": "execute_result"
    }
   ],
   "source": [
    "test3()[0]"
   ]
  },
  {
   "cell_type": "code",
   "execution_count": 12,
   "id": "5ca7641f-acaf-4722-a6b8-f92d415ad33f",
   "metadata": {},
   "outputs": [
    {
     "data": {
      "text/plain": [
       "4"
      ]
     },
     "execution_count": 12,
     "metadata": {},
     "output_type": "execute_result"
    }
   ],
   "source": [
    "test3()[1]"
   ]
  },
  {
   "cell_type": "code",
   "execution_count": 13,
   "id": "af94cf2c-ec7a-4e7c-ae93-8a11339bab7d",
   "metadata": {},
   "outputs": [
    {
     "data": {
      "text/plain": [
       "'pwskills'"
      ]
     },
     "execution_count": 13,
     "metadata": {},
     "output_type": "execute_result"
    }
   ],
   "source": [
    "test3()[2]"
   ]
  },
  {
   "cell_type": "code",
   "execution_count": 3,
   "id": "b6cf291e-b596-44e5-8768-945a58152aea",
   "metadata": {},
   "outputs": [],
   "source": [
    "# passing the values returned by the function to multiple variables\n",
    "\n",
    "a,b,c,d = test3()"
   ]
  },
  {
   "cell_type": "code",
   "execution_count": 4,
   "id": "e323c98c-752d-4c8a-9776-1e3b05b3e212",
   "metadata": {},
   "outputs": [
    {
     "data": {
      "text/plain": [
       "1"
      ]
     },
     "execution_count": 4,
     "metadata": {},
     "output_type": "execute_result"
    }
   ],
   "source": [
    "a"
   ]
  },
  {
   "cell_type": "code",
   "execution_count": 16,
   "id": "86a5e4e3-eb9b-4da5-a5f4-0916356ab606",
   "metadata": {},
   "outputs": [
    {
     "data": {
      "text/plain": [
       "4"
      ]
     },
     "execution_count": 16,
     "metadata": {},
     "output_type": "execute_result"
    }
   ],
   "source": [
    "b"
   ]
  },
  {
   "cell_type": "code",
   "execution_count": 17,
   "id": "674718af-af5a-4d08-9aaf-9af11d98cc5b",
   "metadata": {},
   "outputs": [
    {
     "data": {
      "text/plain": [
       "'pwskills'"
      ]
     },
     "execution_count": 17,
     "metadata": {},
     "output_type": "execute_result"
    }
   ],
   "source": [
    "c"
   ]
  },
  {
   "cell_type": "code",
   "execution_count": 18,
   "id": "4c29930c-fe54-47c2-a36f-62d6ca63a049",
   "metadata": {},
   "outputs": [
    {
     "data": {
      "text/plain": [
       "34.56"
      ]
     },
     "execution_count": 18,
     "metadata": {},
     "output_type": "execute_result"
    }
   ],
   "source": [
    "d"
   ]
  },
  {
   "cell_type": "code",
   "execution_count": 19,
   "id": "12156806-a2df-441c-824d-cd6632d9f600",
   "metadata": {},
   "outputs": [],
   "source": [
    "def test4():\n",
    "    a = 3*4 + 5\n",
    "    return a"
   ]
  },
  {
   "cell_type": "code",
   "execution_count": 20,
   "id": "f30aebd1-918a-4584-b73c-58205c07c841",
   "metadata": {},
   "outputs": [
    {
     "data": {
      "text/plain": [
       "17"
      ]
     },
     "execution_count": 20,
     "metadata": {},
     "output_type": "execute_result"
    }
   ],
   "source": [
    "test4()"
   ]
  },
  {
   "cell_type": "code",
   "execution_count": 21,
   "id": "1137956f-ebb7-44f9-b592-b96bde5ef02d",
   "metadata": {},
   "outputs": [
    {
     "data": {
      "text/plain": [
       "int"
      ]
     },
     "execution_count": 21,
     "metadata": {},
     "output_type": "execute_result"
    }
   ],
   "source": [
    "type(test4())"
   ]
  },
  {
   "cell_type": "code",
   "execution_count": 22,
   "id": "bd01d7a0-9db3-4a05-8530-848b3aec4223",
   "metadata": {},
   "outputs": [],
   "source": [
    "def test5(a,b):\n",
    "    c = a+b\n",
    "    return c"
   ]
  },
  {
   "cell_type": "code",
   "execution_count": 24,
   "id": "d1d424d7-7f67-43e9-b706-16d0554e7636",
   "metadata": {},
   "outputs": [
    {
     "ename": "TypeError",
     "evalue": "test5() missing 2 required positional arguments: 'a' and 'b'",
     "output_type": "error",
     "traceback": [
      "\u001b[0;31m---------------------------------------------------------------------------\u001b[0m",
      "\u001b[0;31mTypeError\u001b[0m                                 Traceback (most recent call last)",
      "Cell \u001b[0;32mIn[24], line 3\u001b[0m\n\u001b[1;32m      1\u001b[0m \u001b[38;5;66;03m#wrong way\u001b[39;00m\n\u001b[0;32m----> 3\u001b[0m \u001b[43mtest5\u001b[49m\u001b[43m(\u001b[49m\u001b[43m)\u001b[49m\n",
      "\u001b[0;31mTypeError\u001b[0m: test5() missing 2 required positional arguments: 'a' and 'b'"
     ]
    }
   ],
   "source": [
    "#wrong way\n",
    "\n",
    "test5()"
   ]
  },
  {
   "cell_type": "code",
   "execution_count": 25,
   "id": "e8ba2dce-7dff-4e73-9b57-38ad5e3a54cc",
   "metadata": {},
   "outputs": [
    {
     "data": {
      "text/plain": [
       "4"
      ]
     },
     "execution_count": 25,
     "metadata": {},
     "output_type": "execute_result"
    }
   ],
   "source": [
    "test5(1,3)"
   ]
  },
  {
   "cell_type": "code",
   "execution_count": 26,
   "id": "5c31bc75-2969-46f4-9805-2f576a0c029a",
   "metadata": {},
   "outputs": [
    {
     "data": {
      "text/plain": [
       "'SudhKumar'"
      ]
     },
     "execution_count": 26,
     "metadata": {},
     "output_type": "execute_result"
    }
   ],
   "source": [
    "test5(\"Sudh\",\"Kumar\")"
   ]
  },
  {
   "cell_type": "code",
   "execution_count": 27,
   "id": "22b307f4-29c2-4ce4-bcc2-1c292053e3d9",
   "metadata": {},
   "outputs": [
    {
     "data": {
      "text/plain": [
       "[1, 2, 3, 4, 4, 5, 6, 7, 8]"
      ]
     },
     "execution_count": 27,
     "metadata": {},
     "output_type": "execute_result"
    }
   ],
   "source": [
    "test5([1,2,3,4],[4,5,6,7,8])"
   ]
  },
  {
   "cell_type": "code",
   "execution_count": 28,
   "id": "2ff27ba0-76b8-4cf1-8b3a-d653833dca3f",
   "metadata": {},
   "outputs": [
    {
     "data": {
      "text/plain": [
       "'kumarsudh'"
      ]
     },
     "execution_count": 28,
     "metadata": {},
     "output_type": "execute_result"
    }
   ],
   "source": [
    "test5(b = \"sudh\",a = \"kumar\")"
   ]
  },
  {
   "cell_type": "code",
   "execution_count": 29,
   "id": "00da310b-c39e-4896-90ac-77c4f0a55e99",
   "metadata": {},
   "outputs": [],
   "source": [
    "l = [1,2,3,4,5,\"sudh\",\"pwskills\",[1,2,3,34,45]]"
   ]
  },
  {
   "cell_type": "code",
   "execution_count": 30,
   "id": "9fa5afe5-3ebe-42b8-9d12-0f20d602dd20",
   "metadata": {},
   "outputs": [],
   "source": [
    "## create a function which will take list as a input and give a final list with all the numeric values "
   ]
  },
  {
   "cell_type": "code",
   "execution_count": 31,
   "id": "d3d4617a-638f-44f6-964c-718a537a1aca",
   "metadata": {},
   "outputs": [],
   "source": [
    "def test6(a):\n",
    "    n = []\n",
    "    for i in a:\n",
    "        if type(i)==int or type(i)==float:\n",
    "            n.append(i)\n",
    "            \n",
    "    return n"
   ]
  },
  {
   "cell_type": "code",
   "execution_count": 32,
   "id": "05e74ced-c8a9-4dae-be72-d52ab0f8aac4",
   "metadata": {},
   "outputs": [
    {
     "data": {
      "text/plain": [
       "[1, 2, 3, 4, 5]"
      ]
     },
     "execution_count": 32,
     "metadata": {},
     "output_type": "execute_result"
    }
   ],
   "source": [
    "test6(l)"
   ]
  },
  {
   "cell_type": "code",
   "execution_count": 33,
   "id": "e2194bc3-98c9-4d48-93f2-2a1e877797f7",
   "metadata": {},
   "outputs": [
    {
     "data": {
      "text/plain": [
       "[1, 2, 3, 4, 5, 'sudh', 'pwskills', [1, 2, 3, 34, 45]]"
      ]
     },
     "execution_count": 33,
     "metadata": {},
     "output_type": "execute_result"
    }
   ],
   "source": [
    "l"
   ]
  },
  {
   "cell_type": "code",
   "execution_count": 34,
   "id": "14fc4a53-02c7-4b95-b71d-dc43606b3114",
   "metadata": {},
   "outputs": [],
   "source": [
    "def test7(a):\n",
    "    n = []\n",
    "    for i in a:\n",
    "        if type(i)==list:\n",
    "            for j in i:\n",
    "                if type(j)==int or type(j)==float:\n",
    "                    n.append(j)\n",
    "        else:\n",
    "            if type(i)==int or type(i)==float:\n",
    "                n.append(i)\n",
    "                \n",
    "    return n"
   ]
  },
  {
   "cell_type": "code",
   "execution_count": 35,
   "id": "17a739de-f19d-4448-b5c7-a372333dd68a",
   "metadata": {},
   "outputs": [
    {
     "data": {
      "text/plain": [
       "[1, 2, 3, 4, 5, 1, 2, 3, 34, 45]"
      ]
     },
     "execution_count": 35,
     "metadata": {},
     "output_type": "execute_result"
    }
   ],
   "source": [
    "test7(l)"
   ]
  },
  {
   "cell_type": "code",
   "execution_count": null,
   "id": "ca2de726-912d-4fd2-8b2f-e11e707954a6",
   "metadata": {},
   "outputs": [],
   "source": []
  }
 ],
 "metadata": {
  "kernelspec": {
   "display_name": "Python 3 (ipykernel)",
   "language": "python",
   "name": "python3"
  },
  "language_info": {
   "codemirror_mode": {
    "name": "ipython",
    "version": 3
   },
   "file_extension": ".py",
   "mimetype": "text/x-python",
   "name": "python",
   "nbconvert_exporter": "python",
   "pygments_lexer": "ipython3",
   "version": "3.10.8"
  }
 },
 "nbformat": 4,
 "nbformat_minor": 5
}

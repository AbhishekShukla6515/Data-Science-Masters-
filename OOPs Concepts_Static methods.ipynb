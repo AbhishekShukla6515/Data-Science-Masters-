{
 "cells": [
  {
   "cell_type": "markdown",
   "id": "272cc5cb-dd8f-44dc-bf85-5243c2b3e730",
   "metadata": {},
   "source": [
    "# Static Methods"
   ]
  },
  {
   "cell_type": "code",
   "execution_count": 9,
   "id": "60009afa-12b6-461e-a68b-849253803d4e",
   "metadata": {},
   "outputs": [],
   "source": [
    "class pwskills:\n",
    "    def student_details(self, name, mail_id, number):\n",
    "        print(name, mail_id, number)"
   ]
  },
  {
   "cell_type": "code",
   "execution_count": 10,
   "id": "3716aeba-9e26-43f4-be8d-d985eed9d976",
   "metadata": {},
   "outputs": [],
   "source": [
    "pw = pwskills()"
   ]
  },
  {
   "cell_type": "code",
   "execution_count": 11,
   "id": "2c06de70-0a97-463c-ba45-8ba8793693ec",
   "metadata": {},
   "outputs": [
    {
     "name": "stdout",
     "output_type": "stream",
     "text": [
      "sudh sudh@gmail.com 91345353\n"
     ]
    }
   ],
   "source": [
    "pw.student_details(\"sudh\", \"sudh@gmail.com\", 91345353)"
   ]
  },
  {
   "cell_type": "markdown",
   "id": "91e6bd37-a5da-4c65-b816-1eaabd98005d",
   "metadata": {},
   "source": [
    "Here, if we are going to create multiple objects, then for each and every object, it is going to replicate the same method. Because this is a method which is specific to an object.\n",
    "So, by the time we create an object, it will try to replicate in the memory. In this way, the memory consumption is going to be very very high.\n",
    "\n",
    "And suppose if we want to pass something which is common to the entire class, then again, we will not be able to do so in this way (because it is specific to an object)."
   ]
  },
  {
   "cell_type": "code",
   "execution_count": 12,
   "id": "7128b866-eb3c-46e4-8988-cfa81536d657",
   "metadata": {},
   "outputs": [],
   "source": [
    "class pwskills1:\n",
    "    def student_details(self, name, mail_id, number):\n",
    "        print(name, mail_id, number)\n",
    "        \n",
    "    @staticmethod\n",
    "    def mentor_class(list_mentor):\n",
    "        print(list_mentor)\n",
    "        \n",
    "    def mentor(self, mentor_list):\n",
    "        print(mentor_list)"
   ]
  },
  {
   "cell_type": "code",
   "execution_count": 13,
   "id": "86e68d2d-b40f-4e90-9663-50678d3c0159",
   "metadata": {},
   "outputs": [
    {
     "name": "stdout",
     "output_type": "stream",
     "text": [
      "['sudh', 'krish']\n"
     ]
    }
   ],
   "source": [
    "pwskills1.mentor_class([\"sudh\", \"krish\"])"
   ]
  },
  {
   "cell_type": "markdown",
   "id": "089d9ec3-bc63-416b-a892-32ce00a70f26",
   "metadata": {},
   "source": [
    "This function will be available to the class directly. Also, to whatever object we are going to create."
   ]
  },
  {
   "cell_type": "code",
   "execution_count": 14,
   "id": "cee72a74-58c8-4a48-b068-168daf6e06d6",
   "metadata": {},
   "outputs": [],
   "source": [
    "pw1 = pwskills1()"
   ]
  },
  {
   "cell_type": "code",
   "execution_count": 15,
   "id": "dddf106d-e1be-459b-a1b2-3bf64fef71b2",
   "metadata": {},
   "outputs": [
    {
     "name": "stdout",
     "output_type": "stream",
     "text": [
      "['krish', 'sudh']\n"
     ]
    }
   ],
   "source": [
    "pw1.mentor([\"krish\", \"sudh\"])"
   ]
  },
  {
   "cell_type": "code",
   "execution_count": 16,
   "id": "90590ebb-8b6f-40b0-8d56-b3a74febcc14",
   "metadata": {},
   "outputs": [
    {
     "name": "stdout",
     "output_type": "stream",
     "text": [
      "['sudh', 'naik']\n"
     ]
    }
   ],
   "source": [
    "pw1.mentor_class([\"sudh\", \"naik\"])"
   ]
  },
  {
   "cell_type": "code",
   "execution_count": 19,
   "id": "d71e1022-4470-4221-9770-4225dd22c67f",
   "metadata": {},
   "outputs": [],
   "source": [
    "class pwskills1:\n",
    "    def student_details(self, name, mail_id, number):\n",
    "        print(name, mail_id, number)\n",
    "        \n",
    "    @staticmethod\n",
    "    def mentor_mail_id(mail_id):\n",
    "        print(mail_id)\n",
    "        \n",
    "    @staticmethod\n",
    "    def mentor_class(list_mentor):\n",
    "        print(list_mentor)\n",
    "        pwskills1.mentor_mail_id([\"krish@gmail.com\", \"sudh@gmail.com\"])\n",
    "        \n",
    "    @classmethod\n",
    "    def class_name(cls, class_name):\n",
    "        cls.mentor_class([\"sudh\",\"krish\"])\n",
    "        \n",
    "    def mentor(self, mentor_list):\n",
    "        print(mentor_list)\n",
    "        self.mentor_class([\"Krish\",\"Sudh\"])"
   ]
  },
  {
   "cell_type": "code",
   "execution_count": 20,
   "id": "a19533e9-7cbb-4aad-8e0a-de4dd81dc3a4",
   "metadata": {},
   "outputs": [],
   "source": [
    "pw1 = pwskills1()"
   ]
  },
  {
   "cell_type": "code",
   "execution_count": 21,
   "id": "fe4eef9e-8407-4f13-a3d9-8895830b2ade",
   "metadata": {},
   "outputs": [
    {
     "name": "stdout",
     "output_type": "stream",
     "text": [
      "mohan mohan@gmail.com 9675657657\n"
     ]
    }
   ],
   "source": [
    "pw1.student_details(\"mohan\", \"mohan@gmail.com\", 9675657657)"
   ]
  },
  {
   "cell_type": "code",
   "execution_count": 22,
   "id": "e79ef1ea-2462-4054-a1eb-e07c8dbad0a6",
   "metadata": {},
   "outputs": [
    {
     "name": "stdout",
     "output_type": "stream",
     "text": [
      "['krish@gmail.com', 'sudh@gmail.com']\n"
     ]
    }
   ],
   "source": [
    "pw1.mentor_mail_id([\"krish@gmail.com\", \"sudh@gmail.com\"])"
   ]
  },
  {
   "cell_type": "code",
   "execution_count": 23,
   "id": "a7576942-502b-409a-9a63-ad9916d0cd8e",
   "metadata": {},
   "outputs": [
    {
     "name": "stdout",
     "output_type": "stream",
     "text": [
      "['sudh', 'krish']\n",
      "['krish@gmail.com', 'sudh@gmail.com']\n"
     ]
    }
   ],
   "source": [
    "pw1.class_name(\"Data Science Masters\")"
   ]
  },
  {
   "cell_type": "code",
   "execution_count": 24,
   "id": "2621f179-9a19-41ee-8287-86d5c5ba044e",
   "metadata": {},
   "outputs": [
    {
     "name": "stdout",
     "output_type": "stream",
     "text": [
      "['krish@gmail.com', 'sudh@gmail.com']\n"
     ]
    }
   ],
   "source": [
    "pwskills1.mentor_mail_id([\"krish@gmail.com\", \"sudh@gmail.com\"])"
   ]
  },
  {
   "cell_type": "markdown",
   "id": "a2a8cfa5-2b3a-4c0b-86c0-28f1df8d19af",
   "metadata": {},
   "source": [
    "* static method - on object creation, it is not going to replicate. Always try to reduce memory utilization\n",
    "* class method - always helps to overload __init__() method. Will give access to a variable and we can perform any kind of operations."
   ]
  },
  {
   "cell_type": "code",
   "execution_count": null,
   "id": "037a7d0f-d99f-4c89-b1cf-4b73815043e3",
   "metadata": {},
   "outputs": [],
   "source": []
  }
 ],
 "metadata": {
  "kernelspec": {
   "display_name": "Python 3 (ipykernel)",
   "language": "python",
   "name": "python3"
  },
  "language_info": {
   "codemirror_mode": {
    "name": "ipython",
    "version": 3
   },
   "file_extension": ".py",
   "mimetype": "text/x-python",
   "name": "python",
   "nbconvert_exporter": "python",
   "pygments_lexer": "ipython3",
   "version": "3.10.8"
  }
 },
 "nbformat": 4,
 "nbformat_minor": 5
}

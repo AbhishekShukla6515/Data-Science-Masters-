{
 "cells": [
  {
   "cell_type": "markdown",
   "id": "86951377-b8b6-4df6-85d4-683d36ea9c5f",
   "metadata": {},
   "source": [
    "# DAY 5"
   ]
  },
  {
   "cell_type": "markdown",
   "id": "b415c567-e3f0-4fda-996d-04801a89336a",
   "metadata": {},
   "source": [
    "## Dictionary"
   ]
  },
  {
   "cell_type": "code",
   "execution_count": 1,
   "id": "b41bda3b-2d22-4bf8-a444-49550ffc8906",
   "metadata": {},
   "outputs": [],
   "source": [
    "d = {}"
   ]
  },
  {
   "cell_type": "code",
   "execution_count": 2,
   "id": "977de891-fca7-4aef-a417-60958297cea8",
   "metadata": {},
   "outputs": [
    {
     "data": {
      "text/plain": [
       "dict"
      ]
     },
     "execution_count": 2,
     "metadata": {},
     "output_type": "execute_result"
    }
   ],
   "source": [
    "type(d)"
   ]
  },
  {
   "cell_type": "code",
   "execution_count": 3,
   "id": "95d24234-845d-4bb1-a5bf-5bf3ca06885e",
   "metadata": {},
   "outputs": [],
   "source": [
    "d1 = {\"name\":\"Abhishek\",\"email_id\":\"abc@gmail.com\",\"number\":234324}"
   ]
  },
  {
   "cell_type": "code",
   "execution_count": 4,
   "id": "e4910ddc-768b-47f0-86cf-cfdef8d38933",
   "metadata": {},
   "outputs": [
    {
     "data": {
      "text/plain": [
       "dict"
      ]
     },
     "execution_count": 4,
     "metadata": {},
     "output_type": "execute_result"
    }
   ],
   "source": [
    "type(d1)"
   ]
  },
  {
   "cell_type": "code",
   "execution_count": 5,
   "id": "886742de-8b62-468b-b673-767e426942ea",
   "metadata": {},
   "outputs": [
    {
     "data": {
      "text/plain": [
       "{'name': 'Abhishek', 'email_id': 'abc@gmail.com', 'number': 234324}"
      ]
     },
     "execution_count": 5,
     "metadata": {},
     "output_type": "execute_result"
    }
   ],
   "source": [
    "d1"
   ]
  },
  {
   "cell_type": "code",
   "execution_count": 6,
   "id": "b32958f8-bf03-4a49-951e-4f20651b6464",
   "metadata": {},
   "outputs": [],
   "source": [
    "d2 = {\"name\" : \"sudh\", \"name\" : \"sudhanshu\"}"
   ]
  },
  {
   "cell_type": "code",
   "execution_count": 7,
   "id": "ded538f3-affc-44a5-afc1-003ce39dc1ef",
   "metadata": {},
   "outputs": [
    {
     "data": {
      "text/plain": [
       "{'name': 'sudhanshu'}"
      ]
     },
     "execution_count": 7,
     "metadata": {},
     "output_type": "execute_result"
    }
   ],
   "source": [
    "d2"
   ]
  },
  {
   "cell_type": "markdown",
   "id": "0fd162e5-412c-49ec-94de-4e9c946bc558",
   "metadata": {},
   "source": [
    "Whenever we are creating a dictionary, the key should be unique.\n",
    "* If we try to create same key again, it will try to update with new values."
   ]
  },
  {
   "cell_type": "code",
   "execution_count": 8,
   "id": "435fefe5-752d-4969-95dd-4b40927a772b",
   "metadata": {},
   "outputs": [],
   "source": [
    "d3 = {234324 : \"abc\"}"
   ]
  },
  {
   "cell_type": "code",
   "execution_count": 9,
   "id": "de0f5b8c-40d4-47c5-a326-b76d2fe35793",
   "metadata": {},
   "outputs": [
    {
     "data": {
      "text/plain": [
       "{234324: 'abc'}"
      ]
     },
     "execution_count": 9,
     "metadata": {},
     "output_type": "execute_result"
    }
   ],
   "source": [
    "d3"
   ]
  },
  {
   "cell_type": "code",
   "execution_count": 10,
   "id": "0c9241aa-7a61-4a35-a458-c35a25d72584",
   "metadata": {},
   "outputs": [],
   "source": [
    "d4 = {True : \"abc\"} "
   ]
  },
  {
   "cell_type": "code",
   "execution_count": 11,
   "id": "e651c64e-d82a-4757-b355-286b24e6c5aa",
   "metadata": {},
   "outputs": [
    {
     "data": {
      "text/plain": [
       "{True: 'abc'}"
      ]
     },
     "execution_count": 11,
     "metadata": {},
     "output_type": "execute_result"
    }
   ],
   "source": [
    "d4"
   ]
  },
  {
   "cell_type": "markdown",
   "id": "4b68de2d-e78d-4e89-8827-a8f28508d546",
   "metadata": {},
   "source": [
    "Key can be a string, numeric or boolean value."
   ]
  },
  {
   "cell_type": "code",
   "execution_count": 16,
   "id": "9e1bd6da-4f92-4ecf-a869-5c689e3eed43",
   "metadata": {},
   "outputs": [
    {
     "ename": "SyntaxError",
     "evalue": "incomplete input (522834223.py, line 3)",
     "output_type": "error",
     "traceback": [
      "\u001b[0;36m  Cell \u001b[0;32mIn[16], line 3\u001b[0;36m\u001b[0m\n\u001b[0;31m    d6 = { # : \"abc\"}\u001b[0m\n\u001b[0m                     ^\u001b[0m\n\u001b[0;31mSyntaxError\u001b[0m\u001b[0;31m:\u001b[0m incomplete input\n"
     ]
    }
   ],
   "source": [
    "# this will give error\n",
    "\n",
    "d6 = { # : \"abc\"}"
   ]
  },
  {
   "cell_type": "code",
   "execution_count": 17,
   "id": "f0231c1d-9fd3-477a-bd65-f45600765b7a",
   "metadata": {},
   "outputs": [
    {
     "ename": "SyntaxError",
     "evalue": "invalid syntax (1233833099.py, line 3)",
     "output_type": "error",
     "traceback": [
      "\u001b[0;36m  Cell \u001b[0;32mIn[17], line 3\u001b[0;36m\u001b[0m\n\u001b[0;31m    d7 = { @ : \"abc\"}\u001b[0m\n\u001b[0m           ^\u001b[0m\n\u001b[0;31mSyntaxError\u001b[0m\u001b[0;31m:\u001b[0m invalid syntax\n"
     ]
    }
   ],
   "source": [
    "## this will also generate error\n",
    "\n",
    "d7 = { @ : \"abc\"}"
   ]
  },
  {
   "cell_type": "markdown",
   "id": "fbe6cefc-9fdc-4274-8424-d01e70dd09c2",
   "metadata": {},
   "source": [
    "We won't be able to take a special case character as a key."
   ]
  },
  {
   "cell_type": "code",
   "execution_count": 18,
   "id": "43cdf6ca-1a36-4d98-b591-71c144e67dcf",
   "metadata": {},
   "outputs": [
    {
     "ename": "TypeError",
     "evalue": "unhashable type: 'list'",
     "output_type": "error",
     "traceback": [
      "\u001b[0;31m---------------------------------------------------------------------------\u001b[0m",
      "\u001b[0;31mTypeError\u001b[0m                                 Traceback (most recent call last)",
      "Cell \u001b[0;32mIn[18], line 3\u001b[0m\n\u001b[1;32m      1\u001b[0m \u001b[38;5;66;03m## error will be generated\u001b[39;00m\n\u001b[0;32m----> 3\u001b[0m d8 \u001b[38;5;241m=\u001b[39m {[\u001b[38;5;241m1\u001b[39m,\u001b[38;5;241m2\u001b[39m,\u001b[38;5;241m3\u001b[39m]:\u001b[38;5;124m\"\u001b[39m\u001b[38;5;124mabc\u001b[39m\u001b[38;5;124m\"\u001b[39m}\n",
      "\u001b[0;31mTypeError\u001b[0m: unhashable type: 'list'"
     ]
    }
   ],
   "source": [
    "## error will be generated\n",
    "\n",
    "d8 = {[1,2,3]:\"abc\"}"
   ]
  },
  {
   "cell_type": "code",
   "execution_count": 19,
   "id": "ab23ad54-f246-461a-86ad-44a1fdd595ef",
   "metadata": {},
   "outputs": [],
   "source": [
    "d9 = {(1,2,3):\"abc\"}"
   ]
  },
  {
   "cell_type": "code",
   "execution_count": 20,
   "id": "76378162-1ab1-4ad6-9b0c-61901cebbf98",
   "metadata": {},
   "outputs": [
    {
     "data": {
      "text/plain": [
       "{(1, 2, 3): 'abc'}"
      ]
     },
     "execution_count": 20,
     "metadata": {},
     "output_type": "execute_result"
    }
   ],
   "source": [
    "d9"
   ]
  },
  {
   "cell_type": "markdown",
   "id": "2a2cc7ce-c930-40c8-ba40-5db780fa46f5",
   "metadata": {},
   "source": [
    "List is unhashable type. \n",
    "* System is not able to create a hash code or hash map for list when we try to pass it as a key\n",
    "* But tuples can behave as key."
   ]
  },
  {
   "cell_type": "code",
   "execution_count": 22,
   "id": "e43deae5-e8b1-4dc4-8a1f-8e1b79ad831b",
   "metadata": {},
   "outputs": [
    {
     "ename": "TypeError",
     "evalue": "unhashable type: 'set'",
     "output_type": "error",
     "traceback": [
      "\u001b[0;31m---------------------------------------------------------------------------\u001b[0m",
      "\u001b[0;31mTypeError\u001b[0m                                 Traceback (most recent call last)",
      "Cell \u001b[0;32mIn[22], line 3\u001b[0m\n\u001b[1;32m      1\u001b[0m \u001b[38;5;66;03m## it will lead to error\u001b[39;00m\n\u001b[0;32m----> 3\u001b[0m d10 \u001b[38;5;241m=\u001b[39m {{\u001b[38;5;241m1\u001b[39m,\u001b[38;5;241m2\u001b[39m,\u001b[38;5;241m3\u001b[39m} : \u001b[38;5;124m\"\u001b[39m\u001b[38;5;124mabc\u001b[39m\u001b[38;5;124m\"\u001b[39m}\n",
      "\u001b[0;31mTypeError\u001b[0m: unhashable type: 'set'"
     ]
    }
   ],
   "source": [
    "## it will lead to error\n",
    "\n",
    "d10 = {{1,2,3} : \"abc\"}"
   ]
  },
  {
   "cell_type": "code",
   "execution_count": 23,
   "id": "1f11fe3c-4a16-4600-8f8c-4c8957bca44d",
   "metadata": {},
   "outputs": [
    {
     "ename": "TypeError",
     "evalue": "unhashable type: 'dict'",
     "output_type": "error",
     "traceback": [
      "\u001b[0;31m---------------------------------------------------------------------------\u001b[0m",
      "\u001b[0;31mTypeError\u001b[0m                                 Traceback (most recent call last)",
      "Cell \u001b[0;32mIn[23], line 3\u001b[0m\n\u001b[1;32m      1\u001b[0m \u001b[38;5;66;03m## this will also generate error\u001b[39;00m\n\u001b[0;32m----> 3\u001b[0m d11 \u001b[38;5;241m=\u001b[39m {{\u001b[38;5;124m\"\u001b[39m\u001b[38;5;124mkey\u001b[39m\u001b[38;5;124m\"\u001b[39m : \u001b[38;5;241m234\u001b[39m} : \u001b[38;5;124m\"\u001b[39m\u001b[38;5;124mabc\u001b[39m\u001b[38;5;124m\"\u001b[39m}\n",
      "\u001b[0;31mTypeError\u001b[0m: unhashable type: 'dict'"
     ]
    }
   ],
   "source": [
    "## this will also generate error\n",
    "\n",
    "d11 = {{\"key\" : 234} : \"abc\"}"
   ]
  },
  {
   "cell_type": "markdown",
   "id": "b34987fb-2801-4733-bfd6-26cdf654d34b",
   "metadata": {},
   "source": [
    "Out of collections, we can only use tuples as key in a dictionary."
   ]
  },
  {
   "cell_type": "code",
   "execution_count": 24,
   "id": "fbcc0aca-12e3-4751-85ef-963afe0f15d5",
   "metadata": {},
   "outputs": [],
   "source": [
    "d12 = {\"course_name\" : [\"Data Science Masters\", \"Web Dev\", \"Java with DSA and system Design\"]}"
   ]
  },
  {
   "cell_type": "code",
   "execution_count": 25,
   "id": "05340e75-3a0f-46dc-a886-b24f495055ac",
   "metadata": {},
   "outputs": [
    {
     "data": {
      "text/plain": [
       "{'course_name': ['Data Science Masters',\n",
       "  'Web Dev',\n",
       "  'Java with DSA and system Design']}"
      ]
     },
     "execution_count": 25,
     "metadata": {},
     "output_type": "execute_result"
    }
   ],
   "source": [
    "d12"
   ]
  },
  {
   "cell_type": "markdown",
   "id": "5ff070da-55bc-4ad7-80fd-58ef908627cd",
   "metadata": {},
   "source": [
    "Values as lists are allowed.\n",
    "* Sets and tuples are also allowed."
   ]
  },
  {
   "cell_type": "code",
   "execution_count": 26,
   "id": "73e90929-35b0-46cd-bed7-cc436efaa0a2",
   "metadata": {},
   "outputs": [
    {
     "data": {
      "text/plain": [
       "{'key': (1, 2, 3, 4, 5)}"
      ]
     },
     "execution_count": 26,
     "metadata": {},
     "output_type": "execute_result"
    }
   ],
   "source": [
    "d13 = {\"key\" : (1,2,3,4,5)}\n",
    "d13"
   ]
  },
  {
   "cell_type": "code",
   "execution_count": 27,
   "id": "f59bd158-831c-4cc1-9fca-77c53d8335ba",
   "metadata": {},
   "outputs": [
    {
     "data": {
      "text/plain": [
       "{'key': {1, 2, 3, 4, 5}}"
      ]
     },
     "execution_count": 27,
     "metadata": {},
     "output_type": "execute_result"
    }
   ],
   "source": [
    "d14 = {\"key\" : {1,2,3,4,5}}\n",
    "d14"
   ]
  },
  {
   "cell_type": "markdown",
   "id": "011f0bcc-d942-4931-a51d-75c320a41e2c",
   "metadata": {},
   "source": [
    "We can also create a dictionary inside a dictionary (nested dictionary)"
   ]
  },
  {
   "cell_type": "code",
   "execution_count": 28,
   "id": "8c6f3703-3608-410b-a7e3-926da2cfaa0c",
   "metadata": {},
   "outputs": [
    {
     "data": {
      "text/plain": [
       "{'key': {'name': 'Abhishek', 'class': 'DSM'}}"
      ]
     },
     "execution_count": 28,
     "metadata": {},
     "output_type": "execute_result"
    }
   ],
   "source": [
    "d15 = {\"key\" : {\"name\" : \"Abhishek\", \"class\" : \"DSM\"}}\n",
    "d15"
   ]
  },
  {
   "cell_type": "code",
   "execution_count": 29,
   "id": "687de579-a130-42a8-b299-b322d5363ab6",
   "metadata": {},
   "outputs": [],
   "source": [
    "d16 = {\"batch_name\" : [\"Data Science Masters\",\"Web Dev\",\"JDS\"],\"start_date\" : (28,14,21),\"mentor_name\" : {\"Krish\",\"Sudhanshu\",\"Naveen\",\"Hitesh\",\"Alakh\",\"Harry\"}}"
   ]
  },
  {
   "cell_type": "code",
   "execution_count": 30,
   "id": "b0392fe1-7e2a-4df8-b0f3-52018343a555",
   "metadata": {},
   "outputs": [
    {
     "data": {
      "text/plain": [
       "{'batch_name': ['Data Science Masters', 'Web Dev', 'JDS'],\n",
       " 'start_date': (28, 14, 21),\n",
       " 'mentor_name': {'Alakh', 'Harry', 'Hitesh', 'Krish', 'Naveen', 'Sudhanshu'}}"
      ]
     },
     "execution_count": 30,
     "metadata": {},
     "output_type": "execute_result"
    }
   ],
   "source": [
    "d16"
   ]
  },
  {
   "cell_type": "code",
   "execution_count": 31,
   "id": "13d06565-60d3-4b30-b436-8195e1bec51f",
   "metadata": {},
   "outputs": [],
   "source": [
    "d16[\"timing\"] = (8,8,8)"
   ]
  },
  {
   "cell_type": "code",
   "execution_count": 32,
   "id": "8151ed41-830d-4838-afd2-4f26fa05b123",
   "metadata": {},
   "outputs": [
    {
     "data": {
      "text/plain": [
       "{'batch_name': ['Data Science Masters', 'Web Dev', 'JDS'],\n",
       " 'start_date': (28, 14, 21),\n",
       " 'mentor_name': {'Alakh', 'Harry', 'Hitesh', 'Krish', 'Naveen', 'Sudhanshu'},\n",
       " 'timing': (8, 8, 8)}"
      ]
     },
     "execution_count": 32,
     "metadata": {},
     "output_type": "execute_result"
    }
   ],
   "source": [
    "d16"
   ]
  },
  {
   "cell_type": "code",
   "execution_count": 33,
   "id": "5eb62ca9-5c9c-4f62-a766-28909f2e4582",
   "metadata": {},
   "outputs": [
    {
     "data": {
      "text/plain": [
       "['Data Science Masters', 'Web Dev', 'JDS']"
      ]
     },
     "execution_count": 33,
     "metadata": {},
     "output_type": "execute_result"
    }
   ],
   "source": [
    "d16['batch_name']"
   ]
  },
  {
   "cell_type": "code",
   "execution_count": 34,
   "id": "e184794c-9584-4c43-b539-0b0b0aa0fadb",
   "metadata": {},
   "outputs": [
    {
     "data": {
      "text/plain": [
       "{'Alakh', 'Harry', 'Hitesh', 'Krish', 'Naveen', 'Sudhanshu'}"
      ]
     },
     "execution_count": 34,
     "metadata": {},
     "output_type": "execute_result"
    }
   ],
   "source": [
    "d16['mentor_name']"
   ]
  },
  {
   "cell_type": "code",
   "execution_count": 35,
   "id": "d74a5597-73fb-434a-ad10-86a9e80416cf",
   "metadata": {},
   "outputs": [
    {
     "data": {
      "text/plain": [
       "set"
      ]
     },
     "execution_count": 35,
     "metadata": {},
     "output_type": "execute_result"
    }
   ],
   "source": [
    "type(d16['mentor_name'])"
   ]
  },
  {
   "cell_type": "code",
   "execution_count": 36,
   "id": "8eaceb3e-0cc1-45c4-bc9b-558b142c73ac",
   "metadata": {},
   "outputs": [
    {
     "ename": "KeyError",
     "evalue": "'key'",
     "output_type": "error",
     "traceback": [
      "\u001b[0;31m---------------------------------------------------------------------------\u001b[0m",
      "\u001b[0;31mKeyError\u001b[0m                                  Traceback (most recent call last)",
      "Cell \u001b[0;32mIn[36], line 3\u001b[0m\n\u001b[1;32m      1\u001b[0m \u001b[38;5;66;03m## this will generate error\u001b[39;00m\n\u001b[0;32m----> 3\u001b[0m \u001b[43md16\u001b[49m\u001b[43m[\u001b[49m\u001b[38;5;124;43m\"\u001b[39;49m\u001b[38;5;124;43mkey\u001b[39;49m\u001b[38;5;124;43m\"\u001b[39;49m\u001b[43m]\u001b[49m\n",
      "\u001b[0;31mKeyError\u001b[0m: 'key'"
     ]
    }
   ],
   "source": [
    "## this will generate error\n",
    "\n",
    "d16[\"key\"]"
   ]
  },
  {
   "cell_type": "code",
   "execution_count": 37,
   "id": "ec3b1204-c9b3-49fb-9e03-f204b58f7718",
   "metadata": {},
   "outputs": [],
   "source": [
    "d16[\"name\"] = \"Abhishek\""
   ]
  },
  {
   "cell_type": "code",
   "execution_count": 38,
   "id": "04d927e6-0dba-4e55-b7ae-e0f0ddc39b37",
   "metadata": {},
   "outputs": [
    {
     "data": {
      "text/plain": [
       "{'batch_name': ['Data Science Masters', 'Web Dev', 'JDS'],\n",
       " 'start_date': (28, 14, 21),\n",
       " 'mentor_name': {'Alakh', 'Harry', 'Hitesh', 'Krish', 'Naveen', 'Sudhanshu'},\n",
       " 'timing': (8, 8, 8),\n",
       " 'name': 'Abhishek'}"
      ]
     },
     "execution_count": 38,
     "metadata": {},
     "output_type": "execute_result"
    }
   ],
   "source": [
    "d16"
   ]
  },
  {
   "cell_type": "code",
   "execution_count": 39,
   "id": "23c0562c-c4d8-466b-8d38-6eccf7593846",
   "metadata": {},
   "outputs": [
    {
     "data": {
      "text/plain": [
       "'ABHISHEK'"
      ]
     },
     "execution_count": 39,
     "metadata": {},
     "output_type": "execute_result"
    }
   ],
   "source": [
    "d16['name'].upper()"
   ]
  },
  {
   "cell_type": "code",
   "execution_count": 40,
   "id": "246525ff-3ab1-4fd3-8543-c78cc4ff2a62",
   "metadata": {},
   "outputs": [
    {
     "data": {
      "text/plain": [
       "{'key': {'name': 'Abhishek', 'class': 'DSM'}}"
      ]
     },
     "execution_count": 40,
     "metadata": {},
     "output_type": "execute_result"
    }
   ],
   "source": [
    "d15"
   ]
  },
  {
   "cell_type": "code",
   "execution_count": 41,
   "id": "e41a7d1b-f675-4ef5-bc4d-b5e8b156005e",
   "metadata": {},
   "outputs": [
    {
     "data": {
      "text/plain": [
       "{'name': 'Abhishek', 'class': 'DSM'}"
      ]
     },
     "execution_count": 41,
     "metadata": {},
     "output_type": "execute_result"
    }
   ],
   "source": [
    "d15['key']"
   ]
  },
  {
   "cell_type": "code",
   "execution_count": 42,
   "id": "b979d549-062f-4a5d-8e55-781e08b62307",
   "metadata": {},
   "outputs": [
    {
     "data": {
      "text/plain": [
       "dict"
      ]
     },
     "execution_count": 42,
     "metadata": {},
     "output_type": "execute_result"
    }
   ],
   "source": [
    "type(d15['key'])"
   ]
  },
  {
   "cell_type": "code",
   "execution_count": 43,
   "id": "814dead5-e2ae-4f7b-a4bc-a0709e63bd07",
   "metadata": {},
   "outputs": [
    {
     "data": {
      "text/plain": [
       "'DSM'"
      ]
     },
     "execution_count": 43,
     "metadata": {},
     "output_type": "execute_result"
    }
   ],
   "source": [
    "d15['key']['class']"
   ]
  },
  {
   "cell_type": "code",
   "execution_count": 44,
   "id": "c38aa2c6-37fc-4b61-9acb-660649364fc2",
   "metadata": {},
   "outputs": [],
   "source": [
    "d15[\"key1\"] = \"abc\""
   ]
  },
  {
   "cell_type": "code",
   "execution_count": 45,
   "id": "a9a5bb8b-2b78-4e07-a8ef-becbe06b242c",
   "metadata": {},
   "outputs": [
    {
     "data": {
      "text/plain": [
       "{'key': {'name': 'Abhishek', 'class': 'DSM'}, 'key1': 'abc'}"
      ]
     },
     "execution_count": 45,
     "metadata": {},
     "output_type": "execute_result"
    }
   ],
   "source": [
    "d15"
   ]
  },
  {
   "cell_type": "code",
   "execution_count": 46,
   "id": "1f36cb7e-4e47-4b91-864b-83b35c16d15f",
   "metadata": {},
   "outputs": [],
   "source": [
    "del d15['key1']"
   ]
  },
  {
   "cell_type": "code",
   "execution_count": 47,
   "id": "eb52ca6d-ff80-4e7c-9433-f2090b2d0b7a",
   "metadata": {},
   "outputs": [
    {
     "data": {
      "text/plain": [
       "{'key': {'name': 'Abhishek', 'class': 'DSM'}}"
      ]
     },
     "execution_count": 47,
     "metadata": {},
     "output_type": "execute_result"
    }
   ],
   "source": [
    "d15"
   ]
  },
  {
   "cell_type": "code",
   "execution_count": 48,
   "id": "fc2b3ff7-b427-4b61-95b0-c206b05bed12",
   "metadata": {},
   "outputs": [],
   "source": [
    "d15.clear()"
   ]
  },
  {
   "cell_type": "code",
   "execution_count": 49,
   "id": "44ca8fb2-550b-47f5-80dc-99d824eb5a7c",
   "metadata": {},
   "outputs": [
    {
     "data": {
      "text/plain": [
       "{}"
      ]
     },
     "execution_count": 49,
     "metadata": {},
     "output_type": "execute_result"
    }
   ],
   "source": [
    "d15"
   ]
  },
  {
   "cell_type": "code",
   "execution_count": 51,
   "id": "c914966f-4bcd-4dee-a898-b14ce94110ca",
   "metadata": {},
   "outputs": [
    {
     "data": {
      "text/plain": [
       "5"
      ]
     },
     "execution_count": 51,
     "metadata": {},
     "output_type": "execute_result"
    }
   ],
   "source": [
    "len(d16)\n",
    "\n",
    "# this will give total number of key-value pair"
   ]
  },
  {
   "cell_type": "code",
   "execution_count": 52,
   "id": "85d12b21-c303-4d70-abfd-94e5ec81fe72",
   "metadata": {},
   "outputs": [
    {
     "data": {
      "text/plain": [
       "dict_keys(['batch_name', 'start_date', 'mentor_name', 'timing', 'name'])"
      ]
     },
     "execution_count": 52,
     "metadata": {},
     "output_type": "execute_result"
    }
   ],
   "source": [
    "d16.keys()"
   ]
  },
  {
   "cell_type": "code",
   "execution_count": 53,
   "id": "b62d25a8-8f49-443e-88d2-c1808c8dc7d8",
   "metadata": {},
   "outputs": [
    {
     "data": {
      "text/plain": [
       "dict_values([['Data Science Masters', 'Web Dev', 'JDS'], (28, 14, 21), {'Harry', 'Alakh', 'Hitesh', 'Krish', 'Naveen', 'Sudhanshu'}, (8, 8, 8), 'Abhishek'])"
      ]
     },
     "execution_count": 53,
     "metadata": {},
     "output_type": "execute_result"
    }
   ],
   "source": [
    "d16.values()"
   ]
  },
  {
   "cell_type": "code",
   "execution_count": 54,
   "id": "bffa4019-6b72-4605-9374-790c3cf1806e",
   "metadata": {},
   "outputs": [
    {
     "data": {
      "text/plain": [
       "['batch_name', 'start_date', 'mentor_name', 'timing', 'name']"
      ]
     },
     "execution_count": 54,
     "metadata": {},
     "output_type": "execute_result"
    }
   ],
   "source": [
    "list(d16.keys())"
   ]
  },
  {
   "cell_type": "code",
   "execution_count": 55,
   "id": "fc267816-e079-414e-975b-a8a5493920a6",
   "metadata": {},
   "outputs": [
    {
     "data": {
      "text/plain": [
       "[['Data Science Masters', 'Web Dev', 'JDS'],\n",
       " (28, 14, 21),\n",
       " {'Alakh', 'Harry', 'Hitesh', 'Krish', 'Naveen', 'Sudhanshu'},\n",
       " (8, 8, 8),\n",
       " 'Abhishek']"
      ]
     },
     "execution_count": 55,
     "metadata": {},
     "output_type": "execute_result"
    }
   ],
   "source": [
    "list(d16.values())"
   ]
  },
  {
   "cell_type": "code",
   "execution_count": 56,
   "id": "fdbec87b-c12c-463f-8554-4c1164a52c87",
   "metadata": {},
   "outputs": [
    {
     "data": {
      "text/plain": [
       "dict_items([('batch_name', ['Data Science Masters', 'Web Dev', 'JDS']), ('start_date', (28, 14, 21)), ('mentor_name', {'Harry', 'Alakh', 'Hitesh', 'Krish', 'Naveen', 'Sudhanshu'}), ('timing', (8, 8, 8)), ('name', 'Abhishek')])"
      ]
     },
     "execution_count": 56,
     "metadata": {},
     "output_type": "execute_result"
    }
   ],
   "source": [
    "d16.items()"
   ]
  },
  {
   "cell_type": "code",
   "execution_count": 57,
   "id": "46947faf-3d9d-415a-bbf1-66d1b59e91f5",
   "metadata": {},
   "outputs": [
    {
     "data": {
      "text/plain": [
       "[('batch_name', ['Data Science Masters', 'Web Dev', 'JDS']),\n",
       " ('start_date', (28, 14, 21)),\n",
       " ('mentor_name', {'Alakh', 'Harry', 'Hitesh', 'Krish', 'Naveen', 'Sudhanshu'}),\n",
       " ('timing', (8, 8, 8)),\n",
       " ('name', 'Abhishek')]"
      ]
     },
     "execution_count": 57,
     "metadata": {},
     "output_type": "execute_result"
    }
   ],
   "source": [
    "list(d16.items())"
   ]
  },
  {
   "cell_type": "code",
   "execution_count": 58,
   "id": "454b3187-e655-4d95-aebc-fdc567d814b1",
   "metadata": {},
   "outputs": [],
   "source": [
    "d17 = d16.copy()"
   ]
  },
  {
   "cell_type": "code",
   "execution_count": 59,
   "id": "f6ac9c09-a1a9-41e8-94fb-fbac68507af6",
   "metadata": {},
   "outputs": [
    {
     "data": {
      "text/plain": [
       "{'batch_name': ['Data Science Masters', 'Web Dev', 'JDS'],\n",
       " 'start_date': (28, 14, 21),\n",
       " 'mentor_name': {'Alakh', 'Harry', 'Hitesh', 'Krish', 'Naveen', 'Sudhanshu'},\n",
       " 'timing': (8, 8, 8),\n",
       " 'name': 'Abhishek'}"
      ]
     },
     "execution_count": 59,
     "metadata": {},
     "output_type": "execute_result"
    }
   ],
   "source": [
    "d17"
   ]
  },
  {
   "cell_type": "markdown",
   "id": "a28a2eb6-766b-41cb-baeb-2086539749b7",
   "metadata": {},
   "source": [
    "copy() method creates a replica.\n",
    "* It is a case of deep copy - copy the whole data into a new memory location\n",
    "* Making any change in either dictionary will not affect both. "
   ]
  },
  {
   "cell_type": "code",
   "execution_count": 60,
   "id": "f7e1b54a-4b69-47a0-80ad-565715210d6b",
   "metadata": {},
   "outputs": [],
   "source": [
    "d18 = d16"
   ]
  },
  {
   "cell_type": "code",
   "execution_count": 61,
   "id": "4b557638-66bc-4cac-acf0-efa010e9753d",
   "metadata": {},
   "outputs": [
    {
     "data": {
      "text/plain": [
       "{'batch_name': ['Data Science Masters', 'Web Dev', 'JDS'],\n",
       " 'start_date': (28, 14, 21),\n",
       " 'mentor_name': {'Alakh', 'Harry', 'Hitesh', 'Krish', 'Naveen', 'Sudhanshu'},\n",
       " 'timing': (8, 8, 8),\n",
       " 'name': 'Abhishek'}"
      ]
     },
     "execution_count": 61,
     "metadata": {},
     "output_type": "execute_result"
    }
   ],
   "source": [
    "d18"
   ]
  },
  {
   "cell_type": "markdown",
   "id": "4fe12dc1-b4fa-4ca3-b132-4ab1637cb3d9",
   "metadata": {},
   "source": [
    "This will produce the same result.\n",
    "* But this time it is case of swallow copy.\n",
    "* Both point to same memory location."
   ]
  },
  {
   "cell_type": "code",
   "execution_count": 62,
   "id": "102e900d-bb9c-4b4e-8905-29605470c279",
   "metadata": {},
   "outputs": [],
   "source": [
    "del d16[\"name\"]"
   ]
  },
  {
   "cell_type": "code",
   "execution_count": 63,
   "id": "b4b0e43a-0a2d-4c7a-ad5b-cad706001ccc",
   "metadata": {},
   "outputs": [
    {
     "data": {
      "text/plain": [
       "{'batch_name': ['Data Science Masters', 'Web Dev', 'JDS'],\n",
       " 'start_date': (28, 14, 21),\n",
       " 'mentor_name': {'Alakh', 'Harry', 'Hitesh', 'Krish', 'Naveen', 'Sudhanshu'},\n",
       " 'timing': (8, 8, 8)}"
      ]
     },
     "execution_count": 63,
     "metadata": {},
     "output_type": "execute_result"
    }
   ],
   "source": [
    "d16"
   ]
  },
  {
   "cell_type": "code",
   "execution_count": 65,
   "id": "af2124c0-273c-497a-91c8-958158779173",
   "metadata": {},
   "outputs": [
    {
     "data": {
      "text/plain": [
       "{'batch_name': ['Data Science Masters', 'Web Dev', 'JDS'],\n",
       " 'start_date': (28, 14, 21),\n",
       " 'mentor_name': {'Alakh', 'Harry', 'Hitesh', 'Krish', 'Naveen', 'Sudhanshu'},\n",
       " 'timing': (8, 8, 8),\n",
       " 'name': 'Abhishek'}"
      ]
     },
     "execution_count": 65,
     "metadata": {},
     "output_type": "execute_result"
    }
   ],
   "source": [
    "d17\n",
    "\n",
    "## no change will be observed"
   ]
  },
  {
   "cell_type": "code",
   "execution_count": 66,
   "id": "2e939519-e967-472d-aae3-ac1950d5640e",
   "metadata": {},
   "outputs": [
    {
     "data": {
      "text/plain": [
       "{'batch_name': ['Data Science Masters', 'Web Dev', 'JDS'],\n",
       " 'start_date': (28, 14, 21),\n",
       " 'mentor_name': {'Alakh', 'Harry', 'Hitesh', 'Krish', 'Naveen', 'Sudhanshu'},\n",
       " 'timing': (8, 8, 8)}"
      ]
     },
     "execution_count": 66,
     "metadata": {},
     "output_type": "execute_result"
    }
   ],
   "source": [
    "d18\n",
    "\n",
    "## there will be change"
   ]
  },
  {
   "cell_type": "code",
   "execution_count": 67,
   "id": "cd25f203-1897-4852-a241-e7dec14ea836",
   "metadata": {},
   "outputs": [
    {
     "data": {
      "text/plain": [
       "(8, 8, 8)"
      ]
     },
     "execution_count": 67,
     "metadata": {},
     "output_type": "execute_result"
    }
   ],
   "source": [
    "d16.pop('timing')"
   ]
  },
  {
   "cell_type": "code",
   "execution_count": 68,
   "id": "61ef219b-c5d2-4cb6-8cb7-23aac741caa3",
   "metadata": {},
   "outputs": [
    {
     "data": {
      "text/plain": [
       "{'batch_name': ['Data Science Masters', 'Web Dev', 'JDS'],\n",
       " 'start_date': (28, 14, 21),\n",
       " 'mentor_name': {'Alakh', 'Harry', 'Hitesh', 'Krish', 'Naveen', 'Sudhanshu'}}"
      ]
     },
     "execution_count": 68,
     "metadata": {},
     "output_type": "execute_result"
    }
   ],
   "source": [
    "d16"
   ]
  },
  {
   "cell_type": "code",
   "execution_count": 69,
   "id": "579dbe70-2244-4c3c-9d3c-a633ff2d032e",
   "metadata": {},
   "outputs": [
    {
     "data": {
      "text/plain": [
       "{1: ('a', 'b', 'c'), 2: ('a', 'b', 'c'), 3: ('a', 'b', 'c')}"
      ]
     },
     "execution_count": 69,
     "metadata": {},
     "output_type": "execute_result"
    }
   ],
   "source": [
    "d.fromkeys((1,2,3),(\"a\",\"b\",\"c\"))"
   ]
  },
  {
   "cell_type": "code",
   "execution_count": 70,
   "id": "7c448e6c-6c94-4bf1-9d29-9b1bdc587172",
   "metadata": {},
   "outputs": [],
   "source": [
    "d19 = {\"key1\":\"value1\",\"key2\":\"value2\"}\n",
    "d20 = {\"key3\":\"value3\",\"key4\":\"value4\"}"
   ]
  },
  {
   "cell_type": "code",
   "execution_count": 71,
   "id": "b28fd6f9-cc60-4635-9f75-d8adb750bd2c",
   "metadata": {},
   "outputs": [
    {
     "data": {
      "text/plain": [
       "({'key1': 'value1', 'key2': 'value2'}, {'key3': 'value3', 'key4': 'value4'})"
      ]
     },
     "execution_count": 71,
     "metadata": {},
     "output_type": "execute_result"
    }
   ],
   "source": [
    "(d19,d20)"
   ]
  },
  {
   "cell_type": "code",
   "execution_count": 72,
   "id": "d41fe907-08a7-40d2-b22a-13fa4c01e217",
   "metadata": {},
   "outputs": [],
   "source": [
    "d19.update(d20)"
   ]
  },
  {
   "cell_type": "code",
   "execution_count": 73,
   "id": "b9dacf09-89a9-4cd4-bee6-88d2907903f9",
   "metadata": {},
   "outputs": [
    {
     "data": {
      "text/plain": [
       "{'key1': 'value1', 'key2': 'value2', 'key3': 'value3', 'key4': 'value4'}"
      ]
     },
     "execution_count": 73,
     "metadata": {},
     "output_type": "execute_result"
    }
   ],
   "source": [
    "d19"
   ]
  },
  {
   "cell_type": "code",
   "execution_count": 74,
   "id": "d7e6338e-9321-4917-9065-a7c6b9df8cc5",
   "metadata": {},
   "outputs": [],
   "source": [
    "d20.update(d19)"
   ]
  },
  {
   "cell_type": "code",
   "execution_count": 75,
   "id": "ed649bd8-bcf8-4379-8b99-7ef5296f03e8",
   "metadata": {},
   "outputs": [
    {
     "data": {
      "text/plain": [
       "{'key3': 'value3', 'key4': 'value4', 'key1': 'value1', 'key2': 'value2'}"
      ]
     },
     "execution_count": 75,
     "metadata": {},
     "output_type": "execute_result"
    }
   ],
   "source": [
    "d20"
   ]
  },
  {
   "cell_type": "code",
   "execution_count": 77,
   "id": "02e84de9-fc7d-430f-b82e-491702a39a86",
   "metadata": {},
   "outputs": [
    {
     "data": {
      "text/plain": [
       "'value3'"
      ]
     },
     "execution_count": 77,
     "metadata": {},
     "output_type": "execute_result"
    }
   ],
   "source": [
    "d20.get(\"key3\")\n",
    "\n",
    "# this will produce same result as \"d20['key3']\""
   ]
  },
  {
   "cell_type": "code",
   "execution_count": 78,
   "id": "b273d1e8-af5d-4831-bf4d-d355e213de31",
   "metadata": {},
   "outputs": [
    {
     "data": {
      "text/plain": [
       "'value3'"
      ]
     },
     "execution_count": 78,
     "metadata": {},
     "output_type": "execute_result"
    }
   ],
   "source": [
    "d20['key3']"
   ]
  },
  {
   "cell_type": "code",
   "execution_count": 79,
   "id": "d7cf5fb7-9c42-4e7f-8e8e-c5ab8494de0e",
   "metadata": {},
   "outputs": [
    {
     "ename": "KeyError",
     "evalue": "'sudh'",
     "output_type": "error",
     "traceback": [
      "\u001b[0;31m---------------------------------------------------------------------------\u001b[0m",
      "\u001b[0;31mKeyError\u001b[0m                                  Traceback (most recent call last)",
      "Cell \u001b[0;32mIn[79], line 3\u001b[0m\n\u001b[1;32m      1\u001b[0m \u001b[38;5;66;03m## this will generate error\u001b[39;00m\n\u001b[0;32m----> 3\u001b[0m \u001b[43md20\u001b[49m\u001b[43m[\u001b[49m\u001b[38;5;124;43m'\u001b[39;49m\u001b[38;5;124;43msudh\u001b[39;49m\u001b[38;5;124;43m'\u001b[39;49m\u001b[43m]\u001b[49m\n",
      "\u001b[0;31mKeyError\u001b[0m: 'sudh'"
     ]
    }
   ],
   "source": [
    "## this will generate error\n",
    "\n",
    "d20['sudh']"
   ]
  },
  {
   "cell_type": "markdown",
   "id": "ec2cac87-5ac2-4102-a237-5311b24a94c0",
   "metadata": {},
   "source": [
    "#### Dictionary Comprehensions"
   ]
  },
  {
   "cell_type": "code",
   "execution_count": 80,
   "id": "0468e359-4fc6-447c-b35f-f27d68a5f3f4",
   "metadata": {},
   "outputs": [
    {
     "data": {
      "text/plain": [
       "{1: 1, 2: 4, 3: 9, 4: 16, 5: 25, 6: 36, 7: 49, 8: 64, 9: 81, 10: 100}"
      ]
     },
     "execution_count": 80,
     "metadata": {},
     "output_type": "execute_result"
    }
   ],
   "source": [
    "{i : i**2 for i in range(1,11)}"
   ]
  },
  {
   "cell_type": "code",
   "execution_count": 81,
   "id": "4e18fa31-82a0-4a09-b2a3-feb6eaadcafe",
   "metadata": {},
   "outputs": [
    {
     "data": {
      "text/plain": [
       "{1: 11, 2: 12, 3: 13, 4: 14, 5: 15, 6: 16, 7: 17, 8: 18, 9: 19, 10: 20}"
      ]
     },
     "execution_count": 81,
     "metadata": {},
     "output_type": "execute_result"
    }
   ],
   "source": [
    "{i:i+10 for i in range(1,11)}"
   ]
  },
  {
   "cell_type": "code",
   "execution_count": 82,
   "id": "df260a99-bf7b-4158-96ff-97f1a7782bf6",
   "metadata": {},
   "outputs": [
    {
     "data": {
      "text/plain": [
       "{1: 0.0,\n",
       " 2: 0.3010299956639812,\n",
       " 3: 0.47712125471966244,\n",
       " 4: 0.6020599913279624,\n",
       " 5: 0.6989700043360189,\n",
       " 6: 0.7781512503836436,\n",
       " 7: 0.8450980400142568,\n",
       " 8: 0.9030899869919435,\n",
       " 9: 0.9542425094393249,\n",
       " 10: 1.0}"
      ]
     },
     "execution_count": 82,
     "metadata": {},
     "output_type": "execute_result"
    }
   ],
   "source": [
    "import math\n",
    "{i : math.log10(i) for i in range(1,11)}"
   ]
  },
  {
   "cell_type": "code",
   "execution_count": 83,
   "id": "be47a720-4029-43b3-afe2-2e6e3b74b45f",
   "metadata": {},
   "outputs": [
    {
     "name": "stdout",
     "output_type": "stream",
     "text": [
      "0.3010299956639812\n",
      "0.6020599913279624\n",
      "0.7781512503836436\n",
      "0.9030899869919435\n",
      "1.0\n"
     ]
    }
   ],
   "source": [
    "d21 = {i : math.log10(i) for i in range(1,11)}\n",
    "\n",
    "for i in d21.keys():\n",
    "    if i%2==0:\n",
    "        print(d21[i])"
   ]
  },
  {
   "cell_type": "code",
   "execution_count": 84,
   "id": "2e3a8cbb-df77-449b-a694-fa7a132dda76",
   "metadata": {},
   "outputs": [
    {
     "data": {
      "text/plain": [
       "{'batch_name': ['Data Science Masters', 'Web Dev', 'JDS'],\n",
       " 'start_date': (28, 14, 21),\n",
       " 'mentor_name': {'Alakh', 'Harry', 'Hitesh', 'Krish', 'Naveen', 'Sudhanshu'}}"
      ]
     },
     "execution_count": 84,
     "metadata": {},
     "output_type": "execute_result"
    }
   ],
   "source": [
    "d16"
   ]
  },
  {
   "cell_type": "code",
   "execution_count": 85,
   "id": "a6cc488d-c375-427e-8a2a-3e0fbe6aa459",
   "metadata": {},
   "outputs": [
    {
     "data": {
      "text/plain": [
       "True"
      ]
     },
     "execution_count": 85,
     "metadata": {},
     "output_type": "execute_result"
    }
   ],
   "source": [
    "'batch_name' in d16"
   ]
  },
  {
   "cell_type": "code",
   "execution_count": null,
   "id": "71c7ccf1-a467-47f2-8057-17e22bbe3c36",
   "metadata": {},
   "outputs": [],
   "source": []
  }
 ],
 "metadata": {
  "kernelspec": {
   "display_name": "Python 3 (ipykernel)",
   "language": "python",
   "name": "python3"
  },
  "language_info": {
   "codemirror_mode": {
    "name": "ipython",
    "version": 3
   },
   "file_extension": ".py",
   "mimetype": "text/x-python",
   "name": "python",
   "nbconvert_exporter": "python",
   "pygments_lexer": "ipython3",
   "version": "3.10.8"
  }
 },
 "nbformat": 4,
 "nbformat_minor": 5
}

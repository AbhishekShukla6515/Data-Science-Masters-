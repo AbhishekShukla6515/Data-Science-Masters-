{
 "cells": [
  {
   "cell_type": "markdown",
   "id": "f821b125-1667-4b5e-8622-c81232b5f715",
   "metadata": {},
   "source": [
    "# Map, Reduce & Filter functions"
   ]
  },
  {
   "cell_type": "markdown",
   "id": "c20c4449-c2b3-4760-b2ff-c5cd9f871501",
   "metadata": {},
   "source": [
    "map(), reduce() and filter() functions are basically shorthand for us."
   ]
  },
  {
   "cell_type": "code",
   "execution_count": 1,
   "id": "4a0450c1-e712-4ad7-8985-268e5befafe4",
   "metadata": {},
   "outputs": [],
   "source": [
    "l = [1,2,3,4,45,5]"
   ]
  },
  {
   "cell_type": "code",
   "execution_count": 2,
   "id": "641544af-fd73-4a7a-b4ba-60c0f0663ea2",
   "metadata": {},
   "outputs": [],
   "source": [
    "def test(l):\n",
    "    l1 = []\n",
    "    for i in l:\n",
    "        l1.append(i*i)\n",
    "    return l1"
   ]
  },
  {
   "cell_type": "code",
   "execution_count": 3,
   "id": "13016bc2-21a7-496b-ba52-99622b62429b",
   "metadata": {},
   "outputs": [
    {
     "data": {
      "text/plain": [
       "[1, 4, 9, 16, 2025, 25]"
      ]
     },
     "execution_count": 3,
     "metadata": {},
     "output_type": "execute_result"
    }
   ],
   "source": [
    "test(l)"
   ]
  },
  {
   "cell_type": "markdown",
   "id": "716a9233-e244-4337-8d47-ed2613f18dff",
   "metadata": {},
   "source": [
    "#### map() function"
   ]
  },
  {
   "cell_type": "markdown",
   "id": "a68a4630-be44-4358-aea5-0862313c2bf1",
   "metadata": {},
   "source": [
    "map() function will try to map each and every individual element with the operation we would like to perform. \n",
    "It takes function parameter."
   ]
  },
  {
   "cell_type": "code",
   "execution_count": 4,
   "id": "fef5e43a-01b2-4a9e-9939-6373acca5e69",
   "metadata": {},
   "outputs": [],
   "source": [
    "def sq(x):\n",
    "    return x**2"
   ]
  },
  {
   "cell_type": "code",
   "execution_count": 7,
   "id": "1a37a848-c08b-438f-bfa3-6f57e270aa63",
   "metadata": {},
   "outputs": [
    {
     "data": {
      "text/plain": [
       "<map at 0x7f81248ac790>"
      ]
     },
     "execution_count": 7,
     "metadata": {},
     "output_type": "execute_result"
    }
   ],
   "source": [
    "## it will give a mapper object\n",
    "\n",
    "map(sq,l)"
   ]
  },
  {
   "cell_type": "code",
   "execution_count": 8,
   "id": "0f9559e9-11d0-4246-8cc7-9a44281ef1b9",
   "metadata": {},
   "outputs": [
    {
     "data": {
      "text/plain": [
       "[1, 4, 9, 16, 2025, 25]"
      ]
     },
     "execution_count": 8,
     "metadata": {},
     "output_type": "execute_result"
    }
   ],
   "source": [
    "list(map(sq,l))"
   ]
  },
  {
   "cell_type": "code",
   "execution_count": 10,
   "id": "125d5eb4-a059-4bad-9e72-2ecadca41bf2",
   "metadata": {},
   "outputs": [
    {
     "data": {
      "text/plain": [
       "[1, 4, 9, 16, 2025, 25]"
      ]
     },
     "execution_count": 10,
     "metadata": {},
     "output_type": "execute_result"
    }
   ],
   "source": [
    "## this will also produc the same result\n",
    "\n",
    "list(map(lambda x : x**2, l))"
   ]
  },
  {
   "cell_type": "code",
   "execution_count": 11,
   "id": "fe647615-ec98-44e4-8844-27629e9de2d8",
   "metadata": {},
   "outputs": [
    {
     "data": {
      "text/plain": [
       "[11, 12, 13, 14, 55, 15]"
      ]
     },
     "execution_count": 11,
     "metadata": {},
     "output_type": "execute_result"
    }
   ],
   "source": [
    "list(map(lambda x : x+10, l))"
   ]
  },
  {
   "cell_type": "code",
   "execution_count": 12,
   "id": "1bf1d975-e4db-4810-ad08-acf7f67c1110",
   "metadata": {},
   "outputs": [
    {
     "data": {
      "text/plain": [
       "['1', '2', '3', '4', '45', '5']"
      ]
     },
     "execution_count": 12,
     "metadata": {},
     "output_type": "execute_result"
    }
   ],
   "source": [
    "list(map(lambda x : str(x), l))"
   ]
  },
  {
   "cell_type": "code",
   "execution_count": 13,
   "id": "a6b69b3e-fab2-42ad-9e51-b5bc648d5965",
   "metadata": {},
   "outputs": [],
   "source": [
    "l1 = [1,2,3,4,5]\n",
    "l2 = [6,7,8,9,10]"
   ]
  },
  {
   "cell_type": "code",
   "execution_count": 14,
   "id": "23668719-8c38-4c7e-a6f9-771d114db8af",
   "metadata": {},
   "outputs": [
    {
     "data": {
      "text/plain": [
       "[7, 9, 11, 13, 15]"
      ]
     },
     "execution_count": 14,
     "metadata": {},
     "output_type": "execute_result"
    }
   ],
   "source": [
    "list(map(lambda x,y : x+y, l1,l2))"
   ]
  },
  {
   "cell_type": "code",
   "execution_count": 15,
   "id": "67709386-f051-49d4-85ac-b0d7a3b0e235",
   "metadata": {},
   "outputs": [],
   "source": [
    "f = lambda x,y : x+y"
   ]
  },
  {
   "cell_type": "code",
   "execution_count": 17,
   "id": "d95f1f6b-bfa7-40e5-aec8-d2730dff5766",
   "metadata": {},
   "outputs": [
    {
     "data": {
      "text/plain": [
       "[7, 9, 11, 13, 15]"
      ]
     },
     "execution_count": 17,
     "metadata": {},
     "output_type": "execute_result"
    }
   ],
   "source": [
    "## this will also produce the same result\n",
    "\n",
    "list(map(f,l1,l2))"
   ]
  },
  {
   "cell_type": "code",
   "execution_count": 18,
   "id": "8f1a0209-7149-453d-a6a3-7ac3df1c0296",
   "metadata": {},
   "outputs": [],
   "source": [
    "s = \"pwskills\""
   ]
  },
  {
   "cell_type": "code",
   "execution_count": 19,
   "id": "880e0bb9-779c-41d2-a030-af74f283c22b",
   "metadata": {},
   "outputs": [
    {
     "data": {
      "text/plain": [
       "['P', 'W', 'S', 'K', 'I', 'L', 'L', 'S']"
      ]
     },
     "execution_count": 19,
     "metadata": {},
     "output_type": "execute_result"
    }
   ],
   "source": [
    "list(map(lambda x : x.upper(),s))"
   ]
  },
  {
   "cell_type": "markdown",
   "id": "60b5cb9e-6ba5-4f1e-a79c-80fc81c0e664",
   "metadata": {},
   "source": [
    "#### reduce() function"
   ]
  },
  {
   "cell_type": "code",
   "execution_count": 20,
   "id": "7298002d-661f-4af9-81dc-4334a303d27a",
   "metadata": {},
   "outputs": [],
   "source": [
    "from functools import reduce"
   ]
  },
  {
   "cell_type": "code",
   "execution_count": 21,
   "id": "8f5880d8-5837-4055-b8a5-68fbb7e8a9cb",
   "metadata": {},
   "outputs": [],
   "source": [
    "l = [1,2,3,4,5,4]"
   ]
  },
  {
   "cell_type": "markdown",
   "id": "35aa18cb-4672-47b1-83d0-595d9d909c55",
   "metadata": {},
   "source": [
    "reduce() function will just reduce or collapse the entire iterable."
   ]
  },
  {
   "cell_type": "code",
   "execution_count": 23,
   "id": "d43b3a57-c7bc-4b27-a058-5b7a9409e4f5",
   "metadata": {},
   "outputs": [
    {
     "data": {
      "text/plain": [
       "19"
      ]
     },
     "execution_count": 23,
     "metadata": {},
     "output_type": "execute_result"
    }
   ],
   "source": [
    "## it will give summation of all elements\n",
    "\n",
    "reduce(lambda x,y : x+y,l)"
   ]
  },
  {
   "cell_type": "code",
   "execution_count": 24,
   "id": "9672ec5b-f34a-4ab0-9ff1-d3d44d156a14",
   "metadata": {},
   "outputs": [],
   "source": [
    "def add(x,y):\n",
    "    return x+y"
   ]
  },
  {
   "cell_type": "code",
   "execution_count": 25,
   "id": "52d80da2-f111-4e03-84dd-5c78c0e2c675",
   "metadata": {},
   "outputs": [
    {
     "data": {
      "text/plain": [
       "19"
      ]
     },
     "execution_count": 25,
     "metadata": {},
     "output_type": "execute_result"
    }
   ],
   "source": [
    "## thi will also produce the same result\n",
    "\n",
    "reduce(add,l)"
   ]
  },
  {
   "cell_type": "code",
   "execution_count": 27,
   "id": "bfa24218-91a2-4e68-b745-8e37f8af74e8",
   "metadata": {},
   "outputs": [
    {
     "ename": "TypeError",
     "evalue": "<lambda>() missing 1 required positional argument: 'z'",
     "output_type": "error",
     "traceback": [
      "\u001b[0;31m---------------------------------------------------------------------------\u001b[0m",
      "\u001b[0;31mTypeError\u001b[0m                                 Traceback (most recent call last)",
      "Cell \u001b[0;32mIn[27], line 3\u001b[0m\n\u001b[1;32m      1\u001b[0m \u001b[38;5;66;03m## this will produce error\u001b[39;00m\n\u001b[0;32m----> 3\u001b[0m \u001b[43mreduce\u001b[49m\u001b[43m(\u001b[49m\u001b[38;5;28;43;01mlambda\u001b[39;49;00m\u001b[43m \u001b[49m\u001b[43mx\u001b[49m\u001b[43m,\u001b[49m\u001b[43my\u001b[49m\u001b[43m,\u001b[49m\u001b[43mz\u001b[49m\u001b[43m \u001b[49m\u001b[43m:\u001b[49m\u001b[43m \u001b[49m\u001b[43mx\u001b[49m\u001b[38;5;241;43m+\u001b[39;49m\u001b[43my\u001b[49m\u001b[38;5;241;43m+\u001b[39;49m\u001b[43mz\u001b[49m\u001b[43m,\u001b[49m\u001b[43ml\u001b[49m\u001b[43m)\u001b[49m\n",
      "\u001b[0;31mTypeError\u001b[0m: <lambda>() missing 1 required positional argument: 'z'"
     ]
    }
   ],
   "source": [
    "## this will produce error\n",
    "\n",
    "reduce(lambda x,y,z : x+y+z,l)"
   ]
  },
  {
   "cell_type": "markdown",
   "id": "2a800a83-8367-4615-bd66-12aed5ebebc1",
   "metadata": {},
   "source": [
    "The way reduce() function is designed, it always takes a function taking two arguments, at any point of time."
   ]
  },
  {
   "cell_type": "code",
   "execution_count": 28,
   "id": "6e8f94f7-f69f-4a09-a34e-7f2b3919a31a",
   "metadata": {},
   "outputs": [
    {
     "ename": "TypeError",
     "evalue": "reduce() of empty iterable with no initial value",
     "output_type": "error",
     "traceback": [
      "\u001b[0;31m---------------------------------------------------------------------------\u001b[0m",
      "\u001b[0;31mTypeError\u001b[0m                                 Traceback (most recent call last)",
      "Cell \u001b[0;32mIn[28], line 3\u001b[0m\n\u001b[1;32m      1\u001b[0m \u001b[38;5;66;03m## this will also produce error\u001b[39;00m\n\u001b[0;32m----> 3\u001b[0m \u001b[43mreduce\u001b[49m\u001b[43m(\u001b[49m\u001b[38;5;28;43;01mlambda\u001b[39;49;00m\u001b[43m \u001b[49m\u001b[43mx\u001b[49m\u001b[43m,\u001b[49m\u001b[43my\u001b[49m\u001b[43m \u001b[49m\u001b[43m:\u001b[49m\u001b[43m \u001b[49m\u001b[43mx\u001b[49m\u001b[38;5;241;43m+\u001b[39;49m\u001b[43my\u001b[49m\u001b[43m,\u001b[49m\u001b[43m \u001b[49m\u001b[43m[\u001b[49m\u001b[43m]\u001b[49m\u001b[43m)\u001b[49m\n",
      "\u001b[0;31mTypeError\u001b[0m: reduce() of empty iterable with no initial value"
     ]
    }
   ],
   "source": [
    "## this will also produce error\n",
    "\n",
    "reduce(lambda x,y : x+y, [])"
   ]
  },
  {
   "cell_type": "code",
   "execution_count": 30,
   "id": "7484315a-6c9a-4516-be29-4c9760067283",
   "metadata": {},
   "outputs": [
    {
     "data": {
      "text/plain": [
       "1"
      ]
     },
     "execution_count": 30,
     "metadata": {},
     "output_type": "execute_result"
    }
   ],
   "source": [
    "## exceptional case of reduce() function\n",
    "\n",
    "reduce(lambda x,y : x+y,[1])"
   ]
  },
  {
   "cell_type": "code",
   "execution_count": 31,
   "id": "d1345c3f-2135-410e-a58b-f620d3841004",
   "metadata": {},
   "outputs": [
    {
     "data": {
      "text/plain": [
       "1"
      ]
     },
     "execution_count": 31,
     "metadata": {},
     "output_type": "execute_result"
    }
   ],
   "source": [
    "reduce(lambda x,y : x*y,[1])"
   ]
  },
  {
   "cell_type": "code",
   "execution_count": 32,
   "id": "625d2bac-7742-4fbb-a094-186339938f3e",
   "metadata": {},
   "outputs": [
    {
     "data": {
      "text/plain": [
       "[1, 2, 3, 4, 5, 4]"
      ]
     },
     "execution_count": 32,
     "metadata": {},
     "output_type": "execute_result"
    }
   ],
   "source": [
    "l "
   ]
  },
  {
   "cell_type": "code",
   "execution_count": 33,
   "id": "5a66fb20-33c7-494b-86b2-6110d961142c",
   "metadata": {},
   "outputs": [
    {
     "data": {
      "text/plain": [
       "5"
      ]
     },
     "execution_count": 33,
     "metadata": {},
     "output_type": "execute_result"
    }
   ],
   "source": [
    "## finding max element inside the list\n",
    "\n",
    "reduce(lambda x,y : x if x>y else y, l)"
   ]
  },
  {
   "cell_type": "markdown",
   "id": "4fe72c12-59ae-4971-9f84-becaac75084c",
   "metadata": {},
   "source": [
    "#### filter() function"
   ]
  },
  {
   "cell_type": "code",
   "execution_count": 34,
   "id": "00c521b7-c718-452f-96c0-d58b02ec83b6",
   "metadata": {},
   "outputs": [
    {
     "data": {
      "text/plain": [
       "[1, 2, 3, 4, 5, 4]"
      ]
     },
     "execution_count": 34,
     "metadata": {},
     "output_type": "execute_result"
    }
   ],
   "source": [
    "l"
   ]
  },
  {
   "cell_type": "code",
   "execution_count": 36,
   "id": "538fba4f-f509-4125-9d28-c1d77d362eff",
   "metadata": {},
   "outputs": [
    {
     "data": {
      "text/plain": [
       "<filter at 0x7f812040f9d0>"
      ]
     },
     "execution_count": 36,
     "metadata": {},
     "output_type": "execute_result"
    }
   ],
   "source": [
    "## filter out even numbers\n",
    "## here, it will give an object\n",
    "\n",
    "filter(lambda x : x%2==0, l)"
   ]
  },
  {
   "cell_type": "code",
   "execution_count": 37,
   "id": "e0fa9183-3c71-4544-8066-49946dc397b9",
   "metadata": {},
   "outputs": [
    {
     "data": {
      "text/plain": [
       "[2, 4, 4]"
      ]
     },
     "execution_count": 37,
     "metadata": {},
     "output_type": "execute_result"
    }
   ],
   "source": [
    "list(filter(lambda x : x%2==0, l))"
   ]
  },
  {
   "cell_type": "code",
   "execution_count": 38,
   "id": "98549a71-c4d5-46f1-b4dc-7caa9b8ebd34",
   "metadata": {},
   "outputs": [
    {
     "data": {
      "text/plain": [
       "[1, 3, 5]"
      ]
     },
     "execution_count": 38,
     "metadata": {},
     "output_type": "execute_result"
    }
   ],
   "source": [
    "## find out odd elements\n",
    "\n",
    "list(filter(lambda x : x%2!=0, l))"
   ]
  },
  {
   "cell_type": "code",
   "execution_count": 45,
   "id": "971015c3-332b-493c-9b19-ff5ad9e9fa88",
   "metadata": {},
   "outputs": [],
   "source": [
    "l1 = [-2,4,5,6,-3,-6,-7]"
   ]
  },
  {
   "cell_type": "code",
   "execution_count": 46,
   "id": "9195012c-e8fe-4878-9759-edfddc28262a",
   "metadata": {},
   "outputs": [
    {
     "data": {
      "text/plain": [
       "[-2, -3, -6, -7]"
      ]
     },
     "execution_count": 46,
     "metadata": {},
     "output_type": "execute_result"
    }
   ],
   "source": [
    "## find out negative numbers from list\n",
    "\n",
    "list(filter(lambda x : x<0, l1))"
   ]
  },
  {
   "cell_type": "code",
   "execution_count": 47,
   "id": "98e8f5db-a17b-4da4-9120-e9feb4b57ff1",
   "metadata": {},
   "outputs": [
    {
     "data": {
      "text/plain": [
       "[4, 5, 6]"
      ]
     },
     "execution_count": 47,
     "metadata": {},
     "output_type": "execute_result"
    }
   ],
   "source": [
    "## find out positive numbers from the list\n",
    "\n",
    "list(filter(lambda x : x>=0, l1))"
   ]
  },
  {
   "cell_type": "code",
   "execution_count": 48,
   "id": "4e06393a-5797-469c-9c87-ae9850a7bb31",
   "metadata": {},
   "outputs": [],
   "source": [
    "l2 = [\"sudh\",\"pwskills\",\"kumar\",\"bengaluru\",\"krish\"]"
   ]
  },
  {
   "cell_type": "code",
   "execution_count": 49,
   "id": "c504b8fc-7dfc-4c0f-b793-b5652dc55e2d",
   "metadata": {},
   "outputs": [
    {
     "data": {
      "text/plain": [
       "['sudh', 'kumar', 'krish']"
      ]
     },
     "execution_count": 49,
     "metadata": {},
     "output_type": "execute_result"
    }
   ],
   "source": [
    "## filter strings with length lesser than 6\n",
    "\n",
    "list(filter(lambda x : len(x)<6, l2))"
   ]
  },
  {
   "cell_type": "code",
   "execution_count": null,
   "id": "8cd7e23a-702c-4299-89cf-4dcf133b771f",
   "metadata": {},
   "outputs": [],
   "source": []
  },
  {
   "cell_type": "code",
   "execution_count": null,
   "id": "f0b49a4b-0c44-4b40-86eb-f8c9e37e6a49",
   "metadata": {},
   "outputs": [],
   "source": []
  }
 ],
 "metadata": {
  "kernelspec": {
   "display_name": "Python 3 (ipykernel)",
   "language": "python",
   "name": "python3"
  },
  "language_info": {
   "codemirror_mode": {
    "name": "ipython",
    "version": 3
   },
   "file_extension": ".py",
   "mimetype": "text/x-python",
   "name": "python",
   "nbconvert_exporter": "python",
   "pygments_lexer": "ipython3",
   "version": "3.10.8"
  }
 },
 "nbformat": 4,
 "nbformat_minor": 5
}

{
 "cells": [
  {
   "cell_type": "markdown",
   "id": "2d43b1f9-1d98-4caa-b399-3754dc963e8a",
   "metadata": {},
   "source": [
    "# Abstraction"
   ]
  },
  {
   "cell_type": "markdown",
   "id": "7f70c2c4-8d92-428d-acaa-c0603d8d83d6",
   "metadata": {},
   "source": [
    "Abstract class is an outline or a skeleton. It is basically a blueprint that we use to create.\n",
    "\n",
    "We are just trying to create a structure (for a particular class). Whoever is going to implement it, he is supposed to call this structure and do the implementation."
   ]
  },
  {
   "cell_type": "code",
   "execution_count": 2,
   "id": "7b372d1f-6208-4747-8bca-93a79c12ae81",
   "metadata": {},
   "outputs": [],
   "source": [
    "import abc\n",
    "\n",
    "class pwskills:\n",
    "    \n",
    "    @abc.abstractmethod\n",
    "    def student_details(self):\n",
    "        pass\n",
    "    \n",
    "    @abc.abstractmethod\n",
    "    def student_assignment(self):\n",
    "        pass\n",
    "    \n",
    "    @abc.abstractmethod\n",
    "    def student_marks(self):\n",
    "        pass"
   ]
  },
  {
   "cell_type": "code",
   "execution_count": 3,
   "id": "475c1213-5a29-44d6-93ad-b964e49db386",
   "metadata": {},
   "outputs": [],
   "source": [
    "class data_science(pwskills):\n",
    "    \n",
    "    def student_details(self):\n",
    "        return \"It will try to return the details of data science masters.\"\n",
    "    \n",
    "    def student_assignment(self):\n",
    "        return \"It will return the details of student assignment for data science masters\""
   ]
  },
  {
   "cell_type": "code",
   "execution_count": 4,
   "id": "3d44441f-393a-472f-afcc-41cdf971ec09",
   "metadata": {},
   "outputs": [],
   "source": [
    "class web_dev(pwskills):\n",
    "    \n",
    "    def student_details(self):\n",
    "        return \"This will return the details of web dev\"\n",
    "    \n",
    "    def student_marks(self):\n",
    "        return \"This will return marks of web dev class\""
   ]
  },
  {
   "cell_type": "code",
   "execution_count": 5,
   "id": "d6af25dc-b4b2-49a2-bf71-49d188d22e57",
   "metadata": {},
   "outputs": [
    {
     "data": {
      "text/plain": [
       "'It will try to return the details of data science masters.'"
      ]
     },
     "execution_count": 5,
     "metadata": {},
     "output_type": "execute_result"
    }
   ],
   "source": [
    "ds = data_science()\n",
    "ds.student_details()"
   ]
  },
  {
   "cell_type": "code",
   "execution_count": 6,
   "id": "7752da7f-ec6c-454f-9c3d-a42f19620114",
   "metadata": {},
   "outputs": [
    {
     "data": {
      "text/plain": [
       "'This will return the details of web dev'"
      ]
     },
     "execution_count": 6,
     "metadata": {},
     "output_type": "execute_result"
    }
   ],
   "source": [
    "wb = web_dev()\n",
    "wb.student_details()"
   ]
  },
  {
   "cell_type": "code",
   "execution_count": null,
   "id": "3a202254-f5f3-49d2-a548-0d4eb09b5cf4",
   "metadata": {},
   "outputs": [],
   "source": []
  }
 ],
 "metadata": {
  "kernelspec": {
   "display_name": "Python 3 (ipykernel)",
   "language": "python",
   "name": "python3"
  },
  "language_info": {
   "codemirror_mode": {
    "name": "ipython",
    "version": 3
   },
   "file_extension": ".py",
   "mimetype": "text/x-python",
   "name": "python",
   "nbconvert_exporter": "python",
   "pygments_lexer": "ipython3",
   "version": "3.10.8"
  }
 },
 "nbformat": 4,
 "nbformat_minor": 5
}

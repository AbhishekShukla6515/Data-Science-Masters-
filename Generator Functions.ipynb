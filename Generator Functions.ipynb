{
 "cells": [
  {
   "cell_type": "markdown",
   "id": "f68c734f-f74e-4a8c-b903-b7531a067a80",
   "metadata": {},
   "source": [
    "# GENERATOR FUNCTIONS "
   ]
  },
  {
   "cell_type": "code",
   "execution_count": 1,
   "id": "353492bf-4239-4efd-98c2-ce2a41166376",
   "metadata": {},
   "outputs": [
    {
     "data": {
      "text/plain": [
       "range(1, 10)"
      ]
     },
     "execution_count": 1,
     "metadata": {},
     "output_type": "execute_result"
    }
   ],
   "source": [
    "range(1,10)"
   ]
  },
  {
   "cell_type": "markdown",
   "id": "81782e45-a973-4a1a-bfbd-c0e050304f46",
   "metadata": {},
   "source": [
    "Here, it will not generate unless we call it inside a for loop."
   ]
  },
  {
   "cell_type": "code",
   "execution_count": 2,
   "id": "6182cec8-fede-4680-beff-15be87bf5f4a",
   "metadata": {},
   "outputs": [
    {
     "name": "stdout",
     "output_type": "stream",
     "text": [
      "1\n",
      "2\n",
      "3\n",
      "4\n",
      "5\n",
      "6\n",
      "7\n",
      "8\n",
      "9\n"
     ]
    }
   ],
   "source": [
    "for i in range(1,10):\n",
    "    print(i)"
   ]
  },
  {
   "cell_type": "markdown",
   "id": "0dd5fbc4-222f-4d32-acb4-c4b00a19fdc7",
   "metadata": {},
   "source": [
    "Here, it is just giving object ; it is not giving final data. "
   ]
  },
  {
   "cell_type": "code",
   "execution_count": 3,
   "id": "71c2976a-3a8f-4ac8-a6e8-4b68ce3ab4fc",
   "metadata": {},
   "outputs": [],
   "source": [
    "l = [1,2,3,4,4,5,6,7,8,7,\"sudh\",\"pwskills\"]"
   ]
  },
  {
   "cell_type": "code",
   "execution_count": 4,
   "id": "ffb227b7-fff4-4721-bd28-438d2b6101b1",
   "metadata": {},
   "outputs": [],
   "source": [
    "def test1(a):\n",
    "    n = []\n",
    "    for i in a:\n",
    "        if type(i)==int:\n",
    "            n.append(i)\n",
    "            \n",
    "    return n"
   ]
  },
  {
   "cell_type": "code",
   "execution_count": 5,
   "id": "4fceb88d-7ccb-4ed3-b2f9-2d07a15af2ce",
   "metadata": {},
   "outputs": [
    {
     "data": {
      "text/plain": [
       "[1, 2, 3, 4, 4, 5, 6, 7, 8, 7]"
      ]
     },
     "execution_count": 5,
     "metadata": {},
     "output_type": "execute_result"
    }
   ],
   "source": [
    "test1(l)"
   ]
  },
  {
   "cell_type": "markdown",
   "id": "ef9cb1bf-2a93-4c2b-aa1e-7c6e82cf1854",
   "metadata": {},
   "source": [
    "Here, as the size of the list will increase, the amount of time taken by this function will also increase because it is preparing a final list as an outcome. And it will not terminate unless it has prepared the whole list.\n",
    "\n",
    "These kinds of functions create a \"bottleneck\", where they will prepare the whole data and then give it to us."
   ]
  },
  {
   "cell_type": "markdown",
   "id": "7ebc9a0e-e35f-4807-8391-377e29a00e95",
   "metadata": {},
   "source": [
    "A good alternative is range()-like functions. It does not hold the whole data into the memory, rather it generates data one-by-one.\n",
    "It does not remember the whole set of data. It tries to remember only the last data, and based on that it generates the next one.\n",
    "It is not going to block the memory even if we have to generate millions and trillions of record."
   ]
  },
  {
   "cell_type": "markdown",
   "id": "85d4c4fe-5d6f-4337-8bce-197e323d78a5",
   "metadata": {},
   "source": [
    "Fibonacci : \n",
    "    0,1,1,2,3,5,8,13,21,34,..........."
   ]
  },
  {
   "cell_type": "code",
   "execution_count": 6,
   "id": "6e1cab54-10f9-4440-a5cd-896c03e95e2d",
   "metadata": {},
   "outputs": [],
   "source": [
    "def test_fib(n):\n",
    "    a,b = 0,1\n",
    "    for i in range(n):\n",
    "        yield a\n",
    "        a,b = b,a+b"
   ]
  },
  {
   "cell_type": "code",
   "execution_count": 7,
   "id": "63f161ea-085c-4dc9-8316-5d9f04dc7098",
   "metadata": {},
   "outputs": [
    {
     "data": {
      "text/plain": [
       "<generator object test_fib at 0x7fe4affcdee0>"
      ]
     },
     "execution_count": 7,
     "metadata": {},
     "output_type": "execute_result"
    }
   ],
   "source": [
    "test_fib(10)"
   ]
  },
  {
   "cell_type": "code",
   "execution_count": 8,
   "id": "208083ec-1e09-4662-83e5-f4077a80530a",
   "metadata": {},
   "outputs": [
    {
     "name": "stdout",
     "output_type": "stream",
     "text": [
      "0\n",
      "1\n",
      "1\n",
      "2\n",
      "3\n",
      "5\n",
      "8\n",
      "13\n",
      "21\n",
      "34\n"
     ]
    }
   ],
   "source": [
    "for i in test_fib(10):\n",
    "    print(i)"
   ]
  },
  {
   "cell_type": "markdown",
   "id": "6ecf83c5-394d-444a-9fa7-b149cd782ee3",
   "metadata": {},
   "source": [
    "By using generator functions, we will be able to utilise memory in a more efficient way."
   ]
  },
  {
   "cell_type": "code",
   "execution_count": null,
   "id": "30f94cd1-247f-4d59-824f-9c5c2de7cae6",
   "metadata": {},
   "outputs": [],
   "source": []
  }
 ],
 "metadata": {
  "kernelspec": {
   "display_name": "Python 3 (ipykernel)",
   "language": "python",
   "name": "python3"
  },
  "language_info": {
   "codemirror_mode": {
    "name": "ipython",
    "version": 3
   },
   "file_extension": ".py",
   "mimetype": "text/x-python",
   "name": "python",
   "nbconvert_exporter": "python",
   "pygments_lexer": "ipython3",
   "version": "3.10.8"
  }
 },
 "nbformat": 4,
 "nbformat_minor": 5
}

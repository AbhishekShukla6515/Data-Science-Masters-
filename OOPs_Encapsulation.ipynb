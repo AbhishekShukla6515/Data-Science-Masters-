{
 "cells": [
  {
   "cell_type": "markdown",
   "id": "2a3238f4-151b-4435-9788-39c5c7161d16",
   "metadata": {},
   "source": [
    "# Encapsulation"
   ]
  },
  {
   "cell_type": "code",
   "execution_count": 1,
   "id": "0ae1c526-fba9-4a4c-bfee-5cbf72641383",
   "metadata": {},
   "outputs": [],
   "source": [
    "class test:\n",
    "    \n",
    "    def __init__(self,a,b):\n",
    "        self.a = a\n",
    "        self.b = b"
   ]
  },
  {
   "cell_type": "code",
   "execution_count": 4,
   "id": "395c692c-fb0a-44d2-816b-ab4df1262403",
   "metadata": {},
   "outputs": [],
   "source": [
    "t = test(45,56)"
   ]
  },
  {
   "cell_type": "code",
   "execution_count": 11,
   "id": "94fc5c9e-0570-4e51-b1c1-46fca593f502",
   "metadata": {},
   "outputs": [
    {
     "data": {
      "text/plain": [
       "32"
      ]
     },
     "execution_count": 11,
     "metadata": {},
     "output_type": "execute_result"
    }
   ],
   "source": [
    "t.a  ## we will be able to access \"a\" directly"
   ]
  },
  {
   "cell_type": "code",
   "execution_count": 12,
   "id": "94f82e06-ba66-4545-87a5-2ed7e1ea4dd4",
   "metadata": {},
   "outputs": [
    {
     "data": {
      "text/plain": [
       "56"
      ]
     },
     "execution_count": 12,
     "metadata": {},
     "output_type": "execute_result"
    }
   ],
   "source": [
    "t.b  ## we will be able to access \"b\" directly"
   ]
  },
  {
   "cell_type": "code",
   "execution_count": 14,
   "id": "da8b5359-930d-4b3d-8796-496adf9a6743",
   "metadata": {},
   "outputs": [],
   "source": [
    "t.a = 32 ## new value"
   ]
  },
  {
   "cell_type": "code",
   "execution_count": 15,
   "id": "f5dfabc5-3c52-43d3-b2cd-713674a5cef1",
   "metadata": {},
   "outputs": [
    {
     "data": {
      "text/plain": [
       "32"
      ]
     },
     "execution_count": 15,
     "metadata": {},
     "output_type": "execute_result"
    }
   ],
   "source": [
    "t.a  ## value will be modified"
   ]
  },
  {
   "cell_type": "markdown",
   "id": "e1a79006-8553-40ce-a2bd-e2f8fb3d9725",
   "metadata": {},
   "source": [
    "Here, we are able to access the values as well as assign new values.\n",
    "But these things are dangerous whenever we are doing industry-grade coding. Because in that case, anyone will be able to access our variable and anyone will be able to do some sort of modifications (or assignment operations with respect to a variable).\n",
    "\n",
    "Encapsulation will allow us to prevent any kind of direct access of a data or direct modification of data in OOPs programming concept."
   ]
  },
  {
   "cell_type": "markdown",
   "id": "9a2e96c3-b05a-483c-bb43-7161d7df8698",
   "metadata": {},
   "source": [
    "In Layman way, we are not aware about the composition of a capsule prescribed by doctor, and we will not be able to modify the composition of the capsule. In the similar manner, we will be creating a capule-like structure where user will not be able to access data or modify data directly. They will be able to do it only with our own defined method."
   ]
  },
  {
   "cell_type": "code",
   "execution_count": 16,
   "id": "9a0efdd4-12d3-43d9-afe8-56350e5e6595",
   "metadata": {},
   "outputs": [],
   "source": [
    "class car:\n",
    "    \n",
    "    def __init__(self, year, make, model, speed):\n",
    "        self.__year = year\n",
    "        self.__make = make\n",
    "        self.__model = model\n",
    "        self.__speed = 0"
   ]
  },
  {
   "cell_type": "code",
   "execution_count": 22,
   "id": "d845f832-57f1-4b09-864f-2cd9a58fb028",
   "metadata": {},
   "outputs": [],
   "source": [
    "obj_car = car(2021, \"Toyota\", \"Innova\", 12)"
   ]
  },
  {
   "cell_type": "code",
   "execution_count": 23,
   "id": "00639837-bdb6-4c48-bf5c-0b8a00fc69f9",
   "metadata": {},
   "outputs": [
    {
     "ename": "AttributeError",
     "evalue": "'car' object has no attribute '__year'",
     "output_type": "error",
     "traceback": [
      "\u001b[0;31m---------------------------------------------------------------------------\u001b[0m",
      "\u001b[0;31mAttributeError\u001b[0m                            Traceback (most recent call last)",
      "Cell \u001b[0;32mIn[23], line 3\u001b[0m\n\u001b[1;32m      1\u001b[0m \u001b[38;5;66;03m## will raise error\u001b[39;00m\n\u001b[0;32m----> 3\u001b[0m \u001b[43mobj_car\u001b[49m\u001b[38;5;241;43m.\u001b[39;49m\u001b[43m__year\u001b[49m\n",
      "\u001b[0;31mAttributeError\u001b[0m: 'car' object has no attribute '__year'"
     ]
    }
   ],
   "source": [
    "## will raise error\n",
    "\n",
    "obj_car.__year"
   ]
  },
  {
   "cell_type": "code",
   "execution_count": 24,
   "id": "d6370257-1412-450b-ac80-b320d631c1e5",
   "metadata": {},
   "outputs": [
    {
     "data": {
      "text/plain": [
       "2021"
      ]
     },
     "execution_count": 24,
     "metadata": {},
     "output_type": "execute_result"
    }
   ],
   "source": [
    "## now we will be able to access it\n",
    "\n",
    "obj_car._car__year"
   ]
  },
  {
   "cell_type": "code",
   "execution_count": 25,
   "id": "ddca921c-fbe3-4c51-910d-3bdfb56d4b38",
   "metadata": {},
   "outputs": [],
   "source": [
    "obj_car._car__year = 2023"
   ]
  },
  {
   "cell_type": "code",
   "execution_count": 27,
   "id": "b6703cb1-0b10-49be-9d11-d0cb5d067358",
   "metadata": {},
   "outputs": [
    {
     "data": {
      "text/plain": [
       "2023"
      ]
     },
     "execution_count": 27,
     "metadata": {},
     "output_type": "execute_result"
    }
   ],
   "source": [
    "obj_car._car__year  ## value modified"
   ]
  },
  {
   "cell_type": "markdown",
   "id": "47fb61d7-5a45-4176-aa97-14048fa3481c",
   "metadata": {},
   "source": [
    "So here, no one will be able to see what kind of functions and variables have been declared inside the class, except the creator. \n",
    "\n",
    "To give access to others, we can do some modifications."
   ]
  },
  {
   "cell_type": "code",
   "execution_count": 28,
   "id": "dd802424-bc07-49c2-831b-fbca690e6f7b",
   "metadata": {},
   "outputs": [],
   "source": [
    "class car:\n",
    "    \n",
    "    def __init__(self, year, make, model, speed):\n",
    "        self.__year = year\n",
    "        self.__make = make\n",
    "        self.__model = model\n",
    "        self.__speed = 0\n",
    "        \n",
    "    def set_speed(self, speed):\n",
    "        self.__speed = 0 if speed<0 else speed"
   ]
  },
  {
   "cell_type": "code",
   "execution_count": 31,
   "id": "1b97a734-3896-4a1e-86f5-942d7c281111",
   "metadata": {},
   "outputs": [],
   "source": [
    "obj1_car = car(2023, \"Toyota\", \"Innova\", 12)\n",
    "\n",
    "obj1_car.set_speed(-1234)"
   ]
  },
  {
   "cell_type": "code",
   "execution_count": 32,
   "id": "4dc4698e-0b50-4d09-adc8-1bbfbcb7112d",
   "metadata": {},
   "outputs": [],
   "source": [
    "obj1_car.set_speed(3453)"
   ]
  },
  {
   "cell_type": "markdown",
   "id": "88080e97-6f2c-493e-b5f8-1dfa90e068fc",
   "metadata": {},
   "source": [
    "So here user will be able to set the speed but he cannot see the speed."
   ]
  },
  {
   "cell_type": "code",
   "execution_count": 34,
   "id": "7e89c520-85d7-4333-baff-d4e5fc6701b7",
   "metadata": {},
   "outputs": [
    {
     "data": {
      "text/plain": [
       "3453"
      ]
     },
     "execution_count": 34,
     "metadata": {},
     "output_type": "execute_result"
    }
   ],
   "source": [
    "obj1_car._car__speed  ## we as the creator can do that"
   ]
  },
  {
   "cell_type": "markdown",
   "id": "fce2b462-7160-4c77-88b6-65562d40269e",
   "metadata": {},
   "source": [
    "Some more modifications ----"
   ]
  },
  {
   "cell_type": "code",
   "execution_count": 35,
   "id": "fde8ac47-75f5-447b-956d-1a4188628664",
   "metadata": {},
   "outputs": [],
   "source": [
    "class car:\n",
    "    \n",
    "    def __init__(self, year, make, model, speed):\n",
    "        self.__year = year\n",
    "        self.__make = make\n",
    "        self.__model = model\n",
    "        self.__speed = 0\n",
    "        \n",
    "    def set_speed(self,speed):\n",
    "        self.__speed = 0 if speed<0 else speed\n",
    "        \n",
    "    def get_speed(self):\n",
    "        return self.__speed"
   ]
  },
  {
   "cell_type": "code",
   "execution_count": 36,
   "id": "6c58233d-f55f-48fc-9780-c02e507a5f09",
   "metadata": {},
   "outputs": [],
   "source": [
    "obj2_car = car(2023,\"Toyota\", \"Innova\", 3453)"
   ]
  },
  {
   "cell_type": "code",
   "execution_count": 37,
   "id": "cc2ae33c-add4-48cc-b151-902291c5b43e",
   "metadata": {},
   "outputs": [
    {
     "data": {
      "text/plain": [
       "0"
      ]
     },
     "execution_count": 37,
     "metadata": {},
     "output_type": "execute_result"
    }
   ],
   "source": [
    "obj2_car.get_speed()"
   ]
  },
  {
   "cell_type": "markdown",
   "id": "32ff9b98-81ba-41b8-9533-228ec4e2b911",
   "metadata": {},
   "source": [
    "So here, the users will be able to see the value of speed with the help of get_speed() method, not directly."
   ]
  },
  {
   "cell_type": "code",
   "execution_count": 38,
   "id": "25c63836-cdeb-488a-9a7e-efcb6af052fd",
   "metadata": {},
   "outputs": [],
   "source": [
    "class bank_account:\n",
    "    \n",
    "    def __init__(self, balance):\n",
    "        self.__balance = balance\n",
    "        \n",
    "    def deposit(self, amount):\n",
    "        self.__balance = self.__balance + amount\n",
    "        \n",
    "    def withdraw(self, amount):\n",
    "        if self.__balance >= amount:\n",
    "            self.__balance = self.__balance - amount\n",
    "            \n",
    "            return True\n",
    "        else:\n",
    "            return False\n",
    "        \n",
    "    def get_balance(self):\n",
    "        return self.__balance"
   ]
  },
  {
   "cell_type": "code",
   "execution_count": 39,
   "id": "9b08cb89-c1d3-4597-a59a-8a878c30739b",
   "metadata": {},
   "outputs": [],
   "source": [
    "obj_bank_account = bank_account(1000)"
   ]
  },
  {
   "cell_type": "code",
   "execution_count": 40,
   "id": "43415da0-3d50-476a-b708-2899ef323868",
   "metadata": {},
   "outputs": [
    {
     "data": {
      "text/plain": [
       "1000"
      ]
     },
     "execution_count": 40,
     "metadata": {},
     "output_type": "execute_result"
    }
   ],
   "source": [
    "obj_bank_account.get_balance()"
   ]
  },
  {
   "cell_type": "code",
   "execution_count": 41,
   "id": "3a7b3e06-a543-4208-8f62-23a988605bdd",
   "metadata": {},
   "outputs": [],
   "source": [
    "obj_bank_account.deposit(6000)"
   ]
  },
  {
   "cell_type": "code",
   "execution_count": 42,
   "id": "c506136e-0953-4dd6-b6f8-5866e96bdb63",
   "metadata": {},
   "outputs": [
    {
     "data": {
      "text/plain": [
       "7000"
      ]
     },
     "execution_count": 42,
     "metadata": {},
     "output_type": "execute_result"
    }
   ],
   "source": [
    "obj_bank_account.get_balance()"
   ]
  },
  {
   "cell_type": "code",
   "execution_count": 43,
   "id": "d986c2d6-3240-42e5-a720-65c4a2b9ae6a",
   "metadata": {},
   "outputs": [
    {
     "data": {
      "text/plain": [
       "False"
      ]
     },
     "execution_count": 43,
     "metadata": {},
     "output_type": "execute_result"
    }
   ],
   "source": [
    "obj_bank_account.withdraw(10000)"
   ]
  },
  {
   "cell_type": "code",
   "execution_count": 44,
   "id": "eea73824-ce0f-4fd7-acad-2603ebc4525d",
   "metadata": {},
   "outputs": [
    {
     "data": {
      "text/plain": [
       "True"
      ]
     },
     "execution_count": 44,
     "metadata": {},
     "output_type": "execute_result"
    }
   ],
   "source": [
    "obj_bank_account.withdraw(2000)"
   ]
  },
  {
   "cell_type": "code",
   "execution_count": 45,
   "id": "d6d0ff4d-9e3d-4b18-847a-eac11d90cc5d",
   "metadata": {},
   "outputs": [
    {
     "data": {
      "text/plain": [
       "5000"
      ]
     },
     "execution_count": 45,
     "metadata": {},
     "output_type": "execute_result"
    }
   ],
   "source": [
    "obj_bank_account.get_balance()"
   ]
  },
  {
   "cell_type": "code",
   "execution_count": null,
   "id": "81b86353-59d2-45fc-8c89-fd5314f0cf19",
   "metadata": {},
   "outputs": [],
   "source": []
  }
 ],
 "metadata": {
  "kernelspec": {
   "display_name": "Python 3 (ipykernel)",
   "language": "python",
   "name": "python3"
  },
  "language_info": {
   "codemirror_mode": {
    "name": "ipython",
    "version": 3
   },
   "file_extension": ".py",
   "mimetype": "text/x-python",
   "name": "python",
   "nbconvert_exporter": "python",
   "pygments_lexer": "ipython3",
   "version": "3.10.8"
  }
 },
 "nbformat": 4,
 "nbformat_minor": 5
}

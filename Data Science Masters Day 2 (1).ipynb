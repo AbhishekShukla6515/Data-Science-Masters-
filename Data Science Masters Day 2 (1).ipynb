{
 "cells": [
  {
   "cell_type": "markdown",
   "id": "86d49a12-7f3a-4799-bea7-1f3ae13a261f",
   "metadata": {
    "tags": []
   },
   "source": [
    "# DAY 2"
   ]
  },
  {
   "cell_type": "markdown",
   "id": "69bcf49a-4ca7-4b6d-9921-d0024e4a3285",
   "metadata": {},
   "source": [
    "#### Dynamic typing\n",
    "\n",
    "Compiler will automatically understand the datatype of variable on run time."
   ]
  },
  {
   "cell_type": "code",
   "execution_count": 1,
   "id": "e5681248-9ec6-4927-b0d2-263722d04f12",
   "metadata": {},
   "outputs": [
    {
     "data": {
      "text/plain": [
       "str"
      ]
     },
     "execution_count": 1,
     "metadata": {},
     "output_type": "execute_result"
    }
   ],
   "source": [
    "a = 10\n",
    "a = \"c\"\n",
    "type(a)"
   ]
  },
  {
   "cell_type": "code",
   "execution_count": 2,
   "id": "d7ed09fe-51da-42b8-8f62-15a8f183142e",
   "metadata": {},
   "outputs": [
    {
     "data": {
      "text/plain": [
       "0"
      ]
     },
     "execution_count": 2,
     "metadata": {},
     "output_type": "execute_result"
    }
   ],
   "source": [
    "int()"
   ]
  },
  {
   "cell_type": "markdown",
   "id": "34244887-abf2-4139-b2fa-f1ed2e9c8cfc",
   "metadata": {},
   "source": [
    "print() - print values to sys.stdout (or output console)"
   ]
  },
  {
   "cell_type": "code",
   "execution_count": 3,
   "id": "247e9976-8069-453a-9154-f91015d744a8",
   "metadata": {},
   "outputs": [
    {
     "name": "stdout",
     "output_type": "stream",
     "text": [
      "123\n"
     ]
    }
   ],
   "source": [
    "print(123)"
   ]
  },
  {
   "cell_type": "code",
   "execution_count": 4,
   "id": "b8e55659-1aa6-4874-b176-d0f956a17b26",
   "metadata": {},
   "outputs": [
    {
     "name": "stdout",
     "output_type": "stream",
     "text": [
      "My age is :  21\n"
     ]
    }
   ],
   "source": [
    "age  = 21\n",
    "print(\"My age is : \",age)"
   ]
  },
  {
   "cell_type": "markdown",
   "id": "fba6de3e-647b-4444-b199-d05b90e87919",
   "metadata": {},
   "source": [
    "f string  - used for formatting purpose"
   ]
  },
  {
   "cell_type": "code",
   "execution_count": 5,
   "id": "df99cc5e-6e08-4c4a-a180-baa31056b261",
   "metadata": {},
   "outputs": [
    {
     "name": "stdout",
     "output_type": "stream",
     "text": [
      "My age is : 21\n"
     ]
    }
   ],
   "source": [
    "print(f\"My age is : {age}\")"
   ]
  },
  {
   "cell_type": "markdown",
   "id": "459e71ac-c3e4-4eb0-abda-3d63ad52008a",
   "metadata": {},
   "source": [
    "##### format()"
   ]
  },
  {
   "cell_type": "code",
   "execution_count": 6,
   "id": "b3d549a7-fe12-4f40-b8ac-eb05aa60e989",
   "metadata": {},
   "outputs": [
    {
     "name": "stdout",
     "output_type": "stream",
     "text": [
      "My name is Abhishek and age is 21\n"
     ]
    }
   ],
   "source": [
    "name = \"Abhishek\"\n",
    "age = 21\n",
    "print(\"My name is {} and age is {}\".format(name,age))"
   ]
  },
  {
   "cell_type": "markdown",
   "id": "ade944c0-4e8f-4ab7-9cda-1d56cf52fb5a",
   "metadata": {},
   "source": [
    "##### placeholder"
   ]
  },
  {
   "cell_type": "code",
   "execution_count": 7,
   "id": "a3009b31-8b30-441f-bee8-4c8abe90cbc9",
   "metadata": {},
   "outputs": [
    {
     "name": "stdout",
     "output_type": "stream",
     "text": [
      "My name is Abhishek and age is 21\n"
     ]
    }
   ],
   "source": [
    "print(\"My name is {firstname} and age is {firstage}\".format(firstname = name,firstage = age))"
   ]
  },
  {
   "cell_type": "code",
   "execution_count": 8,
   "id": "b2210198-a18a-4491-a82a-9e3f77a25256",
   "metadata": {},
   "outputs": [
    {
     "name": "stdout",
     "output_type": "stream",
     "text": [
      "My age is 21 and I have completed : my degree of B.Tech with the name of Abhishek\n"
     ]
    }
   ],
   "source": [
    "name = \"Abhishek\"\n",
    "age = 21\n",
    "degree = \"B.Tech\"\n",
    "\n",
    "print(\"My age is {} and I have completed my degree of {} with the name of {}\".format(age,degree,name)) "
   ]
  },
  {
   "cell_type": "code",
   "execution_count": 9,
   "id": "7981ecb9-2380-47d7-ad64-7662807b848e",
   "metadata": {},
   "outputs": [
    {
     "name": "stdout",
     "output_type": "stream",
     "text": [
      "My age is 21 and I have completed my degree of B.Tech with the name of Abhishek\n"
     ]
    }
   ],
   "source": [
    "print(f\"My age is {age} and I have completed my degree of {degree} with the name of {name}\")"
   ]
  },
  {
   "cell_type": "markdown",
   "id": "d55219d6-1325-4848-a013-90afac0bff99",
   "metadata": {},
   "source": [
    "### Control Flow"
   ]
  },
  {
   "cell_type": "markdown",
   "id": "35afcd71-510e-4f86-b37a-5070083aa2bd",
   "metadata": {},
   "source": [
    "#### Decision Making statements"
   ]
  },
  {
   "cell_type": "code",
   "execution_count": 10,
   "id": "ff8571a0-667e-40f1-86e3-91c49d874016",
   "metadata": {},
   "outputs": [
    {
     "name": "stdout",
     "output_type": "stream",
     "text": [
      "You are eligible to vote.\n"
     ]
    }
   ],
   "source": [
    "## if statements\n",
    "\n",
    "age = 18\n",
    "if age>=18:\n",
    "    print(\"You are eligible to vote.\")"
   ]
  },
  {
   "cell_type": "code",
   "execution_count": 12,
   "id": "89ca2685-d1ae-4639-be5c-c47cd769db00",
   "metadata": {},
   "outputs": [
    {
     "name": "stdin",
     "output_type": "stream",
     "text": [
      " Abhishek Shukla\n"
     ]
    },
    {
     "data": {
      "text/plain": [
       "'Abhishek Shukla'"
      ]
     },
     "execution_count": 12,
     "metadata": {},
     "output_type": "execute_result"
    }
   ],
   "source": [
    "input()"
   ]
  },
  {
   "cell_type": "code",
   "execution_count": 13,
   "id": "70f2f0dc-4bf7-4900-a35d-118a5110a4d3",
   "metadata": {},
   "outputs": [
    {
     "name": "stdin",
     "output_type": "stream",
     "text": [
      "Enter your name :  Abhishek Shukla\n"
     ]
    }
   ],
   "source": [
    "name = input(\"Enter your name : \")"
   ]
  },
  {
   "cell_type": "code",
   "execution_count": 14,
   "id": "f8e98da5-be9c-4c2d-bcbd-3b8294ee7ce2",
   "metadata": {},
   "outputs": [
    {
     "name": "stdin",
     "output_type": "stream",
     "text": [
      "Enter your age :  21\n"
     ]
    }
   ],
   "source": [
    "age = int(input(\"Enter your age : \"))"
   ]
  },
  {
   "cell_type": "code",
   "execution_count": 15,
   "id": "c4c9cd5c-7da3-4a45-853a-04da62c885b1",
   "metadata": {},
   "outputs": [
    {
     "data": {
      "text/plain": [
       "int"
      ]
     },
     "execution_count": 15,
     "metadata": {},
     "output_type": "execute_result"
    }
   ],
   "source": [
    "type(age)"
   ]
  },
  {
   "cell_type": "code",
   "execution_count": 16,
   "id": "c9f5310d-5a6a-4760-a3f4-aa65b90b10ee",
   "metadata": {},
   "outputs": [
    {
     "name": "stdin",
     "output_type": "stream",
     "text": [
      "Enter the age :  21\n"
     ]
    },
    {
     "name": "stdout",
     "output_type": "stream",
     "text": [
      "You are young blood.\n"
     ]
    }
   ],
   "source": [
    "age = int(input(\"Enter the age : \"))\n",
    "if age>=18 and age<=32:\n",
    "    print(\"You are young blood.\")"
   ]
  },
  {
   "cell_type": "code",
   "execution_count": 17,
   "id": "fb47c357-8b58-420d-9799-1cc9b7fd81e2",
   "metadata": {},
   "outputs": [
    {
     "name": "stdin",
     "output_type": "stream",
     "text": [
      "Enter your age :  56\n"
     ]
    },
    {
     "name": "stdout",
     "output_type": "stream",
     "text": [
      "Thank You. We will let you know.\n"
     ]
    }
   ],
   "source": [
    "# if-else statement \n",
    "\n",
    "age = int(input(\"Enter your age : \"))\n",
    "if age>=18 and age<=45:\n",
    "    print(\"You are young blood.\")\n",
    "else:\n",
    "    print(\"Thank You. We will let you know.\")"
   ]
  },
  {
   "cell_type": "code",
   "execution_count": 18,
   "id": "f8972058-74d5-43e4-a836-1c9302f648e7",
   "metadata": {},
   "outputs": [
    {
     "name": "stdin",
     "output_type": "stream",
     "text": [
      "Enter the price :  5000\n"
     ]
    },
    {
     "name": "stdout",
     "output_type": "stream",
     "text": [
      "The price of product is 4000.0\n"
     ]
    }
   ],
   "source": [
    "# 20% discount on product above Rs. 1000\n",
    "# else there is discount of 30%\n",
    "\n",
    "price  = int(input(\"Enter the price : \"))\n",
    "if price>1000:\n",
    "    print(\"The price of product is {}\".format(price*0.8))\n",
    "else:\n",
    "    print(\"The price of product is {}\".format(price*0.7))"
   ]
  },
  {
   "cell_type": "code",
   "execution_count": 19,
   "id": "e66df566-84c4-4c70-b311-fa32ae8b05ae",
   "metadata": {},
   "outputs": [
    {
     "name": "stdin",
     "output_type": "stream",
     "text": [
      "Enter the price :  900\n"
     ]
    },
    {
     "name": "stdout",
     "output_type": "stream",
     "text": [
      "Lets drink tea.\n"
     ]
    }
   ],
   "source": [
    "## elif \n",
    "\n",
    "price = int(input(\"Enter the price : \"))\n",
    "if price>3000:\n",
    "    print(f\"The price of product is {price*0.8}\")\n",
    "elif price>2000 and price<=3000:\n",
    "    print(f\"The price of product is {price*0.7}\")\n",
    "elif price>1000 and price<=2000:\n",
    "    print(f\"The price of product is {price*0.6}\")\n",
    "else:\n",
    "    print(\"Lets drink tea.\")"
   ]
  },
  {
   "cell_type": "code",
   "execution_count": 20,
   "id": "baef40c3-0915-491f-b357-3d8dda1a10f5",
   "metadata": {},
   "outputs": [
    {
     "name": "stdin",
     "output_type": "stream",
     "text": [
      "Enter the price :  2999\n"
     ]
    },
    {
     "name": "stdout",
     "output_type": "stream",
     "text": [
      "Congratulations! You get an additional gift.\n",
      "The price of product is 2099.2999999999997\n"
     ]
    }
   ],
   "source": [
    "price = int(input(\"Enter the price : \"))\n",
    "if price>3000:\n",
    "    if price==4000:\n",
    "        print(\"Congratulations! You get a Goa trip.\")\n",
    "    print(f\"The price of product is {price*0.8}\")\n",
    "elif price>2000 and price<=3000:\n",
    "    if price==2999:\n",
    "        print(\"Congratulations! You get an additional gift.\")\n",
    "    print(f\"The price of product is {price*0.7}\")\n",
    "elif price>=1000 and price<=2000:\n",
    "    print(f\"The price of product is {price*0.6}\")\n",
    "else:\n",
    "    print(\"Lets drink tea.\")"
   ]
  },
  {
   "cell_type": "code",
   "execution_count": 22,
   "id": "0c94ed98-1164-4caf-bbe6-bf844e513bd4",
   "metadata": {},
   "outputs": [
    {
     "name": "stdin",
     "output_type": "stream",
     "text": [
      "Enter the number :  500\n"
     ]
    },
    {
     "name": "stdout",
     "output_type": "stream",
     "text": [
      "Value is less than or equal to 999.\n"
     ]
    }
   ],
   "source": [
    "# single statement suite\n",
    "\n",
    "val = int(input(\"Enter the number : \"))\n",
    "if (val<=999) : print(\"Value is less than or equal to 999.\")"
   ]
  },
  {
   "cell_type": "markdown",
   "id": "81283a80-dde7-4e7b-b6b0-454fa39db45c",
   "metadata": {},
   "source": [
    "### Loop statements\n",
    "\n",
    "##### 1.) while \n",
    "##### 2.) for \n",
    "##### 3.) nested loop\n",
    "##### 4.) loop control (break, continue, pass)"
   ]
  },
  {
   "cell_type": "code",
   "execution_count": 23,
   "id": "967c9ad2-1ced-44d3-9fe4-9aab37a73fac",
   "metadata": {},
   "outputs": [
    {
     "name": "stdout",
     "output_type": "stream",
     "text": [
      "26\n",
      "27\n",
      "28\n",
      "29\n",
      "30\n",
      "31\n",
      "32\n",
      "33\n",
      "34\n",
      "35\n",
      "36\n",
      "37\n",
      "38\n",
      "39\n",
      "40\n",
      "41\n",
      "42\n",
      "43\n",
      "44\n",
      "45\n",
      "46\n",
      "47\n",
      "48\n",
      "49\n",
      "50\n",
      "51\n",
      "52\n",
      "53\n",
      "54\n",
      "55\n",
      "56\n",
      "57\n",
      "58\n",
      "59\n",
      "60\n",
      "61\n",
      "Its time for retirement.\n"
     ]
    }
   ],
   "source": [
    "## while loop - while-else\n",
    "\n",
    "joining_age = 25\n",
    "while joining_age<=60:\n",
    "    joining_age = joining_age+1\n",
    "    print(joining_age)\n",
    "else:\n",
    "    print(\"Its time for retirement.\")"
   ]
  },
  {
   "cell_type": "code",
   "execution_count": 24,
   "id": "94191961-10b1-4c9a-8c90-1c3efe923146",
   "metadata": {},
   "outputs": [
    {
     "name": "stdout",
     "output_type": "stream",
     "text": [
      "25\n",
      "26\n",
      "27\n",
      "28\n",
      "29\n",
      "30\n",
      "31\n",
      "32\n",
      "33\n",
      "34\n",
      "35\n",
      "36\n",
      "37\n",
      "38\n",
      "39\n",
      "40\n",
      "41\n",
      "42\n",
      "43\n",
      "44\n",
      "45\n",
      "46\n",
      "47\n",
      "48\n",
      "49\n",
      "50\n",
      "51\n",
      "52\n",
      "53\n",
      "54\n",
      "55\n",
      "56\n",
      "57\n",
      "58\n",
      "59\n",
      "60\n",
      "Its time for retirement.\n"
     ]
    }
   ],
   "source": [
    "joining_age = 25\n",
    "while joining_age<=60:\n",
    "    print(joining_age)\n",
    "    joining_age = joining_age+1\n",
    "else:\n",
    "    print(\"Its time for retirement.\")"
   ]
  },
  {
   "cell_type": "code",
   "execution_count": 25,
   "id": "c5765031-14c5-4293-8234-cb7378c9bb02",
   "metadata": {},
   "outputs": [
    {
     "name": "stdout",
     "output_type": "stream",
     "text": [
      "1000\n",
      "900\n",
      "800\n",
      "700\n",
      "600\n",
      "500\n",
      "400\n",
      "300\n",
      "200\n",
      "100\n",
      "Put more money bank people.\n"
     ]
    }
   ],
   "source": [
    "## money in atm\n",
    "\n",
    "total_amount = 1000\n",
    "while total_amount!=0:\n",
    "    print(total_amount)\n",
    "    total_amount = total_amount-100\n",
    "else:\n",
    "    print(\"Put more money bank people.\")"
   ]
  },
  {
   "cell_type": "markdown",
   "id": "6302a368-646d-4d9e-94b8-86ab9488b926",
   "metadata": {},
   "source": [
    "#### for loop\n",
    "\n",
    "for loop usually works for iteration inside a collection or container or lists."
   ]
  },
  {
   "cell_type": "code",
   "execution_count": 28,
   "id": "d6297fa9-eb22-412f-ad3c-76c371923723",
   "metadata": {},
   "outputs": [],
   "source": [
    "lst = [\"Krishna\",1,2,3,4,\"apple\",\"banana\"]"
   ]
  },
  {
   "cell_type": "code",
   "execution_count": 29,
   "id": "d0252291-d38d-4cdf-be4e-0d7fdd82167f",
   "metadata": {},
   "outputs": [
    {
     "data": {
      "text/plain": [
       "list"
      ]
     },
     "execution_count": 29,
     "metadata": {},
     "output_type": "execute_result"
    }
   ],
   "source": [
    "type(lst)"
   ]
  },
  {
   "cell_type": "code",
   "execution_count": 30,
   "id": "ef133f75-a491-430c-a709-b03b7c5ea1ab",
   "metadata": {},
   "outputs": [
    {
     "data": {
      "text/plain": [
       "'Krishna'"
      ]
     },
     "execution_count": 30,
     "metadata": {},
     "output_type": "execute_result"
    }
   ],
   "source": [
    "lst[0]"
   ]
  },
  {
   "cell_type": "code",
   "execution_count": 32,
   "id": "5d0717ce-4d40-4f3d-9bfc-8eb7cf325532",
   "metadata": {},
   "outputs": [
    {
     "name": "stdout",
     "output_type": "stream",
     "text": [
      "Krishna\n",
      "1\n",
      "2\n",
      "3\n",
      "4\n",
      "apple\n",
      "banana\n"
     ]
    }
   ],
   "source": [
    "## x - temporary variable\n",
    "## lst - collection\n",
    "\n",
    "for x in lst:\n",
    "    print(x)"
   ]
  },
  {
   "cell_type": "code",
   "execution_count": 33,
   "id": "b952b109-74a7-4c58-b18a-052443f0a6f7",
   "metadata": {},
   "outputs": [],
   "source": [
    "fruits_list = [\"Mango\",\"Cherry\",\"Apple\",\"Papaya\",\"Banana\"]"
   ]
  },
  {
   "cell_type": "code",
   "execution_count": 34,
   "id": "5f6ea580-14e8-444b-9007-eae223bf51df",
   "metadata": {},
   "outputs": [
    {
     "name": "stdout",
     "output_type": "stream",
     "text": [
      "Mango\n",
      "Cherry\n",
      "The fruit is cherry.\n",
      "Apple\n",
      "Papaya\n",
      "Banana\n"
     ]
    }
   ],
   "source": [
    "for a in fruits_list:\n",
    "    print(a)\n",
    "    if a==\"Cherry\":\n",
    "        print(\"The fruit is cherry.\")"
   ]
  },
  {
   "cell_type": "code",
   "execution_count": 36,
   "id": "4e50a7e6-fffc-464c-aadf-3064ca49d4e6",
   "metadata": {},
   "outputs": [
    {
     "name": "stdout",
     "output_type": "stream",
     "text": [
      "m\n",
      "a\n",
      "n\n",
      "g\n",
      "o\n"
     ]
    }
   ],
   "source": [
    "fruit = \"mango\"\n",
    "for x in fruit:\n",
    "    print(x)"
   ]
  },
  {
   "cell_type": "code",
   "execution_count": 37,
   "id": "96d6cfe2-19f7-4943-ba81-2705f30eed3d",
   "metadata": {},
   "outputs": [
    {
     "data": {
      "text/plain": [
       "'n'"
      ]
     },
     "execution_count": 37,
     "metadata": {},
     "output_type": "execute_result"
    }
   ],
   "source": [
    "fruit[2]"
   ]
  },
  {
   "cell_type": "code",
   "execution_count": 9,
   "id": "f7c89c71-9dfc-452c-8c81-12771dafcb52",
   "metadata": {},
   "outputs": [
    {
     "data": {
      "text/plain": [
       "range(1, 6)"
      ]
     },
     "execution_count": 9,
     "metadata": {},
     "output_type": "execute_result"
    }
   ],
   "source": [
    "## range\n",
    "\n",
    "range(1,6)"
   ]
  },
  {
   "cell_type": "code",
   "execution_count": 11,
   "id": "2df78e7f-d85d-4a53-9a81-56da3a63b077",
   "metadata": {},
   "outputs": [
    {
     "name": "stdout",
     "output_type": "stream",
     "text": [
      "1\n",
      "2\n",
      "3\n",
      "4\n",
      "5\n"
     ]
    }
   ],
   "source": [
    "for i in range(1,6):\n",
    "    print(i)"
   ]
  },
  {
   "cell_type": "markdown",
   "id": "3240c9ca-5e73-4478-a011-c1858b14c06d",
   "metadata": {},
   "source": [
    "##### Nested loops"
   ]
  },
  {
   "cell_type": "code",
   "execution_count": 7,
   "id": "d08bb756-627c-4a61-bd02-03d179a5bcc6",
   "metadata": {},
   "outputs": [
    {
     "name": "stdout",
     "output_type": "stream",
     "text": [
      "* \n",
      "* * \n",
      "* * * \n",
      "* * * * \n",
      "* * * * * \n",
      "* * * * * * \n",
      "* * * * * * * \n"
     ]
    }
   ],
   "source": [
    "n = 7\n",
    "for i in range(0,n):\n",
    "    for j in range(0,i+1):\n",
    "        print(\"*\",end = \" \")\n",
    "    print(\"\\r\")"
   ]
  },
  {
   "cell_type": "code",
   "execution_count": 8,
   "id": "4039d57a-84ed-418f-b4b1-b757d6f7c7b2",
   "metadata": {},
   "outputs": [
    {
     "name": "stdout",
     "output_type": "stream",
     "text": [
      "   * \n",
      "  * * \n",
      " * * * \n",
      "* * * * \n"
     ]
    }
   ],
   "source": [
    "## assignment  - equilateral triangle using star pattern\n",
    "\n",
    "n = 4\n",
    "for i in range(1,5):\n",
    "    print(\" \"*(n-i)+\"* \"*i)"
   ]
  },
  {
   "cell_type": "code",
   "execution_count": 3,
   "id": "2d9a2866-2278-4e5e-9bba-ddca4015dec5",
   "metadata": {},
   "outputs": [
    {
     "name": "stdin",
     "output_type": "stream",
     "text": [
      "Enter :  5\n"
     ]
    },
    {
     "name": "stdout",
     "output_type": "stream",
     "text": [
      "          *         \n",
      "        * * *       \n",
      "      * * * * *     \n",
      "    * * * * * * *   \n",
      "  * * * * * * * * * \n"
     ]
    }
   ],
   "source": [
    "## another instance of triangle\n",
    "\n",
    "n=int(input(\"Enter : \"))\n",
    "lst = [n]\n",
    "e = 0\n",
    "for i in range(0,n):\n",
    "    e+=1\n",
    "    for j in range(2*n):\n",
    "        if j in lst:\n",
    "            print(\"*\",end = \" \")\n",
    "        else:\n",
    "            print(\" \",end = \" \")\n",
    "    print(\"\\r\")\n",
    "    lst = lst + [n-e,n+e]"
   ]
  },
  {
   "cell_type": "code",
   "execution_count": 4,
   "id": "f39a98ae-d900-437d-b3a8-3be4457bdd1e",
   "metadata": {},
   "outputs": [],
   "source": [
    "## loop controls\n",
    "## break and continue\n",
    "\n",
    "fruits_list = [\"Mango\",\"Cherry\",\"Apple\",\"Papaya\",\"Banana\"]"
   ]
  },
  {
   "cell_type": "code",
   "execution_count": 12,
   "id": "af4f8a60-af31-45c3-a52b-1cd3431a95e0",
   "metadata": {},
   "outputs": [
    {
     "name": "stdout",
     "output_type": "stream",
     "text": [
      "Mango\n",
      "Cherry\n",
      "The fruit is apple.\n"
     ]
    }
   ],
   "source": [
    "for i in fruits_list:\n",
    "    if i==\"Apple\":\n",
    "        print(\"The fruit is apple.\")\n",
    "        break\n",
    "    print(i)"
   ]
  },
  {
   "cell_type": "code",
   "execution_count": 13,
   "id": "1de40f80-0921-4f30-9b10-bed341226b33",
   "metadata": {},
   "outputs": [
    {
     "name": "stdout",
     "output_type": "stream",
     "text": [
      "Mango\n",
      "Cherry\n",
      "The fruit is apple.\n",
      "Apple\n",
      "Papaya\n",
      "Banana\n"
     ]
    }
   ],
   "source": [
    "for i in fruits_list:\n",
    "    if i==\"Apple\":\n",
    "        print(\"The fruit is apple.\")\n",
    "        pass\n",
    "    print(i)"
   ]
  },
  {
   "cell_type": "code",
   "execution_count": 15,
   "id": "f2067faf-f64f-4cfd-9ae0-2004502ae026",
   "metadata": {},
   "outputs": [
    {
     "name": "stdout",
     "output_type": "stream",
     "text": [
      "Mango\n",
      "Cherry\n",
      "The fruit is apple.\n",
      "Papaya\n",
      "Banana\n"
     ]
    }
   ],
   "source": [
    "## continue\n",
    "\n",
    "for i in fruits_list:\n",
    "    if i==\"Apple\":\n",
    "        print(\"The fruit is apple.\")\n",
    "        continue\n",
    "    print(i)"
   ]
  },
  {
   "cell_type": "code",
   "execution_count": null,
   "id": "1ef304ba-86cd-46f8-a5f1-d2d8655a43f2",
   "metadata": {},
   "outputs": [],
   "source": []
  }
 ],
 "metadata": {
  "kernelspec": {
   "display_name": "Python 3 (ipykernel)",
   "language": "python",
   "name": "python3"
  },
  "language_info": {
   "codemirror_mode": {
    "name": "ipython",
    "version": 3
   },
   "file_extension": ".py",
   "mimetype": "text/x-python",
   "name": "python",
   "nbconvert_exporter": "python",
   "pygments_lexer": "ipython3",
   "version": "3.10.8"
  }
 },
 "nbformat": 4,
 "nbformat_minor": 5
}

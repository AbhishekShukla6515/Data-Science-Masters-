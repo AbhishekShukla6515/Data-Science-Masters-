{
 "cells": [
  {
   "cell_type": "markdown",
   "id": "57d7a7cd-3a1d-4218-8abe-493038d0075f",
   "metadata": {},
   "source": [
    "# DAY 1"
   ]
  },
  {
   "cell_type": "markdown",
   "id": "34b96083-ea38-47c1-a944-7d03330073a0",
   "metadata": {},
   "source": [
    "## Numbers"
   ]
  },
  {
   "cell_type": "code",
   "execution_count": 2,
   "id": "aa09d329-5d05-4fc0-b3be-864dc5a99478",
   "metadata": {},
   "outputs": [
    {
     "data": {
      "text/plain": [
       "4"
      ]
     },
     "execution_count": 2,
     "metadata": {},
     "output_type": "execute_result"
    }
   ],
   "source": [
    "1+3"
   ]
  },
  {
   "cell_type": "code",
   "execution_count": 3,
   "id": "129e67b1-2e09-437c-a32f-f86f53e9e6d1",
   "metadata": {},
   "outputs": [
    {
     "name": "stdout",
     "output_type": "stream",
     "text": [
      "4\n"
     ]
    }
   ],
   "source": [
    "print(1+3)"
   ]
  },
  {
   "cell_type": "markdown",
   "id": "ed0a1c06-285f-48d9-86ab-99dcd7805981",
   "metadata": {},
   "source": [
    "When we write \"print\", this section acts as output console. print() is an in-built function."
   ]
  },
  {
   "cell_type": "code",
   "execution_count": 5,
   "id": "ec211b69-3ab7-4a9f-9b49-735b5868d12d",
   "metadata": {},
   "outputs": [],
   "source": [
    "## printing multiline sentences "
   ]
  },
  {
   "cell_type": "code",
   "execution_count": 6,
   "id": "b3e563b2-f1ed-4fd0-85dc-965138083e3e",
   "metadata": {},
   "outputs": [
    {
     "ename": "SyntaxError",
     "evalue": "unterminated string literal (detected at line 2) (1996094085.py, line 2)",
     "output_type": "error",
     "traceback": [
      "\u001b[0;36m  Cell \u001b[0;32mIn[6], line 2\u001b[0;36m\u001b[0m\n\u001b[0;31m    print(\"My name is Abhishek and\u001b[0m\n\u001b[0m          ^\u001b[0m\n\u001b[0;31mSyntaxError\u001b[0m\u001b[0;31m:\u001b[0m unterminated string literal (detected at line 2)\n"
     ]
    }
   ],
   "source": [
    "## wrong way\n",
    "print(\"My name is Abhishek and\n",
    "      I study in AITH.\")"
   ]
  },
  {
   "cell_type": "code",
   "execution_count": 7,
   "id": "f599664a-b946-4748-8f0a-863900dde03f",
   "metadata": {},
   "outputs": [
    {
     "name": "stdout",
     "output_type": "stream",
     "text": [
      "My name is Abhishek and\n",
      "I study in AITH.\n"
     ]
    }
   ],
   "source": [
    "## correct way\n",
    "print(\"My name is Abhishek and\\nI study in AITH.\")"
   ]
  },
  {
   "cell_type": "markdown",
   "id": "f270da92-87b7-4282-aa79-ad87ac47f42b",
   "metadata": {},
   "source": [
    "## Variables assignment"
   ]
  },
  {
   "cell_type": "code",
   "execution_count": 8,
   "id": "464b0ba2-2b5b-4686-9305-bc206e3e3697",
   "metadata": {},
   "outputs": [],
   "source": [
    "name = \"Abhishek\"\n",
    "company = \"PWSkills\""
   ]
  },
  {
   "cell_type": "code",
   "execution_count": 9,
   "id": "ab34f8df-711e-4e06-9725-b2165f5fc297",
   "metadata": {},
   "outputs": [
    {
     "data": {
      "text/plain": [
       "'PWSkills'"
      ]
     },
     "execution_count": 9,
     "metadata": {},
     "output_type": "execute_result"
    }
   ],
   "source": [
    "company"
   ]
  },
  {
   "cell_type": "code",
   "execution_count": 10,
   "id": "f74eb072-3c95-44e0-8c94-f7584051fdaa",
   "metadata": {},
   "outputs": [
    {
     "data": {
      "text/plain": [
       "'Abhishek'"
      ]
     },
     "execution_count": 10,
     "metadata": {},
     "output_type": "execute_result"
    }
   ],
   "source": [
    "name"
   ]
  },
  {
   "cell_type": "code",
   "execution_count": 11,
   "id": "36e7f597-cf9f-433a-9e6c-7c0fd9059fb2",
   "metadata": {},
   "outputs": [
    {
     "data": {
      "text/plain": [
       "'Anshuman'"
      ]
     },
     "execution_count": 11,
     "metadata": {},
     "output_type": "execute_result"
    }
   ],
   "source": [
    "name = \"Anshuman\"\n",
    "name"
   ]
  },
  {
   "cell_type": "markdown",
   "id": "ff972e49-fbd4-4771-9eed-6e6ac3d153f2",
   "metadata": {},
   "source": [
    "#### type() function  "
   ]
  },
  {
   "cell_type": "code",
   "execution_count": 13,
   "id": "c569f015-46a6-4eb0-8625-bba35c071b13",
   "metadata": {},
   "outputs": [
    {
     "data": {
      "text/plain": [
       "str"
      ]
     },
     "execution_count": 13,
     "metadata": {},
     "output_type": "execute_result"
    }
   ],
   "source": [
    "type(\"\")"
   ]
  },
  {
   "cell_type": "code",
   "execution_count": 14,
   "id": "28656ca2-f59f-46fd-a62d-be27230ae3a6",
   "metadata": {},
   "outputs": [
    {
     "data": {
      "text/plain": [
       "str"
      ]
     },
     "execution_count": 14,
     "metadata": {},
     "output_type": "execute_result"
    }
   ],
   "source": [
    "type(\"Krishna\")"
   ]
  },
  {
   "cell_type": "code",
   "execution_count": 16,
   "id": "1687c386-7895-4a64-ac49-0d79a0e7ac5a",
   "metadata": {},
   "outputs": [
    {
     "data": {
      "text/plain": [
       "int"
      ]
     },
     "execution_count": 16,
     "metadata": {},
     "output_type": "execute_result"
    }
   ],
   "source": [
    "number = 20\n",
    "type(number)"
   ]
  },
  {
   "cell_type": "code",
   "execution_count": 17,
   "id": "0b1d4fd1-f839-4038-a0fa-d755201d7ce3",
   "metadata": {},
   "outputs": [
    {
     "data": {
      "text/plain": [
       "complex"
      ]
     },
     "execution_count": 17,
     "metadata": {},
     "output_type": "execute_result"
    }
   ],
   "source": [
    "type(1+2j)"
   ]
  },
  {
   "cell_type": "code",
   "execution_count": 20,
   "id": "96234658-0aba-4be5-a62a-795c2278a1ea",
   "metadata": {},
   "outputs": [
    {
     "ename": "SyntaxError",
     "evalue": "invalid decimal literal (604175375.py, line 2)",
     "output_type": "error",
     "traceback": [
      "\u001b[0;36m  Cell \u001b[0;32mIn[20], line 2\u001b[0;36m\u001b[0m\n\u001b[0;31m    1a = 12\u001b[0m\n\u001b[0m    ^\u001b[0m\n\u001b[0;31mSyntaxError\u001b[0m\u001b[0;31m:\u001b[0m invalid decimal literal\n"
     ]
    }
   ],
   "source": [
    "## wrong ways of naming a variable\n",
    "1a = 12\n",
    "3ans = 24"
   ]
  },
  {
   "cell_type": "markdown",
   "id": "549d0df4-80dc-4331-8f48-c1a8ba0debf9",
   "metadata": {},
   "source": [
    "#### Variables are case-sensitive"
   ]
  },
  {
   "cell_type": "code",
   "execution_count": 21,
   "id": "3a3444e5-4a9c-4ded-a84f-27261ade3368",
   "metadata": {},
   "outputs": [
    {
     "name": "stdout",
     "output_type": "stream",
     "text": [
      "PWSkills\n",
      "iNeuron\n"
     ]
    }
   ],
   "source": [
    "company = \"PWSkills\"\n",
    "Company = \"iNeuron\"\n",
    "print(company)\n",
    "print(Company)"
   ]
  },
  {
   "cell_type": "code",
   "execution_count": 22,
   "id": "bd5cb73e-db29-4b77-9cf1-1e2003435023",
   "metadata": {},
   "outputs": [],
   "source": [
    "float = 32 "
   ]
  },
  {
   "cell_type": "markdown",
   "id": "abea41a3-facf-48c5-8015-fb0d91e18a21",
   "metadata": {},
   "source": [
    "In the above example, it will be overridden with value 32. This is not a good practice."
   ]
  },
  {
   "cell_type": "markdown",
   "id": "f0c3d8cd-ed1f-438b-8ec6-ffc46df6a4b0",
   "metadata": {},
   "source": [
    "##### boolean"
   ]
  },
  {
   "cell_type": "code",
   "execution_count": 23,
   "id": "70156f1f-113a-4db9-95d9-f60d3fe1994c",
   "metadata": {},
   "outputs": [
    {
     "data": {
      "text/plain": [
       "True"
      ]
     },
     "execution_count": 23,
     "metadata": {},
     "output_type": "execute_result"
    }
   ],
   "source": [
    "True"
   ]
  },
  {
   "cell_type": "code",
   "execution_count": 24,
   "id": "acbe62fc-9ea3-44c7-8bd0-73130f609536",
   "metadata": {},
   "outputs": [
    {
     "data": {
      "text/plain": [
       "False"
      ]
     },
     "execution_count": 24,
     "metadata": {},
     "output_type": "execute_result"
    }
   ],
   "source": [
    "True and False"
   ]
  },
  {
   "cell_type": "code",
   "execution_count": 25,
   "id": "d6d701ae-a420-44b2-b05e-ecb452ad33b0",
   "metadata": {},
   "outputs": [
    {
     "data": {
      "text/plain": [
       "True"
      ]
     },
     "execution_count": 25,
     "metadata": {},
     "output_type": "execute_result"
    }
   ],
   "source": [
    "True or False"
   ]
  },
  {
   "cell_type": "code",
   "execution_count": 26,
   "id": "125e36c1-dd6b-4226-b8da-ee824d1c87c5",
   "metadata": {},
   "outputs": [
    {
     "data": {
      "text/plain": [
       "bool"
      ]
     },
     "execution_count": 26,
     "metadata": {},
     "output_type": "execute_result"
    }
   ],
   "source": [
    "type(not False)"
   ]
  },
  {
   "cell_type": "code",
   "execution_count": 27,
   "id": "13946223-db8f-4cc7-aa7a-1a19caf5a29f",
   "metadata": {},
   "outputs": [
    {
     "data": {
      "text/plain": [
       "False"
      ]
     },
     "execution_count": 27,
     "metadata": {},
     "output_type": "execute_result"
    }
   ],
   "source": [
    "not True"
   ]
  },
  {
   "cell_type": "markdown",
   "id": "93bb3a4b-93b0-410a-8856-03ff2d18d6c3",
   "metadata": {},
   "source": [
    "##### typecasting "
   ]
  },
  {
   "cell_type": "markdown",
   "id": "a1367ee6-3da3-47e7-94a1-abf1788a61bb",
   "metadata": {},
   "source": [
    "typecasting - changing a datatype to other datatype"
   ]
  },
  {
   "cell_type": "code",
   "execution_count": 28,
   "id": "014fff6c-89a5-4d64-b019-90c28aec3c9e",
   "metadata": {},
   "outputs": [
    {
     "data": {
      "text/plain": [
       "False"
      ]
     },
     "execution_count": 28,
     "metadata": {},
     "output_type": "execute_result"
    }
   ],
   "source": [
    "bool(0)"
   ]
  },
  {
   "cell_type": "code",
   "execution_count": 29,
   "id": "b0d72edb-47a4-4243-b061-ba6bd931e863",
   "metadata": {},
   "outputs": [
    {
     "name": "stdout",
     "output_type": "stream",
     "text": [
      "T\n"
     ]
    }
   ],
   "source": [
    "a = 1\n",
    "if bool(a)==True:\n",
    "    print(\"T\")"
   ]
  },
  {
   "cell_type": "code",
   "execution_count": 30,
   "id": "d32b3814-3352-43d0-b042-e7a2766e69a3",
   "metadata": {},
   "outputs": [
    {
     "data": {
      "text/plain": [
       "True"
      ]
     },
     "execution_count": 30,
     "metadata": {},
     "output_type": "execute_result"
    }
   ],
   "source": [
    "bool(2)"
   ]
  },
  {
   "cell_type": "code",
   "execution_count": 31,
   "id": "0bf0341d-c401-420b-bff7-cb68d0597438",
   "metadata": {},
   "outputs": [
    {
     "data": {
      "text/plain": [
       "True"
      ]
     },
     "execution_count": 31,
     "metadata": {},
     "output_type": "execute_result"
    }
   ],
   "source": [
    "bool(-1)"
   ]
  },
  {
   "cell_type": "code",
   "execution_count": 35,
   "id": "ef2f68a8-d5e3-4349-bf80-2972c30c323d",
   "metadata": {},
   "outputs": [
    {
     "data": {
      "text/plain": [
       "1"
      ]
     },
     "execution_count": 35,
     "metadata": {},
     "output_type": "execute_result"
    }
   ],
   "source": [
    "int(1.54)"
   ]
  },
  {
   "cell_type": "code",
   "execution_count": 36,
   "id": "d2f021e5-6372-493e-9d7e-cc485a8ee561",
   "metadata": {},
   "outputs": [
    {
     "data": {
      "text/plain": [
       "'23'"
      ]
     },
     "execution_count": 36,
     "metadata": {},
     "output_type": "execute_result"
    }
   ],
   "source": [
    "str(23)"
   ]
  },
  {
   "cell_type": "markdown",
   "id": "0251ddcd-9d2d-4293-bfd5-5d06e8e437c7",
   "metadata": {},
   "source": [
    "## Dynamic typing "
   ]
  },
  {
   "cell_type": "markdown",
   "id": "5d277644-322a-48db-b2d2-7d2dfe0fe7aa",
   "metadata": {},
   "source": [
    "Python is a dynamic-typed language. "
   ]
  },
  {
   "cell_type": "code",
   "execution_count": 37,
   "id": "1fe6a871-f76c-4183-b099-8b23591a04ad",
   "metadata": {},
   "outputs": [],
   "source": [
    "a = 12\n",
    "a = \"Var\""
   ]
  },
  {
   "cell_type": "code",
   "execution_count": 38,
   "id": "0a2555cd-9809-4d8e-8f3f-e602a67d11e9",
   "metadata": {},
   "outputs": [
    {
     "name": "stdout",
     "output_type": "stream",
     "text": [
      "<class 'str'>\n"
     ]
    }
   ],
   "source": [
    "print(type(a))"
   ]
  },
  {
   "cell_type": "markdown",
   "id": "1b8de7a7-7bf9-479a-a71f-cad6b8e2552e",
   "metadata": {},
   "source": [
    "### Concatenation "
   ]
  },
  {
   "cell_type": "code",
   "execution_count": 40,
   "id": "73f43b85-3cb0-4b2e-8b11-49160855b023",
   "metadata": {},
   "outputs": [
    {
     "data": {
      "text/plain": [
       "'11'"
      ]
     },
     "execution_count": 40,
     "metadata": {},
     "output_type": "execute_result"
    }
   ],
   "source": [
    "\"1\"+\"1\""
   ]
  },
  {
   "cell_type": "code",
   "execution_count": 41,
   "id": "c3bda4ef-bff6-4010-a449-dc62b4b1ca01",
   "metadata": {},
   "outputs": [
    {
     "data": {
      "text/plain": [
       "2"
      ]
     },
     "execution_count": 41,
     "metadata": {},
     "output_type": "execute_result"
    }
   ],
   "source": [
    "int(\"1\")+int(\"1\")"
   ]
  },
  {
   "cell_type": "code",
   "execution_count": 42,
   "id": "098e8325-2f4b-4276-8c39-8fdf61fce415",
   "metadata": {},
   "outputs": [
    {
     "ename": "TypeError",
     "evalue": "unsupported operand type(s) for +: 'int' and 'str'",
     "output_type": "error",
     "traceback": [
      "\u001b[0;31m---------------------------------------------------------------------------\u001b[0m",
      "\u001b[0;31mTypeError\u001b[0m                                 Traceback (most recent call last)",
      "Cell \u001b[0;32mIn[42], line 3\u001b[0m\n\u001b[1;32m      1\u001b[0m \u001b[38;5;66;03m## wrong way\u001b[39;00m\n\u001b[0;32m----> 3\u001b[0m \u001b[38;5;28;43mint\u001b[39;49m\u001b[43m(\u001b[49m\u001b[38;5;124;43m\"\u001b[39;49m\u001b[38;5;124;43m1\u001b[39;49m\u001b[38;5;124;43m\"\u001b[39;49m\u001b[43m)\u001b[49m\u001b[38;5;241;43m+\u001b[39;49m\u001b[38;5;124;43m\"\u001b[39;49m\u001b[38;5;124;43m1\u001b[39;49m\u001b[38;5;124;43m\"\u001b[39;49m\n",
      "\u001b[0;31mTypeError\u001b[0m: unsupported operand type(s) for +: 'int' and 'str'"
     ]
    }
   ],
   "source": [
    "## wrong way\n",
    "\n",
    "int(\"1\")+\"1\""
   ]
  },
  {
   "cell_type": "code",
   "execution_count": 44,
   "id": "1c89316b-84e5-4f90-a041-c32cf6da6dfe",
   "metadata": {},
   "outputs": [
    {
     "ename": "TypeError",
     "evalue": "can't multiply sequence by non-int of type 'str'",
     "output_type": "error",
     "traceback": [
      "\u001b[0;31m---------------------------------------------------------------------------\u001b[0m",
      "\u001b[0;31mTypeError\u001b[0m                                 Traceback (most recent call last)",
      "Cell \u001b[0;32mIn[44], line 2\u001b[0m\n\u001b[1;32m      1\u001b[0m \u001b[38;5;66;03m## wrong method \u001b[39;00m\n\u001b[0;32m----> 2\u001b[0m \u001b[38;5;124;43m\"\u001b[39;49m\u001b[38;5;124;43m1\u001b[39;49m\u001b[38;5;124;43m\"\u001b[39;49m\u001b[38;5;241;43m*\u001b[39;49m\u001b[38;5;124;43m\"\u001b[39;49m\u001b[38;5;124;43m1\u001b[39;49m\u001b[38;5;124;43m\"\u001b[39;49m\n",
      "\u001b[0;31mTypeError\u001b[0m: can't multiply sequence by non-int of type 'str'"
     ]
    }
   ],
   "source": [
    "## wrong method \n",
    "\"1\"*\"1\""
   ]
  },
  {
   "cell_type": "code",
   "execution_count": 47,
   "id": "75e6e208-9765-4904-b8d2-416e069af940",
   "metadata": {},
   "outputs": [
    {
     "data": {
      "text/plain": [
       "'1111111111111111111111111111111111111111111111111111111111111111111111111111111111111111111111111111'"
      ]
     },
     "execution_count": 47,
     "metadata": {},
     "output_type": "execute_result"
    }
   ],
   "source": [
    "## correct way\n",
    "\n",
    "\"1\"*100"
   ]
  },
  {
   "cell_type": "code",
   "execution_count": null,
   "id": "5912317a-f7d2-49a4-beb3-57140b0b73ae",
   "metadata": {},
   "outputs": [],
   "source": []
  }
 ],
 "metadata": {
  "kernelspec": {
   "display_name": "Python 3 (ipykernel)",
   "language": "python",
   "name": "python3"
  },
  "language_info": {
   "codemirror_mode": {
    "name": "ipython",
    "version": 3
   },
   "file_extension": ".py",
   "mimetype": "text/x-python",
   "name": "python",
   "nbconvert_exporter": "python",
   "pygments_lexer": "ipython3",
   "version": "3.10.8"
  }
 },
 "nbformat": 4,
 "nbformat_minor": 5
}

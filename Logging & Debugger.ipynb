{
 "cells": [
  {
   "cell_type": "markdown",
   "id": "f069fc05-a40f-46df-aa16-d903159d30ca",
   "metadata": {},
   "source": [
    "# Logging & Debugger"
   ]
  },
  {
   "cell_type": "code",
   "execution_count": 1,
   "id": "1cf99aaf-e85c-4164-952a-c806780d040c",
   "metadata": {},
   "outputs": [
    {
     "name": "stdout",
     "output_type": "stream",
     "text": [
      "this is my print statement.\n"
     ]
    }
   ],
   "source": [
    "print(\"this is my print statement.\")"
   ]
  },
  {
   "cell_type": "markdown",
   "id": "c066d188-b958-494f-82ab-f8bcdbeb16a4",
   "metadata": {},
   "source": [
    "In general, in a production-grade code, we are not supposed to use a print() statement because a print() statement will always try to print something inside the console and once we shut down the machine, it will be gone.\n",
    "So we need a place where we will be able to log each and every information."
   ]
  },
  {
   "cell_type": "code",
   "execution_count": 1,
   "id": "25c70e37-6796-4c2b-a5b9-756e673e3b9c",
   "metadata": {},
   "outputs": [],
   "source": [
    "import logging"
   ]
  },
  {
   "cell_type": "code",
   "execution_count": 3,
   "id": "144372e3-653f-400f-a445-49cfc0cf4cc6",
   "metadata": {},
   "outputs": [],
   "source": [
    "logging.basicConfig(filename = \"test.log\", level = logging.INFO)"
   ]
  },
  {
   "cell_type": "code",
   "execution_count": 4,
   "id": "b497ab24-4663-43b6-b014-2946b31c3715",
   "metadata": {},
   "outputs": [],
   "source": [
    "logging.info(\"this is my line of execution.\")"
   ]
  },
  {
   "cell_type": "code",
   "execution_count": 5,
   "id": "60e19c91-fb35-455e-a999-db5db3be8255",
   "metadata": {},
   "outputs": [],
   "source": [
    "logging.error(\"this is my error.\")"
   ]
  },
  {
   "cell_type": "code",
   "execution_count": 6,
   "id": "1e0bb571-d623-4018-84a8-1d7c10a0b895",
   "metadata": {},
   "outputs": [],
   "source": [
    "logging.critical(\"this is my critical.\")"
   ]
  },
  {
   "cell_type": "code",
   "execution_count": 7,
   "id": "65271115-de29-46ab-a51f-d170d4276bbb",
   "metadata": {},
   "outputs": [],
   "source": [
    "logging.warning(\"this is my warning.\")"
   ]
  },
  {
   "cell_type": "code",
   "execution_count": 8,
   "id": "97863b11-ac86-4332-a0fa-11e2383e7a37",
   "metadata": {},
   "outputs": [],
   "source": [
    "logging.debug(\"this is my info related to debug.\")  ## we have set logging level to INFO"
   ]
  },
  {
   "cell_type": "code",
   "execution_count": 9,
   "id": "ac0ecc62-17e7-4cc1-882c-be67d7232ca8",
   "metadata": {},
   "outputs": [
    {
     "ename": "AttributeError",
     "evalue": "module 'logging' has no attribute 'noset'",
     "output_type": "error",
     "traceback": [
      "\u001b[0;31m---------------------------------------------------------------------------\u001b[0m",
      "\u001b[0;31mAttributeError\u001b[0m                            Traceback (most recent call last)",
      "Cell \u001b[0;32mIn[9], line 1\u001b[0m\n\u001b[0;32m----> 1\u001b[0m \u001b[43mlogging\u001b[49m\u001b[38;5;241;43m.\u001b[39;49m\u001b[43mnoset\u001b[49m(\u001b[38;5;124m\"\u001b[39m\u001b[38;5;124mthis is my noset.\u001b[39m\u001b[38;5;124m\"\u001b[39m)\n",
      "\u001b[0;31mAttributeError\u001b[0m: module 'logging' has no attribute 'noset'"
     ]
    }
   ],
   "source": [
    "logging.noset(\"this is my noset.\")"
   ]
  },
  {
   "cell_type": "markdown",
   "id": "21fed9cc-ae41-4ed4-a6fc-91009a34bcb8",
   "metadata": {},
   "source": [
    "NOSET has been deprecated from the latest version of Python. "
   ]
  },
  {
   "cell_type": "markdown",
   "id": "fe82eb06-2318-412c-8dd0-f0e931edef6d",
   "metadata": {},
   "source": [
    "Hierarchy - \n",
    "\n",
    "1. NOSET\n",
    "2. DEBUG\n",
    "3. INFO\n",
    "4. WARNING\n",
    "5. ERROR\n",
    "6. CRITICAL"
   ]
  },
  {
   "cell_type": "code",
   "execution_count": 10,
   "id": "ea7b0ec5-0e9e-4449-a2d9-1b31dde150aa",
   "metadata": {},
   "outputs": [],
   "source": [
    "## stop logging\n",
    "logging.shutdown()  ## will shutdown the particular log"
   ]
  },
  {
   "cell_type": "code",
   "execution_count": 2,
   "id": "2d8e26cf-bb29-45d6-92a5-5600761018bf",
   "metadata": {},
   "outputs": [],
   "source": [
    "## new log\n",
    "logging.basicConfig(filename = \"test1.log\", level = logging.DEBUG, format = '%(asctime)s %(message)s' )"
   ]
  },
  {
   "cell_type": "code",
   "execution_count": 3,
   "id": "451460e3-cb1a-4a67-8371-4f947dc5e861",
   "metadata": {},
   "outputs": [],
   "source": [
    "logging.info(\"this is my info log\")"
   ]
  },
  {
   "cell_type": "code",
   "execution_count": 4,
   "id": "41929f22-7d34-4862-bc5f-a7e7057d0810",
   "metadata": {},
   "outputs": [],
   "source": [
    "logging.debug(\"this is my debug log\")"
   ]
  },
  {
   "cell_type": "code",
   "execution_count": 5,
   "id": "095e9389-99dc-4629-a822-05c3cfb21ee8",
   "metadata": {},
   "outputs": [],
   "source": [
    "logging.warning(\"this is my warning\")"
   ]
  },
  {
   "cell_type": "code",
   "execution_count": 6,
   "id": "3e3feb38-bf06-4508-917c-b98e18943cbe",
   "metadata": {},
   "outputs": [],
   "source": [
    "logging.shutdown()"
   ]
  },
  {
   "cell_type": "code",
   "execution_count": 2,
   "id": "7512d299-f0f1-475a-9b68-a13f501d2635",
   "metadata": {},
   "outputs": [],
   "source": [
    "logging.basicConfig(filename = \"test3.log\", level = logging.DEBUG, format = '%(asctime)s %(name)s %(levelname)s %(message)s')"
   ]
  },
  {
   "cell_type": "code",
   "execution_count": 3,
   "id": "3c27ea33-6ffd-4ed8-b72c-c7bb00cd1234",
   "metadata": {},
   "outputs": [],
   "source": [
    "logging.info(\"this is my info log\")"
   ]
  },
  {
   "cell_type": "code",
   "execution_count": 4,
   "id": "b7e581ee-b89c-45f1-9455-2cd32c988f38",
   "metadata": {},
   "outputs": [],
   "source": [
    "l = [1,2,3,4,[4,5,6],\"sudh\", \"kumar\"]"
   ]
  },
  {
   "cell_type": "code",
   "execution_count": 10,
   "id": "50410a28-2ead-4ff1-bc91-9d35d7c8fbab",
   "metadata": {},
   "outputs": [],
   "source": [
    "l1_int = []\n",
    "l2_str = []\n",
    "for i in l:\n",
    "    logging.info(\"this is the start of my first for loop {}\".format(l))\n",
    "    logging.info(\"this is the value of i I am logging {}\".format(i))\n",
    "    if type(i)==list:\n",
    "        for j in i:\n",
    "            logging.info(\"logging my j {j} and i is {i}\".format(i = i,j = j))\n",
    "            if type(j)==int:\n",
    "                l1_int.append(j)\n",
    "    elif type(i)==int:\n",
    "        l1_int.append(i)\n",
    "    else:\n",
    "        if type(i)==str:\n",
    "            l2_str.append(i)\n",
    "            \n",
    "logging.info(\"this is my final result with all int {l1}, with all strings {l2}\".format(l1 = l1_int,l2 = l2_str))"
   ]
  },
  {
   "cell_type": "code",
   "execution_count": 6,
   "id": "70406a29-c961-45ec-9501-67bf0729719a",
   "metadata": {},
   "outputs": [
    {
     "data": {
      "text/plain": [
       "[1, 2, 3, 4, 4, 5, 6]"
      ]
     },
     "execution_count": 6,
     "metadata": {},
     "output_type": "execute_result"
    }
   ],
   "source": [
    "l1_int"
   ]
  },
  {
   "cell_type": "code",
   "execution_count": 7,
   "id": "9bd652ae-505c-4c7d-8a54-7ea110bd1962",
   "metadata": {},
   "outputs": [
    {
     "data": {
      "text/plain": [
       "['sudh', 'kumar']"
      ]
     },
     "execution_count": 7,
     "metadata": {},
     "output_type": "execute_result"
    }
   ],
   "source": [
    "l2_str"
   ]
  },
  {
   "cell_type": "code",
   "execution_count": null,
   "id": "d06bd709-b9c9-4912-8f98-28323796e805",
   "metadata": {},
   "outputs": [],
   "source": []
  }
 ],
 "metadata": {
  "kernelspec": {
   "display_name": "Python 3 (ipykernel)",
   "language": "python",
   "name": "python3"
  },
  "language_info": {
   "codemirror_mode": {
    "name": "ipython",
    "version": 3
   },
   "file_extension": ".py",
   "mimetype": "text/x-python",
   "name": "python",
   "nbconvert_exporter": "python",
   "pygments_lexer": "ipython3",
   "version": "3.10.8"
  }
 },
 "nbformat": 4,
 "nbformat_minor": 5
}

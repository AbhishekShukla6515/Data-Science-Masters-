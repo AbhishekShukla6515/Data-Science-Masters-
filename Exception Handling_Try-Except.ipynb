{
 "cells": [
  {
   "cell_type": "markdown",
   "id": "35348fb9-a4ba-4e1f-8e1e-f8a088f0dccf",
   "metadata": {},
   "source": [
    "# Exception Handling with Try-Except"
   ]
  },
  {
   "cell_type": "code",
   "execution_count": 58,
   "id": "09537f78-3967-47e2-942d-1277e800494e",
   "metadata": {},
   "outputs": [],
   "source": [
    "a = 10"
   ]
  },
  {
   "cell_type": "code",
   "execution_count": 60,
   "id": "0f79adb7-881a-4c4c-978b-14dbb4bad32f",
   "metadata": {},
   "outputs": [
    {
     "ename": "ZeroDivisionError",
     "evalue": "division by zero",
     "output_type": "error",
     "traceback": [
      "\u001b[0;31m---------------------------------------------------------------------------\u001b[0m",
      "\u001b[0;31mZeroDivisionError\u001b[0m                         Traceback (most recent call last)",
      "Cell \u001b[0;32mIn[60], line 1\u001b[0m\n\u001b[0;32m----> 1\u001b[0m \u001b[43ma\u001b[49m\u001b[38;5;241;43m/\u001b[39;49m\u001b[38;5;241;43m0\u001b[39;49m  \u001b[38;5;66;03m## will raise error\u001b[39;00m\n",
      "\u001b[0;31mZeroDivisionError\u001b[0m: division by zero"
     ]
    }
   ],
   "source": [
    "a/0  ## will raise error"
   ]
  },
  {
   "cell_type": "code",
   "execution_count": 62,
   "id": "665150ab-dd41-4c28-8875-bb773927eda8",
   "metadata": {},
   "outputs": [
    {
     "ename": "FileNotFoundError",
     "evalue": "[Errno 2] No such file or directory: 'test.txt'",
     "output_type": "error",
     "traceback": [
      "\u001b[0;31m---------------------------------------------------------------------------\u001b[0m",
      "\u001b[0;31mFileNotFoundError\u001b[0m                         Traceback (most recent call last)",
      "Cell \u001b[0;32mIn[62], line 1\u001b[0m\n\u001b[0;32m----> 1\u001b[0m f \u001b[38;5;241m=\u001b[39m \u001b[38;5;28;43mopen\u001b[39;49m\u001b[43m(\u001b[49m\u001b[38;5;124;43m\"\u001b[39;49m\u001b[38;5;124;43mtest.txt\u001b[39;49m\u001b[38;5;124;43m\"\u001b[39;49m\u001b[43m,\u001b[49m\u001b[38;5;124;43m\"\u001b[39;49m\u001b[38;5;124;43mr\u001b[39;49m\u001b[38;5;124;43m\"\u001b[39;49m\u001b[43m)\u001b[49m  \u001b[38;5;66;03m## will give error\u001b[39;00m\n\u001b[1;32m      2\u001b[0m \u001b[38;5;28mprint\u001b[39m(\u001b[38;5;124m\"\u001b[39m\u001b[38;5;124mThis is my print\u001b[39m\u001b[38;5;124m\"\u001b[39m)\n",
      "File \u001b[0;32m/opt/conda/lib/python3.10/site-packages/IPython/core/interactiveshell.py:282\u001b[0m, in \u001b[0;36m_modified_open\u001b[0;34m(file, *args, **kwargs)\u001b[0m\n\u001b[1;32m    275\u001b[0m \u001b[38;5;28;01mif\u001b[39;00m file \u001b[38;5;129;01min\u001b[39;00m {\u001b[38;5;241m0\u001b[39m, \u001b[38;5;241m1\u001b[39m, \u001b[38;5;241m2\u001b[39m}:\n\u001b[1;32m    276\u001b[0m     \u001b[38;5;28;01mraise\u001b[39;00m \u001b[38;5;167;01mValueError\u001b[39;00m(\n\u001b[1;32m    277\u001b[0m         \u001b[38;5;124mf\u001b[39m\u001b[38;5;124m\"\u001b[39m\u001b[38;5;124mIPython won\u001b[39m\u001b[38;5;124m'\u001b[39m\u001b[38;5;124mt let you open fd=\u001b[39m\u001b[38;5;132;01m{\u001b[39;00mfile\u001b[38;5;132;01m}\u001b[39;00m\u001b[38;5;124m by default \u001b[39m\u001b[38;5;124m\"\u001b[39m\n\u001b[1;32m    278\u001b[0m         \u001b[38;5;124m\"\u001b[39m\u001b[38;5;124mas it is likely to crash IPython. If you know what you are doing, \u001b[39m\u001b[38;5;124m\"\u001b[39m\n\u001b[1;32m    279\u001b[0m         \u001b[38;5;124m\"\u001b[39m\u001b[38;5;124myou can use builtins\u001b[39m\u001b[38;5;124m'\u001b[39m\u001b[38;5;124m open.\u001b[39m\u001b[38;5;124m\"\u001b[39m\n\u001b[1;32m    280\u001b[0m     )\n\u001b[0;32m--> 282\u001b[0m \u001b[38;5;28;01mreturn\u001b[39;00m \u001b[43mio_open\u001b[49m\u001b[43m(\u001b[49m\u001b[43mfile\u001b[49m\u001b[43m,\u001b[49m\u001b[43m \u001b[49m\u001b[38;5;241;43m*\u001b[39;49m\u001b[43margs\u001b[49m\u001b[43m,\u001b[49m\u001b[43m \u001b[49m\u001b[38;5;241;43m*\u001b[39;49m\u001b[38;5;241;43m*\u001b[39;49m\u001b[43mkwargs\u001b[49m\u001b[43m)\u001b[49m\n",
      "\u001b[0;31mFileNotFoundError\u001b[0m: [Errno 2] No such file or directory: 'test.txt'"
     ]
    }
   ],
   "source": [
    "f = open(\"test.txt\",\"r\")  ## will give error\n",
    "print(\"This is my print\")"
   ]
  },
  {
   "cell_type": "markdown",
   "id": "f895adad-95ea-458a-bf3a-bfd1b1d55f6f",
   "metadata": {},
   "source": [
    "Exception handling is a convention which we need to follow in any circumstance.\n",
    "\n"
   ]
  },
  {
   "cell_type": "markdown",
   "id": "a9d3ea27-11c2-4041-a53e-88adc96e239d",
   "metadata": {},
   "source": [
    "Logging and exception handling must be done even if not asked."
   ]
  },
  {
   "cell_type": "code",
   "execution_count": 63,
   "id": "d61ea0b5-cf3e-4a20-9619-b7a28b5bc2f8",
   "metadata": {},
   "outputs": [
    {
     "ename": "SyntaxError",
     "evalue": "incomplete input (3713282381.py, line 2)",
     "output_type": "error",
     "traceback": [
      "\u001b[0;36m  Cell \u001b[0;32mIn[63], line 2\u001b[0;36m\u001b[0m\n\u001b[0;31m    f = open(\"test.txt\",\"r\")\u001b[0m\n\u001b[0m                            ^\u001b[0m\n\u001b[0;31mSyntaxError\u001b[0m\u001b[0;31m:\u001b[0m incomplete input\n"
     ]
    }
   ],
   "source": [
    "try:\n",
    "    f = open(\"test.txt\",\"r\")"
   ]
  },
  {
   "cell_type": "markdown",
   "id": "a7a784a9-aaa0-4fad-9c1e-334e29702f64",
   "metadata": {},
   "source": [
    "try needs someone to handle"
   ]
  },
  {
   "cell_type": "code",
   "execution_count": 65,
   "id": "3fc18f68-8567-4075-a602-373aaff6c2fd",
   "metadata": {},
   "outputs": [
    {
     "name": "stdout",
     "output_type": "stream",
     "text": [
      "There is some issue with my code [Errno 2] No such file or directory: 'test.txt'\n",
      "This is my print.\n"
     ]
    },
    {
     "data": {
      "text/plain": [
       "10"
      ]
     },
     "execution_count": 65,
     "metadata": {},
     "output_type": "execute_result"
    }
   ],
   "source": [
    "try:\n",
    "    f = open(\"test.txt\",\"r\")\n",
    "except Exception as e:\n",
    "    print(\"There is some issue with my code\",e)\n",
    "    \n",
    "print(\"This is my print.\")\n",
    "a = 10\n",
    "a"
   ]
  },
  {
   "cell_type": "markdown",
   "id": "e23c3fb2-8e90-4084-adc2-b31a373c0be5",
   "metadata": {},
   "source": [
    "So here it is not stopping my next lines of code from execution. It is allowing the next lines of code to execute, which was not possible in the previous case."
   ]
  },
  {
   "cell_type": "code",
   "execution_count": 68,
   "id": "0d7c64e9-6120-4ee3-a0ff-ea9706cfcce1",
   "metadata": {},
   "outputs": [
    {
     "name": "stdout",
     "output_type": "stream",
     "text": [
      "This block will execute once try block will execute itself without an exception.\n"
     ]
    }
   ],
   "source": [
    "try:\n",
    "    f = open(\"test.txt\",\"w\")\n",
    "    f.write(\"This is my message\")\n",
    "except Exception as e:\n",
    "    print(\"There is some issue with my code\",e)\n",
    "else:\n",
    "    f.close()\n",
    "    print(\"This block will execute once try block will execute itself without an exception.\")"
   ]
  },
  {
   "cell_type": "markdown",
   "id": "3b41c16c-9299-493e-b463-3d13a4fd1ac8",
   "metadata": {},
   "source": [
    "else block will execute only when the try block is successfully executed without an exception."
   ]
  },
  {
   "cell_type": "code",
   "execution_count": 69,
   "id": "ee8205bf-cff8-452d-ac88-39309190908d",
   "metadata": {},
   "outputs": [
    {
     "name": "stdout",
     "output_type": "stream",
     "text": [
      "There is some issue with my code [Errno 2] No such file or directory: 'test1.txt'\n"
     ]
    }
   ],
   "source": [
    "try:\n",
    "    f = open(\"test1.txt\",\"r\")\n",
    "    f.write(\"This is my message\")\n",
    "except Exception as e:\n",
    "    print(\"There is some issue with my code\",e)\n",
    "else:\n",
    "    f.close()\n",
    "    print(\"This block will execute once try block will execute itself without an exception.\")"
   ]
  },
  {
   "cell_type": "code",
   "execution_count": 70,
   "id": "9e8451c0-ee19-45c1-b670-442f6f9bfd0a",
   "metadata": {},
   "outputs": [
    {
     "name": "stdout",
     "output_type": "stream",
     "text": [
      "This will always execute.\n"
     ]
    },
    {
     "ename": "FileNotFoundError",
     "evalue": "[Errno 2] No such file or directory: 'test1.txt'",
     "output_type": "error",
     "traceback": [
      "\u001b[0;31m---------------------------------------------------------------------------\u001b[0m",
      "\u001b[0;31mFileNotFoundError\u001b[0m                         Traceback (most recent call last)",
      "Cell \u001b[0;32mIn[70], line 2\u001b[0m\n\u001b[1;32m      1\u001b[0m \u001b[38;5;28;01mtry\u001b[39;00m:\n\u001b[0;32m----> 2\u001b[0m     f \u001b[38;5;241m=\u001b[39m \u001b[38;5;28;43mopen\u001b[39;49m\u001b[43m(\u001b[49m\u001b[38;5;124;43m\"\u001b[39;49m\u001b[38;5;124;43mtest1.txt\u001b[39;49m\u001b[38;5;124;43m\"\u001b[39;49m\u001b[43m,\u001b[49m\u001b[38;5;124;43m\"\u001b[39;49m\u001b[38;5;124;43mr\u001b[39;49m\u001b[38;5;124;43m\"\u001b[39;49m\u001b[43m)\u001b[49m\n\u001b[1;32m      3\u001b[0m     f\u001b[38;5;241m.\u001b[39mwrite(\u001b[38;5;124m\"\u001b[39m\u001b[38;5;124mThis is my msg.\u001b[39m\u001b[38;5;124m\"\u001b[39m)\n\u001b[1;32m      4\u001b[0m \u001b[38;5;28;01mfinally\u001b[39;00m:\n",
      "File \u001b[0;32m/opt/conda/lib/python3.10/site-packages/IPython/core/interactiveshell.py:282\u001b[0m, in \u001b[0;36m_modified_open\u001b[0;34m(file, *args, **kwargs)\u001b[0m\n\u001b[1;32m    275\u001b[0m \u001b[38;5;28;01mif\u001b[39;00m file \u001b[38;5;129;01min\u001b[39;00m {\u001b[38;5;241m0\u001b[39m, \u001b[38;5;241m1\u001b[39m, \u001b[38;5;241m2\u001b[39m}:\n\u001b[1;32m    276\u001b[0m     \u001b[38;5;28;01mraise\u001b[39;00m \u001b[38;5;167;01mValueError\u001b[39;00m(\n\u001b[1;32m    277\u001b[0m         \u001b[38;5;124mf\u001b[39m\u001b[38;5;124m\"\u001b[39m\u001b[38;5;124mIPython won\u001b[39m\u001b[38;5;124m'\u001b[39m\u001b[38;5;124mt let you open fd=\u001b[39m\u001b[38;5;132;01m{\u001b[39;00mfile\u001b[38;5;132;01m}\u001b[39;00m\u001b[38;5;124m by default \u001b[39m\u001b[38;5;124m\"\u001b[39m\n\u001b[1;32m    278\u001b[0m         \u001b[38;5;124m\"\u001b[39m\u001b[38;5;124mas it is likely to crash IPython. If you know what you are doing, \u001b[39m\u001b[38;5;124m\"\u001b[39m\n\u001b[1;32m    279\u001b[0m         \u001b[38;5;124m\"\u001b[39m\u001b[38;5;124myou can use builtins\u001b[39m\u001b[38;5;124m'\u001b[39m\u001b[38;5;124m open.\u001b[39m\u001b[38;5;124m\"\u001b[39m\n\u001b[1;32m    280\u001b[0m     )\n\u001b[0;32m--> 282\u001b[0m \u001b[38;5;28;01mreturn\u001b[39;00m \u001b[43mio_open\u001b[49m\u001b[43m(\u001b[49m\u001b[43mfile\u001b[49m\u001b[43m,\u001b[49m\u001b[43m \u001b[49m\u001b[38;5;241;43m*\u001b[39;49m\u001b[43margs\u001b[49m\u001b[43m,\u001b[49m\u001b[43m \u001b[49m\u001b[38;5;241;43m*\u001b[39;49m\u001b[38;5;241;43m*\u001b[39;49m\u001b[43mkwargs\u001b[49m\u001b[43m)\u001b[49m\n",
      "\u001b[0;31mFileNotFoundError\u001b[0m: [Errno 2] No such file or directory: 'test1.txt'"
     ]
    }
   ],
   "source": [
    "try:\n",
    "    f = open(\"test1.txt\",\"r\")\n",
    "    f.write(\"This is my msg.\")\n",
    "finally:\n",
    "    print(\"This will always execute.\")"
   ]
  },
  {
   "cell_type": "markdown",
   "id": "8d687101-5dbe-488b-8f0d-8f1ec508e9cf",
   "metadata": {},
   "source": [
    "finally block will try to execute itself all the time, doesn't matter what has happened to our code."
   ]
  },
  {
   "cell_type": "markdown",
   "id": "9f2aa85d-ac71-40ee-aceb-3aeab42e9f7a",
   "metadata": {},
   "source": [
    "We can put that piece of code inside the finally block, which we would like to execute at any cost."
   ]
  },
  {
   "cell_type": "code",
   "execution_count": 71,
   "id": "75dc24e6-6364-4812-b0db-8c588f40c346",
   "metadata": {},
   "outputs": [
    {
     "name": "stdout",
     "output_type": "stream",
     "text": [
      "There is some issue with my code [Errno 2] No such file or directory: 'test1.txt'\n",
      "I will execute always.\n"
     ]
    }
   ],
   "source": [
    "try:\n",
    "    f = open(\"test1.txt\",\"r\")\n",
    "    f.write(\"This is my message\")\n",
    "except Exception as e:\n",
    "    print(\"There is some issue with my code\",e)\n",
    "else:\n",
    "    f.close()\n",
    "    print(\"This block will execute once try block will execute itself without an exception.\")\n",
    "    \n",
    "finally:\n",
    "    \n",
    "    print(\"I will execute always.\")"
   ]
  },
  {
   "cell_type": "code",
   "execution_count": 72,
   "id": "eb9fbe33-e28a-46ae-a10e-b6550aca9be8",
   "metadata": {},
   "outputs": [
    {
     "name": "stdout",
     "output_type": "stream",
     "text": [
      "This block will execute once try block will execute itself without an exception.\n",
      "I will execute always.\n"
     ]
    }
   ],
   "source": [
    "try:\n",
    "    f = open(\"test1.txt\",\"w\")\n",
    "    f.write(\"This is my message\")\n",
    "except Exception as e:\n",
    "    print(\"There is some issue with my code\",e)\n",
    "else:\n",
    "    f.close()\n",
    "    print(\"This block will execute once try block will execute itself without an exception.\")\n",
    "    \n",
    "finally:\n",
    "    \n",
    "    print(\"I will execute always.\")"
   ]
  },
  {
   "cell_type": "code",
   "execution_count": null,
   "id": "4da102b0-5786-43af-a79e-10e506aad3e0",
   "metadata": {},
   "outputs": [],
   "source": []
  }
 ],
 "metadata": {
  "kernelspec": {
   "display_name": "Python 3 (ipykernel)",
   "language": "python",
   "name": "python3"
  },
  "language_info": {
   "codemirror_mode": {
    "name": "ipython",
    "version": 3
   },
   "file_extension": ".py",
   "mimetype": "text/x-python",
   "name": "python",
   "nbconvert_exporter": "python",
   "pygments_lexer": "ipython3",
   "version": "3.10.8"
  }
 },
 "nbformat": 4,
 "nbformat_minor": 5
}

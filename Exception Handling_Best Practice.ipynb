{
 "cells": [
  {
   "cell_type": "markdown",
   "id": "a363bbec-e474-4a74-b748-189c4d0d168c",
   "metadata": {},
   "source": [
    "# Best Practice Exception Handling"
   ]
  },
  {
   "cell_type": "markdown",
   "id": "808aefbc-eb1d-4ec0-b60a-bb9c307cf05e",
   "metadata": {},
   "source": [
    "#### always use a specific exception"
   ]
  },
  {
   "cell_type": "code",
   "execution_count": 1,
   "id": "bc03d9ff-a427-4a64-801e-0b7fa466488e",
   "metadata": {},
   "outputs": [
    {
     "name": "stdout",
     "output_type": "stream",
     "text": [
      "division by zero\n"
     ]
    }
   ],
   "source": [
    "try:\n",
    "    10/0\n",
    "except Exception as e:\n",
    "    print(e)"
   ]
  },
  {
   "cell_type": "markdown",
   "id": "fcb54d31-88e9-4fae-8240-be8a7ef84049",
   "metadata": {},
   "source": [
    "We are not supposed to write, at least a production-grade code, in this way. \n",
    "* Always make a specific one, not generic one."
   ]
  },
  {
   "cell_type": "code",
   "execution_count": 2,
   "id": "06dc929e-f61d-4b4e-a098-74709addf49c",
   "metadata": {},
   "outputs": [
    {
     "name": "stdout",
     "output_type": "stream",
     "text": [
      "division by zero\n"
     ]
    }
   ],
   "source": [
    "try:\n",
    "    10/0\n",
    "except ZeroDivisionError as e:\n",
    "    print(e)"
   ]
  },
  {
   "cell_type": "markdown",
   "id": "94547fdc-8dbe-4002-b34f-0e2eb10d04b2",
   "metadata": {},
   "source": [
    "#### always print a valid message"
   ]
  },
  {
   "cell_type": "code",
   "execution_count": 3,
   "id": "13bfc71e-a389-4afb-b42d-0cdd92eba36b",
   "metadata": {},
   "outputs": [
    {
     "name": "stdout",
     "output_type": "stream",
     "text": [
      "This is my zero division error I am handling : division by zero\n"
     ]
    }
   ],
   "source": [
    "try:\n",
    "    10/0\n",
    "except ZeroDivisionError as e:\n",
    "    print(\"This is my zero division error I am handling :\",e)"
   ]
  },
  {
   "cell_type": "markdown",
   "id": "381af796-1600-4f6a-8861-5c2078fce2e1",
   "metadata": {},
   "source": [
    "#### always try to log"
   ]
  },
  {
   "cell_type": "code",
   "execution_count": 4,
   "id": "c3df4704-5367-4095-a994-50b8c3a373ea",
   "metadata": {},
   "outputs": [],
   "source": [
    "import logging\n",
    "logging.basicConfig(filename = \"error.log\", level = logging.ERROR)\n",
    "try:\n",
    "    10/0\n",
    "except ZeroDivisionError as e:\n",
    "    logging.error(\"This is my zero division error I am handling : {}\".format(e))"
   ]
  },
  {
   "cell_type": "markdown",
   "id": "f7b5709e-cea4-4c07-9465-d2b314c216f6",
   "metadata": {},
   "source": [
    "If try to print something in a console, it will be gone after sometime. So we have to persist each and every information inside some permanent storage."
   ]
  },
  {
   "cell_type": "markdown",
   "id": "5d9b22dc-9a75-44bc-b92f-1f3f40539de4",
   "metadata": {},
   "source": [
    "#### always avoid to write a multiple exception handling"
   ]
  },
  {
   "cell_type": "code",
   "execution_count": 5,
   "id": "96575cf8-120b-400b-8d09-adb932367cb8",
   "metadata": {},
   "outputs": [],
   "source": [
    "try:\n",
    "    10/0\n",
    "except FileNotFoundError as e:\n",
    "    logging.error(\"This is my file not found : {}\".format(e))\n",
    "except AttributeError as e:\n",
    "    logging.error(\"This is my attribute error : {}\".format(e))\n",
    "except ZeroDivisionError as e:\n",
    "    logging.error(\"This is my zero division error : {}\".format(e))"
   ]
  },
  {
   "cell_type": "markdown",
   "id": "b4f63afc-6271-4821-b0cc-9b785bd5a18a",
   "metadata": {},
   "source": [
    "We are supposed to write all those errors which are closest to the error we may produce."
   ]
  },
  {
   "cell_type": "markdown",
   "id": "5df007ce-8a97-45b6-bbd7-6aa35254aa6d",
   "metadata": {},
   "source": [
    "#### prepare a proper documentation"
   ]
  },
  {
   "cell_type": "markdown",
   "id": "a7dd5829-ff9b-421e-b5fb-961e980b90f5",
   "metadata": {},
   "source": [
    "* We should avoid creating anything which may give problem to future developer, who is going to check our code or do further modifications.\n",
    "* Proper documentation with a proper, valid and meaningful information about each and every errors is very important.\n",
    "* Proper documentation of the entire code, model, package, file, classes, objects is very much required. "
   ]
  },
  {
   "cell_type": "markdown",
   "id": "8d0d5291-f0d3-404a-9b37-f518dc7dcc9d",
   "metadata": {},
   "source": [
    "#### clean up all the resources"
   ]
  },
  {
   "cell_type": "code",
   "execution_count": 7,
   "id": "ad77bbe2-8af4-430b-b4ef-867e4faa47b3",
   "metadata": {},
   "outputs": [],
   "source": [
    "try:\n",
    "    with open(\"test.txt\",\"w\") as f:\n",
    "        f.write(\"This is message to file.\")\n",
    "except FileNotFoundError as e:\n",
    "    logging.error(\"This is my file not found : {}\".format(e))\n",
    "finally:\n",
    "    f.close()"
   ]
  },
  {
   "cell_type": "markdown",
   "id": "ceaf7687-3151-4df3-8d57-070254e0d543",
   "metadata": {},
   "source": [
    "We have to make sure that we are not over-utilising or under-utilising the resources at any point of time. "
   ]
  },
  {
   "cell_type": "code",
   "execution_count": null,
   "id": "21aba440-8ebd-454b-8c12-94bf16dbf58c",
   "metadata": {},
   "outputs": [],
   "source": []
  }
 ],
 "metadata": {
  "kernelspec": {
   "display_name": "Python 3 (ipykernel)",
   "language": "python",
   "name": "python3"
  },
  "language_info": {
   "codemirror_mode": {
    "name": "ipython",
    "version": 3
   },
   "file_extension": ".py",
   "mimetype": "text/x-python",
   "name": "python",
   "nbconvert_exporter": "python",
   "pygments_lexer": "ipython3",
   "version": "3.10.8"
  }
 },
 "nbformat": 4,
 "nbformat_minor": 5
}

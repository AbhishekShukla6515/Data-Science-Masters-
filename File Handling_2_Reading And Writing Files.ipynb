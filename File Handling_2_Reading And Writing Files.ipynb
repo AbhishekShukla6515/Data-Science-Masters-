{
 "cells": [
  {
   "cell_type": "markdown",
   "id": "fc9f2745-9694-4008-987d-391a3663dd8c",
   "metadata": {},
   "source": [
    "# Reading And Writing Files"
   ]
  },
  {
   "cell_type": "code",
   "execution_count": 2,
   "id": "3f43f863-3237-4c23-a264-ef7b29232bae",
   "metadata": {},
   "outputs": [],
   "source": [
    "data = {\n",
    "    \"name\" : \"sudh\",\n",
    "    \"mail_id\" : \"sudh@gmail.com\",\n",
    "    \"phone_number\" : 91345435,\n",
    "    \"subject\" : [\"data science\", \"big data\", \"data analytics\"]\n",
    "}"
   ]
  },
  {
   "cell_type": "markdown",
   "id": "7b988bcf-b105-4296-a23e-8c13a136183a",
   "metadata": {},
   "source": [
    "#### with JSON file"
   ]
  },
  {
   "cell_type": "code",
   "execution_count": 3,
   "id": "c73e01d0-1c0b-428b-a7dc-22826caa839d",
   "metadata": {},
   "outputs": [],
   "source": [
    "import json"
   ]
  },
  {
   "cell_type": "code",
   "execution_count": 4,
   "id": "0bc9c469-da38-46a8-ae7a-4476aa027c22",
   "metadata": {},
   "outputs": [],
   "source": [
    "with open(\"test1.json\",\"w\") as f:\n",
    "    json.dump(data,f)"
   ]
  },
  {
   "cell_type": "code",
   "execution_count": 5,
   "id": "3baf108a-e719-4469-998c-b862c9cad64b",
   "metadata": {},
   "outputs": [],
   "source": [
    "with open(\"test1.json\",\"r\") as f:\n",
    "    data1 = json.load(f)"
   ]
  },
  {
   "cell_type": "code",
   "execution_count": 6,
   "id": "1c89be71-ac59-4314-8c18-74ec02c420f8",
   "metadata": {},
   "outputs": [
    {
     "data": {
      "text/plain": [
       "{'name': 'sudh',\n",
       " 'mail_id': 'sudh@gmail.com',\n",
       " 'phone_number': 91345435,\n",
       " 'subject': ['data science', 'big data', 'data analytics']}"
      ]
     },
     "execution_count": 6,
     "metadata": {},
     "output_type": "execute_result"
    }
   ],
   "source": [
    "data1"
   ]
  },
  {
   "cell_type": "code",
   "execution_count": 8,
   "id": "d162d9c1-0e65-448a-bd68-1c9e7c9ffcb1",
   "metadata": {},
   "outputs": [
    {
     "data": {
      "text/plain": [
       "'big data'"
      ]
     },
     "execution_count": 8,
     "metadata": {},
     "output_type": "execute_result"
    }
   ],
   "source": [
    "data1[\"subject\"][1]"
   ]
  },
  {
   "cell_type": "code",
   "execution_count": 9,
   "id": "48c1ef1b-f55b-4c40-a636-a785cf949047",
   "metadata": {},
   "outputs": [],
   "source": [
    "data = [[\"name\", \"email_id\", \"number\"],\n",
    "       [\"sudh\", \"sudh@gmail.com\", 92342342],\n",
    "       [\"krish\", \"krish@gmail.com\", 9324324242]\n",
    "       ]"
   ]
  },
  {
   "cell_type": "markdown",
   "id": "1a662e8d-eb78-4b94-ab7d-4068a08e90b9",
   "metadata": {},
   "source": [
    "#### with csv file"
   ]
  },
  {
   "cell_type": "code",
   "execution_count": 10,
   "id": "eb098c71-24df-4224-8920-2382f0d5753b",
   "metadata": {},
   "outputs": [],
   "source": [
    "import csv"
   ]
  },
  {
   "cell_type": "code",
   "execution_count": 11,
   "id": "6cb54163-0f4b-4350-be3d-9e7e93eedba0",
   "metadata": {},
   "outputs": [],
   "source": [
    "with open(\"test3.csv\",\"w\") as f:\n",
    "    w = csv.writer(f)\n",
    "    for i in data:\n",
    "        w.writerow(i)"
   ]
  },
  {
   "cell_type": "code",
   "execution_count": 12,
   "id": "9e8cb475-c499-4076-bf9a-d17913429d34",
   "metadata": {},
   "outputs": [
    {
     "name": "stdout",
     "output_type": "stream",
     "text": [
      "['name', 'email_id', 'number']\n",
      "['sudh', 'sudh@gmail.com', '92342342']\n",
      "['krish', 'krish@gmail.com', '9324324242']\n"
     ]
    }
   ],
   "source": [
    "with open(\"test3.csv\",\"r\") as f:\n",
    "    read = csv.reader(f)\n",
    "    for i in read:\n",
    "        print(i)"
   ]
  },
  {
   "cell_type": "markdown",
   "id": "aa89362d-735e-4544-ac6a-148a019f60d2",
   "metadata": {},
   "source": [
    "#### binary file"
   ]
  },
  {
   "cell_type": "code",
   "execution_count": 13,
   "id": "dff50155-4131-4a6b-9944-6781f1f56099",
   "metadata": {},
   "outputs": [],
   "source": [
    "with open(\"test4.bin\",\"wb\") as f:\n",
    "    f.write(b\"\\x01\\x02\\x03\")"
   ]
  },
  {
   "cell_type": "code",
   "execution_count": 14,
   "id": "53c11ece-e293-434d-8d78-049a2ff56c04",
   "metadata": {},
   "outputs": [
    {
     "name": "stdout",
     "output_type": "stream",
     "text": [
      "b'\\x01\\x02\\x03'\n"
     ]
    }
   ],
   "source": [
    "with open(\"test4.bin\",\"rb\") as f:\n",
    "    print(f.read())"
   ]
  },
  {
   "cell_type": "code",
   "execution_count": null,
   "id": "af88e53c-3f48-4566-bd06-c45d53120804",
   "metadata": {},
   "outputs": [],
   "source": []
  }
 ],
 "metadata": {
  "kernelspec": {
   "display_name": "Python 3 (ipykernel)",
   "language": "python",
   "name": "python3"
  },
  "language_info": {
   "codemirror_mode": {
    "name": "ipython",
    "version": 3
   },
   "file_extension": ".py",
   "mimetype": "text/x-python",
   "name": "python",
   "nbconvert_exporter": "python",
   "pygments_lexer": "ipython3",
   "version": "3.10.8"
  }
 },
 "nbformat": 4,
 "nbformat_minor": 5
}

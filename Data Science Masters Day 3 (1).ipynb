{
 "cells": [
  {
   "cell_type": "markdown",
   "id": "a3536d59-39ba-4071-a7b2-ce7a23dd573a",
   "metadata": {},
   "source": [
    "# DAY 3"
   ]
  },
  {
   "cell_type": "markdown",
   "id": "44f730bd-fe3d-44f2-960c-fecc229d3175",
   "metadata": {},
   "source": [
    "### Logical Operators \n",
    "1. and\n",
    "2. or\n",
    "3. not"
   ]
  },
  {
   "cell_type": "code",
   "execution_count": 1,
   "id": "e6692302-b620-4485-943c-837d3bae275e",
   "metadata": {},
   "outputs": [],
   "source": [
    "START = True\n",
    "STOP = False"
   ]
  },
  {
   "cell_type": "code",
   "execution_count": 2,
   "id": "9bded988-7306-4cde-b988-6afde8f94fde",
   "metadata": {},
   "outputs": [
    {
     "name": "stdout",
     "output_type": "stream",
     "text": [
      "Defined value of START = True\n",
      "Defined value of STOP = False\n"
     ]
    }
   ],
   "source": [
    "# print values as it is\n",
    "\n",
    "print(f\"Defined value of START = {START}\")\n",
    "print(f\"Defined value of STOP = {STOP}\")"
   ]
  },
  {
   "cell_type": "code",
   "execution_count": 3,
   "id": "88b489fc-0364-491d-afa7-a15fd34e98aa",
   "metadata": {},
   "outputs": [
    {
     "name": "stdout",
     "output_type": "stream",
     "text": [
      "Defined value of START = True\n",
      "Value of STOP by negating START = False\n"
     ]
    }
   ],
   "source": [
    "# it can also be written as - \n",
    "\n",
    "print(f\"Defined value of START = {START}\")\n",
    "print(f\"Value of STOP by negating START = {not START}\")"
   ]
  },
  {
   "cell_type": "code",
   "execution_count": 4,
   "id": "6e82f04e-d46e-45fe-9d71-cf94b62f4055",
   "metadata": {},
   "outputs": [
    {
     "name": "stdout",
     "output_type": "stream",
     "text": [
      "Value of START by negating STOP = True\n",
      "Defined value of STOP = False\n"
     ]
    }
   ],
   "source": [
    "# alternatively\n",
    "\n",
    "print(f\"Value of START by negating STOP = {not STOP}\")\n",
    "print(f\"Defined value of STOP = {STOP}\")"
   ]
  },
  {
   "cell_type": "code",
   "execution_count": 6,
   "id": "fa23f8a3-2f02-423e-a322-2d94c0c24c8e",
   "metadata": {},
   "outputs": [
    {
     "data": {
      "text/plain": [
       "False"
      ]
     },
     "execution_count": 6,
     "metadata": {},
     "output_type": "execute_result"
    }
   ],
   "source": [
    "bool(0)"
   ]
  },
  {
   "cell_type": "code",
   "execution_count": 7,
   "id": "d4c158f6-1e0a-48e8-b700-b0981cd574a4",
   "metadata": {},
   "outputs": [
    {
     "data": {
      "text/plain": [
       "True"
      ]
     },
     "execution_count": 7,
     "metadata": {},
     "output_type": "execute_result"
    }
   ],
   "source": [
    "not bool(0)"
   ]
  },
  {
   "cell_type": "code",
   "execution_count": 8,
   "id": "8b642b02-3f9f-434b-aca1-754612425c44",
   "metadata": {},
   "outputs": [
    {
     "data": {
      "text/plain": [
       "True"
      ]
     },
     "execution_count": 8,
     "metadata": {},
     "output_type": "execute_result"
    }
   ],
   "source": [
    "not int(bool(0))"
   ]
  },
  {
   "cell_type": "code",
   "execution_count": 9,
   "id": "4b815219-f074-43e3-80fe-2791e06f41ea",
   "metadata": {},
   "outputs": [
    {
     "data": {
      "text/plain": [
       "False"
      ]
     },
     "execution_count": 9,
     "metadata": {},
     "output_type": "execute_result"
    }
   ],
   "source": [
    "not 1"
   ]
  },
  {
   "cell_type": "code",
   "execution_count": 10,
   "id": "14a68155-3dc3-4421-bb20-e59ff69dc3d1",
   "metadata": {},
   "outputs": [
    {
     "data": {
      "text/plain": [
       "True"
      ]
     },
     "execution_count": 10,
     "metadata": {},
     "output_type": "execute_result"
    }
   ],
   "source": [
    "not 0"
   ]
  },
  {
   "cell_type": "code",
   "execution_count": 12,
   "id": "c3eef3fb-22c8-4697-a0a4-49e81fab06f8",
   "metadata": {},
   "outputs": [
    {
     "name": "stdout",
     "output_type": "stream",
     "text": [
      "Defined value of START = 1\n",
      "Defined value of STOP = 0\n",
      "\n",
      "Defined value of START = 1\n",
      "Value of STOP by negating START = 0\n",
      "\n",
      "Value of START by negating STOP = 1\n",
      "Defined value of STOP = 0\n"
     ]
    }
   ],
   "source": [
    "START = 1\n",
    "STOP = 0\n",
    "\n",
    "# print values as it is\n",
    "print(f\"Defined value of START = {START}\")\n",
    "print(f\"Defined value of STOP = {STOP}\\n\")\n",
    "\n",
    "# it can also be written as - \n",
    "print(f\"Defined value of START = {START}\")\n",
    "print(f\"Value of STOP by negating START = {int(not START)}\\n\")\n",
    "\n",
    "# alternatively - \n",
    "print(f\"Value of START by negating STOP = {int(not STOP)}\")\n",
    "print(f\"Defined value of STOP = {STOP}\")"
   ]
  },
  {
   "cell_type": "code",
   "execution_count": 13,
   "id": "d7ae5b5f-691f-47c9-b622-b73db3fce504",
   "metadata": {},
   "outputs": [
    {
     "name": "stdout",
     "output_type": "stream",
     "text": [
      "boolean value of number 0 is False\n",
      "boolean value of number 1 is True\n",
      "negation of 0 is True and negation of 1 is False\n",
      "\n",
      "-------------------------\n",
      "\n"
     ]
    }
   ],
   "source": [
    "zero = 0\n",
    "one = 1\n",
    "\n",
    "print(f\"boolean value of number {zero} is {bool(zero)}\")\n",
    "print(f\"boolean value of number {one} is {bool(one)}\")\n",
    "print(f\"negation of {zero} is {not zero} and negation of {one} is {not one}\")\n",
    "print(\"\\n-------------------------\\n\")"
   ]
  },
  {
   "cell_type": "code",
   "execution_count": 14,
   "id": "059c3d29-23ef-42bc-b1bf-2cbe451c4e47",
   "metadata": {},
   "outputs": [
    {
     "name": "stdout",
     "output_type": "stream",
     "text": [
      "boolean value of number -5 is True\n",
      "boolean value of number 5 is True\n",
      "negation of -5 is False and negation of 5 is False\n",
      "\n",
      "--------------------------------------\n",
      "\n"
     ]
    }
   ],
   "source": [
    "some_negative_no = -5\n",
    "some_positive_no = 5\n",
    "\n",
    "print(f\"boolean value of number {some_negative_no} is {bool(some_negative_no)}\")\n",
    "print(f\"boolean value of number {some_positive_no} is {bool(some_positive_no)}\")\n",
    "print(f\"negation of {some_negative_no} is {not some_negative_no} and negation of {some_positive_no} is {not some_positive_no}\")\n",
    "print(\"\\n--------------------------------------\\n\")"
   ]
  },
  {
   "cell_type": "markdown",
   "id": "f5e40a60-8b89-4821-be06-a18938e6da9b",
   "metadata": {},
   "source": [
    "#### Logical and "
   ]
  },
  {
   "cell_type": "code",
   "execution_count": 15,
   "id": "094c55f9-34fd-4e3b-b497-40256aa0309a",
   "metadata": {},
   "outputs": [
    {
     "name": "stdout",
     "output_type": "stream",
     "text": [
      "Dish contains VEGETABLES : True\n",
      "Dish contains SALT : False\n",
      "Hence dish prepared was good : False\n"
     ]
    }
   ],
   "source": [
    "VEGETABLES = True\n",
    "SALT = False\n",
    "DISH = VEGETABLES and SALT\n",
    "\n",
    "print(f\"Dish contains VEGETABLES : {VEGETABLES}\")\n",
    "print(f\"Dish contains SALT : {SALT}\")\n",
    "print(f\"Hence dish prepared was good : {DISH}\")"
   ]
  },
  {
   "cell_type": "code",
   "execution_count": 16,
   "id": "c073e231-542f-4baa-91fb-81001bc61348",
   "metadata": {},
   "outputs": [
    {
     "data": {
      "text/plain": [
       "0"
      ]
     },
     "execution_count": 16,
     "metadata": {},
     "output_type": "execute_result"
    }
   ],
   "source": [
    "True * False"
   ]
  },
  {
   "cell_type": "code",
   "execution_count": 21,
   "id": "f2c412d8-2e12-481f-b1eb-07919f5f6b60",
   "metadata": {},
   "outputs": [
    {
     "data": {
      "text/plain": [
       "True"
      ]
     },
     "execution_count": 21,
     "metadata": {},
     "output_type": "execute_result"
    }
   ],
   "source": [
    "# precedence\n",
    "\n",
    "not (False)*True"
   ]
  },
  {
   "cell_type": "code",
   "execution_count": 18,
   "id": "62561804-7264-48ae-a2b1-529d73555406",
   "metadata": {},
   "outputs": [
    {
     "data": {
      "text/plain": [
       "0"
      ]
     },
     "execution_count": 18,
     "metadata": {},
     "output_type": "execute_result"
    }
   ],
   "source": [
    "False*(not(False))"
   ]
  },
  {
   "cell_type": "code",
   "execution_count": 19,
   "id": "8cb77da2-2c21-4ce1-80cf-f534776e52f0",
   "metadata": {},
   "outputs": [
    {
     "data": {
      "text/plain": [
       "0"
      ]
     },
     "execution_count": 19,
     "metadata": {},
     "output_type": "execute_result"
    }
   ],
   "source": [
    "False*False"
   ]
  },
  {
   "cell_type": "code",
   "execution_count": 20,
   "id": "29fb43a0-260b-436f-b533-6d92e4b3759d",
   "metadata": {},
   "outputs": [
    {
     "data": {
      "text/plain": [
       "0"
      ]
     },
     "execution_count": 20,
     "metadata": {},
     "output_type": "execute_result"
    }
   ],
   "source": [
    "(not(False))*False"
   ]
  },
  {
   "cell_type": "code",
   "execution_count": 22,
   "id": "490763f7-84de-4a77-a4f4-73e49183b8a4",
   "metadata": {},
   "outputs": [
    {
     "name": "stdout",
     "output_type": "stream",
     "text": [
      "True\n"
     ]
    }
   ],
   "source": [
    "print(not(False)*False)"
   ]
  },
  {
   "cell_type": "code",
   "execution_count": 23,
   "id": "39cf27f8-f8a9-4f94-ab31-d3bc6e0095dc",
   "metadata": {},
   "outputs": [
    {
     "data": {
      "text/plain": [
       "True"
      ]
     },
     "execution_count": 23,
     "metadata": {},
     "output_type": "execute_result"
    }
   ],
   "source": [
    "not False*True"
   ]
  },
  {
   "cell_type": "code",
   "execution_count": 24,
   "id": "3cc07117-be7c-4746-a7f5-f356dab693c4",
   "metadata": {},
   "outputs": [
    {
     "name": "stdout",
     "output_type": "stream",
     "text": [
      "139663147012608\n",
      "139662652288448\n"
     ]
    }
   ],
   "source": [
    "# id function\n",
    "\n",
    "lst_a = [1,2,3,4]\n",
    "lst_b = [1,2,3,4]\n",
    "print(id(lst_a))\n",
    "print(id(lst_b))"
   ]
  },
  {
   "cell_type": "code",
   "execution_count": 25,
   "id": "a686204b-bf8c-43be-af1d-74c85d56677f",
   "metadata": {},
   "outputs": [
    {
     "data": {
      "text/plain": [
       "False"
      ]
     },
     "execution_count": 25,
     "metadata": {},
     "output_type": "execute_result"
    }
   ],
   "source": [
    "lst_a is lst_b\n",
    "\n",
    "# checking memory address of object"
   ]
  },
  {
   "cell_type": "code",
   "execution_count": 26,
   "id": "76e82ab2-0bab-4adb-a4d6-54b3fc247d22",
   "metadata": {},
   "outputs": [
    {
     "name": "stdout",
     "output_type": "stream",
     "text": [
      "139662651375360\n",
      "139662651375360\n"
     ]
    }
   ],
   "source": [
    "lst_a = [1,2,3,4]\n",
    "lst_b = lst_a\n",
    "print(id(lst_a))\n",
    "print(id(lst_b))"
   ]
  },
  {
   "cell_type": "code",
   "execution_count": 27,
   "id": "a8068e2b-0bd3-4948-8854-e5f0e0c7ce82",
   "metadata": {},
   "outputs": [
    {
     "data": {
      "text/plain": [
       "True"
      ]
     },
     "execution_count": 27,
     "metadata": {},
     "output_type": "execute_result"
    }
   ],
   "source": [
    "lst_a is lst_b"
   ]
  },
  {
   "cell_type": "code",
   "execution_count": 28,
   "id": "8da57b93-c10d-48e7-afb4-800547b4d7cb",
   "metadata": {},
   "outputs": [
    {
     "name": "stdout",
     "output_type": "stream",
     "text": [
      "139663272984848\n",
      "139663272984848\n"
     ]
    }
   ],
   "source": [
    "a = 2\n",
    "b = 2\n",
    "print(id(a))\n",
    "print(id(b))"
   ]
  },
  {
   "cell_type": "code",
   "execution_count": 29,
   "id": "8f64064a-02d5-4923-af22-2cfe1a160794",
   "metadata": {},
   "outputs": [
    {
     "name": "stdout",
     "output_type": "stream",
     "text": [
      "139662652540464\n",
      "139662652540464\n"
     ]
    }
   ],
   "source": [
    "str1 = \"Krishna\"\n",
    "str2 = \"Krishna\"\n",
    "print(id(str1))\n",
    "print(id(str2))"
   ]
  },
  {
   "cell_type": "code",
   "execution_count": 32,
   "id": "0fee312d-c767-4661-83ff-c6c2b5c79caa",
   "metadata": {},
   "outputs": [],
   "source": [
    "lst_a = [1,2,3,4]"
   ]
  },
  {
   "cell_type": "code",
   "execution_count": 33,
   "id": "fc17badd-4067-4038-a89f-ac58a7434a66",
   "metadata": {},
   "outputs": [
    {
     "data": {
      "text/plain": [
       "[10, 2, 3, 4]"
      ]
     },
     "execution_count": 33,
     "metadata": {},
     "output_type": "execute_result"
    }
   ],
   "source": [
    "lst_a[0]=10\n",
    "lst_a"
   ]
  },
  {
   "cell_type": "markdown",
   "id": "603809a2-d795-458f-bf3b-fed58590f2c4",
   "metadata": {},
   "source": [
    "List is a collection of objects or elements whereas strings are objects in particular.\n",
    "List is mutable whereas strings are immutable."
   ]
  },
  {
   "cell_type": "code",
   "execution_count": 30,
   "id": "96e1aaf9-66f1-4502-b0ee-a9819977db73",
   "metadata": {},
   "outputs": [
    {
     "name": "stdout",
     "output_type": "stream",
     "text": [
      "139662652540464\n",
      "139662652540080\n"
     ]
    }
   ],
   "source": [
    "str1 = \"Krishna\"\n",
    "str2 = \"Krishna1\"\n",
    "print(id(str1))\n",
    "print(id(str2))"
   ]
  },
  {
   "cell_type": "markdown",
   "id": "1b2adc61-f0c8-45e6-bc72-00ac504501a5",
   "metadata": {},
   "source": [
    "#### Comparison operator"
   ]
  },
  {
   "cell_type": "code",
   "execution_count": 34,
   "id": "eeaf611b-9ca0-46aa-808f-037dc1cc3473",
   "metadata": {},
   "outputs": [
    {
     "name": "stdout",
     "output_type": "stream",
     "text": [
      "Bike is faster than car : False\n"
     ]
    }
   ],
   "source": [
    "max_speed_of_bike = 150\n",
    "max_speed_of_car = 200\n",
    "print(f\"Bike is faster than car : {max_speed_of_bike>max_speed_of_car}\")"
   ]
  },
  {
   "cell_type": "code",
   "execution_count": 39,
   "id": "e7f0cb22-4ec6-49d7-b828-7300f09dc71a",
   "metadata": {},
   "outputs": [
    {
     "name": "stdout",
     "output_type": "stream",
     "text": [
      "Bike is slower than car : True\n"
     ]
    }
   ],
   "source": [
    "max_speed_of_bike = 150\n",
    "max_speed_of_car = 200\n",
    "print(f\"Bike is slower than car : {max_speed_of_bike<max_speed_of_car}\")"
   ]
  },
  {
   "cell_type": "markdown",
   "id": "a250ac47-111c-4448-8b25-fb2ac7cf66dd",
   "metadata": {},
   "source": [
    "#### Arithematic operators"
   ]
  },
  {
   "cell_type": "code",
   "execution_count": 42,
   "id": "80485f3b-3369-4a1a-bbd5-92edd97d625d",
   "metadata": {},
   "outputs": [],
   "source": [
    "a = 25\n",
    "b = 101"
   ]
  },
  {
   "cell_type": "code",
   "execution_count": 43,
   "id": "5f8079ff-7d29-4c9f-b3cf-e7b20c606dce",
   "metadata": {},
   "outputs": [
    {
     "data": {
      "text/plain": [
       "0"
      ]
     },
     "execution_count": 43,
     "metadata": {},
     "output_type": "execute_result"
    }
   ],
   "source": [
    "a//b"
   ]
  },
  {
   "cell_type": "code",
   "execution_count": 44,
   "id": "7b425870-2fc0-4c9b-9e59-2c4b43d18606",
   "metadata": {},
   "outputs": [
    {
     "data": {
      "text/plain": [
       "4"
      ]
     },
     "execution_count": 44,
     "metadata": {},
     "output_type": "execute_result"
    }
   ],
   "source": [
    "b//a"
   ]
  },
  {
   "cell_type": "code",
   "execution_count": 45,
   "id": "089e831e-d854-478f-b057-a3adcae16d71",
   "metadata": {},
   "outputs": [
    {
     "data": {
      "text/plain": [
       "1"
      ]
     },
     "execution_count": 45,
     "metadata": {},
     "output_type": "execute_result"
    }
   ],
   "source": [
    "b%a"
   ]
  },
  {
   "cell_type": "code",
   "execution_count": 46,
   "id": "6dabb6d2-0a48-4551-baf7-e7acc32a3de1",
   "metadata": {},
   "outputs": [
    {
     "data": {
      "text/plain": [
       "25"
      ]
     },
     "execution_count": 46,
     "metadata": {},
     "output_type": "execute_result"
    }
   ],
   "source": [
    "a%b"
   ]
  },
  {
   "cell_type": "markdown",
   "id": "10198e89-2d50-4935-aad0-651524b97906",
   "metadata": {},
   "source": [
    "#### bitwise operators\n"
   ]
  },
  {
   "cell_type": "code",
   "execution_count": 47,
   "id": "60b28b69-b748-4019-9998-096fafd58d26",
   "metadata": {},
   "outputs": [
    {
     "data": {
      "text/plain": [
       "'0b1010'"
      ]
     },
     "execution_count": 47,
     "metadata": {},
     "output_type": "execute_result"
    }
   ],
   "source": [
    "var = 10\n",
    "bin(var)"
   ]
  },
  {
   "cell_type": "code",
   "execution_count": 48,
   "id": "a01f95c1-e6cb-4dc4-8b33-2964f18ae609",
   "metadata": {},
   "outputs": [
    {
     "data": {
      "text/plain": [
       "-11"
      ]
     },
     "execution_count": 48,
     "metadata": {},
     "output_type": "execute_result"
    }
   ],
   "source": [
    "~var"
   ]
  },
  {
   "cell_type": "code",
   "execution_count": 49,
   "id": "3983dec8-3bfe-499e-859d-68b7f0b7380c",
   "metadata": {},
   "outputs": [
    {
     "data": {
      "text/plain": [
       "20"
      ]
     },
     "execution_count": 49,
     "metadata": {},
     "output_type": "execute_result"
    }
   ],
   "source": [
    "var<<1"
   ]
  },
  {
   "cell_type": "code",
   "execution_count": 50,
   "id": "85313764-d159-42ba-9f08-84ea5b4542bf",
   "metadata": {},
   "outputs": [
    {
     "data": {
      "text/plain": [
       "5"
      ]
     },
     "execution_count": 50,
     "metadata": {},
     "output_type": "execute_result"
    }
   ],
   "source": [
    "var>>1"
   ]
  },
  {
   "cell_type": "code",
   "execution_count": 51,
   "id": "78bfaa5c-a2cb-4668-b644-e4cc80383a56",
   "metadata": {},
   "outputs": [
    {
     "data": {
      "text/plain": [
       "13"
      ]
     },
     "execution_count": 51,
     "metadata": {},
     "output_type": "execute_result"
    }
   ],
   "source": [
    "12 |13"
   ]
  },
  {
   "cell_type": "code",
   "execution_count": 52,
   "id": "709f87ae-0f2a-4984-9f6b-1c5f9442a6a5",
   "metadata": {},
   "outputs": [
    {
     "data": {
      "text/plain": [
       "12"
      ]
     },
     "execution_count": 52,
     "metadata": {},
     "output_type": "execute_result"
    }
   ],
   "source": [
    "12 & 13"
   ]
  },
  {
   "cell_type": "markdown",
   "id": "fe3f6f28-b55c-4aaa-901a-155f69b5e624",
   "metadata": {},
   "source": [
    "#### Strings"
   ]
  },
  {
   "cell_type": "markdown",
   "id": "bdd83be5-7392-4cf4-afda-72a36de062f0",
   "metadata": {},
   "source": [
    "String is immutable "
   ]
  },
  {
   "cell_type": "code",
   "execution_count": 53,
   "id": "64b214a1-dfa1-4174-a100-991e4485b35e",
   "metadata": {},
   "outputs": [],
   "source": [
    "str1 = \"Welcome to Data Science Masters.\""
   ]
  },
  {
   "cell_type": "code",
   "execution_count": 54,
   "id": "a030f4a8-9fc9-49d3-a13b-678c3cbee002",
   "metadata": {},
   "outputs": [
    {
     "ename": "TypeError",
     "evalue": "'type' object does not support item assignment",
     "output_type": "error",
     "traceback": [
      "\u001b[0;31m---------------------------------------------------------------------------\u001b[0m",
      "\u001b[0;31mTypeError\u001b[0m                                 Traceback (most recent call last)",
      "Cell \u001b[0;32mIn[54], line 1\u001b[0m\n\u001b[0;32m----> 1\u001b[0m \u001b[38;5;28;43mstr\u001b[39;49m\u001b[43m[\u001b[49m\u001b[38;5;241;43m0\u001b[39;49m\u001b[43m]\u001b[49m \u001b[38;5;241m=\u001b[39m \u001b[38;5;241m12\u001b[39m\n",
      "\u001b[0;31mTypeError\u001b[0m: 'type' object does not support item assignment"
     ]
    }
   ],
   "source": [
    "str[0] = 12"
   ]
  },
  {
   "cell_type": "code",
   "execution_count": 55,
   "id": "154f36ef-8e26-4543-a54a-88e8d0cf146a",
   "metadata": {},
   "outputs": [
    {
     "data": {
      "text/plain": [
       "['__add__',\n",
       " '__class__',\n",
       " '__contains__',\n",
       " '__delattr__',\n",
       " '__dir__',\n",
       " '__doc__',\n",
       " '__eq__',\n",
       " '__format__',\n",
       " '__ge__',\n",
       " '__getattribute__',\n",
       " '__getitem__',\n",
       " '__getnewargs__',\n",
       " '__gt__',\n",
       " '__hash__',\n",
       " '__init__',\n",
       " '__init_subclass__',\n",
       " '__iter__',\n",
       " '__le__',\n",
       " '__len__',\n",
       " '__lt__',\n",
       " '__mod__',\n",
       " '__mul__',\n",
       " '__ne__',\n",
       " '__new__',\n",
       " '__reduce__',\n",
       " '__reduce_ex__',\n",
       " '__repr__',\n",
       " '__rmod__',\n",
       " '__rmul__',\n",
       " '__setattr__',\n",
       " '__sizeof__',\n",
       " '__str__',\n",
       " '__subclasshook__',\n",
       " 'capitalize',\n",
       " 'casefold',\n",
       " 'center',\n",
       " 'count',\n",
       " 'encode',\n",
       " 'endswith',\n",
       " 'expandtabs',\n",
       " 'find',\n",
       " 'format',\n",
       " 'format_map',\n",
       " 'index',\n",
       " 'isalnum',\n",
       " 'isalpha',\n",
       " 'isascii',\n",
       " 'isdecimal',\n",
       " 'isdigit',\n",
       " 'isidentifier',\n",
       " 'islower',\n",
       " 'isnumeric',\n",
       " 'isprintable',\n",
       " 'isspace',\n",
       " 'istitle',\n",
       " 'isupper',\n",
       " 'join',\n",
       " 'ljust',\n",
       " 'lower',\n",
       " 'lstrip',\n",
       " 'maketrans',\n",
       " 'partition',\n",
       " 'removeprefix',\n",
       " 'removesuffix',\n",
       " 'replace',\n",
       " 'rfind',\n",
       " 'rindex',\n",
       " 'rjust',\n",
       " 'rpartition',\n",
       " 'rsplit',\n",
       " 'rstrip',\n",
       " 'split',\n",
       " 'splitlines',\n",
       " 'startswith',\n",
       " 'strip',\n",
       " 'swapcase',\n",
       " 'title',\n",
       " 'translate',\n",
       " 'upper',\n",
       " 'zfill']"
      ]
     },
     "execution_count": 55,
     "metadata": {},
     "output_type": "execute_result"
    }
   ],
   "source": [
    "welcome = \"Hello World\"\n",
    "dir(welcome)"
   ]
  },
  {
   "cell_type": "code",
   "execution_count": 3,
   "id": "884ec67a-5b7e-46cd-98df-e722c60e51e7",
   "metadata": {},
   "outputs": [
    {
     "data": {
      "text/plain": [
       "'i'"
      ]
     },
     "execution_count": 3,
     "metadata": {},
     "output_type": "execute_result"
    }
   ],
   "source": [
    "string = \"PW Skills Data Science\"\n",
    "string[5]"
   ]
  },
  {
   "cell_type": "code",
   "execution_count": 57,
   "id": "056c9089-473a-4c56-ab7e-e6bed092c108",
   "metadata": {},
   "outputs": [
    {
     "data": {
      "text/plain": [
       "'ills Data Science'"
      ]
     },
     "execution_count": 57,
     "metadata": {},
     "output_type": "execute_result"
    }
   ],
   "source": [
    "## slice operation\n",
    "\n",
    "string[5:]"
   ]
  },
  {
   "cell_type": "code",
   "execution_count": 58,
   "id": "f81a9d6e-46d8-4d4c-9a6b-c962f6f6f5e2",
   "metadata": {},
   "outputs": [
    {
     "data": {
      "text/plain": [
       "'ills D'"
      ]
     },
     "execution_count": 58,
     "metadata": {},
     "output_type": "execute_result"
    }
   ],
   "source": [
    "string[5:11]"
   ]
  },
  {
   "cell_type": "code",
   "execution_count": 59,
   "id": "2557b7a6-ee27-4782-a033-4c742cf57882",
   "metadata": {},
   "outputs": [
    {
     "data": {
      "text/plain": [
       "'e'"
      ]
     },
     "execution_count": 59,
     "metadata": {},
     "output_type": "execute_result"
    }
   ],
   "source": [
    "string[-1]"
   ]
  },
  {
   "cell_type": "code",
   "execution_count": 60,
   "id": "017e2549-c437-4553-9291-e72913e6c0d6",
   "metadata": {},
   "outputs": [
    {
     "data": {
      "text/plain": [
       "'e'"
      ]
     },
     "execution_count": 60,
     "metadata": {},
     "output_type": "execute_result"
    }
   ],
   "source": [
    "string[-1:]"
   ]
  },
  {
   "cell_type": "code",
   "execution_count": 5,
   "id": "9a8fbfed-270a-4d68-9fc4-0e4091f67783",
   "metadata": {},
   "outputs": [
    {
     "data": {
      "text/plain": [
       "'PW Skills Data Science'"
      ]
     },
     "execution_count": 5,
     "metadata": {},
     "output_type": "execute_result"
    }
   ],
   "source": [
    "string"
   ]
  },
  {
   "cell_type": "code",
   "execution_count": 61,
   "id": "07bf5484-fad9-4d5a-8b08-0a7109a39435",
   "metadata": {},
   "outputs": [
    {
     "data": {
      "text/plain": [
       "'nce'"
      ]
     },
     "execution_count": 61,
     "metadata": {},
     "output_type": "execute_result"
    }
   ],
   "source": [
    "string[-3:]"
   ]
  },
  {
   "cell_type": "code",
   "execution_count": 62,
   "id": "299b32cd-72cf-4353-a6ba-37969995790d",
   "metadata": {},
   "outputs": [
    {
     "data": {
      "text/plain": [
       "'Scie'"
      ]
     },
     "execution_count": 62,
     "metadata": {},
     "output_type": "execute_result"
    }
   ],
   "source": [
    "string[-7:-3]"
   ]
  },
  {
   "cell_type": "code",
   "execution_count": 63,
   "id": "1d51db84-ca53-49b6-a52c-8243b9f741ef",
   "metadata": {},
   "outputs": [
    {
     "data": {
      "text/plain": [
       "''"
      ]
     },
     "execution_count": 63,
     "metadata": {},
     "output_type": "execute_result"
    }
   ],
   "source": [
    "string[-7:5]"
   ]
  },
  {
   "cell_type": "code",
   "execution_count": 64,
   "id": "90cb5e73-312d-4912-9326-3b14a3591ec2",
   "metadata": {},
   "outputs": [
    {
     "data": {
      "text/plain": [
       "''"
      ]
     },
     "execution_count": 64,
     "metadata": {},
     "output_type": "execute_result"
    }
   ],
   "source": [
    "string[7:5]"
   ]
  },
  {
   "cell_type": "code",
   "execution_count": 6,
   "id": "6cd08e9b-dfe9-4906-9c2c-aee7328c367f",
   "metadata": {},
   "outputs": [
    {
     "data": {
      "text/plain": [
       "'PW Skills Data Science'"
      ]
     },
     "execution_count": 6,
     "metadata": {},
     "output_type": "execute_result"
    }
   ],
   "source": [
    "string"
   ]
  },
  {
   "cell_type": "code",
   "execution_count": 65,
   "id": "1491e58e-805f-4ab9-b97e-96d3ca8dca8d",
   "metadata": {},
   "outputs": [
    {
     "data": {
      "text/plain": [
       "''"
      ]
     },
     "execution_count": 65,
     "metadata": {},
     "output_type": "execute_result"
    }
   ],
   "source": [
    "string[-10:10]"
   ]
  },
  {
   "cell_type": "code",
   "execution_count": 66,
   "id": "89ae339c-9657-4771-a34f-e4fbc4265a14",
   "metadata": {},
   "outputs": [
    {
     "data": {
      "text/plain": [
       "'PW Skills Data Scienc'"
      ]
     },
     "execution_count": 66,
     "metadata": {},
     "output_type": "execute_result"
    }
   ],
   "source": [
    "string[:-1]"
   ]
  },
  {
   "cell_type": "code",
   "execution_count": 67,
   "id": "1ef6dec2-6e3d-4a7e-9a88-8a388573b04a",
   "metadata": {},
   "outputs": [
    {
     "data": {
      "text/plain": [
       "'PW Skills Data Science'"
      ]
     },
     "execution_count": 67,
     "metadata": {},
     "output_type": "execute_result"
    }
   ],
   "source": [
    "string[:]"
   ]
  },
  {
   "cell_type": "code",
   "execution_count": 68,
   "id": "08459171-892e-4fa6-85e4-ea5bf6c19013",
   "metadata": {},
   "outputs": [
    {
     "data": {
      "text/plain": [
       "'PW Skills Data Science'"
      ]
     },
     "execution_count": 68,
     "metadata": {},
     "output_type": "execute_result"
    }
   ],
   "source": [
    "string[::]"
   ]
  },
  {
   "cell_type": "code",
   "execution_count": 69,
   "id": "00bbaa1b-eeac-4ce0-921d-1e3854a30850",
   "metadata": {},
   "outputs": [
    {
     "data": {
      "text/plain": [
       "'ecneicS ataD sllikS WP'"
      ]
     },
     "execution_count": 69,
     "metadata": {},
     "output_type": "execute_result"
    }
   ],
   "source": [
    "string[::-1]"
   ]
  },
  {
   "cell_type": "code",
   "execution_count": 70,
   "id": "a706baf1-bf62-4c17-830f-6ab7d5510fb3",
   "metadata": {},
   "outputs": [
    {
     "data": {
      "text/plain": [
       "'eniSaa liSW'"
      ]
     },
     "execution_count": 70,
     "metadata": {},
     "output_type": "execute_result"
    }
   ],
   "source": [
    "string[::-2]"
   ]
  },
  {
   "cell_type": "code",
   "execution_count": 71,
   "id": "72b50836-aa37-4cb0-ad63-7d24d7d6d020",
   "metadata": {},
   "outputs": [
    {
     "data": {
      "text/plain": [
       "''"
      ]
     },
     "execution_count": 71,
     "metadata": {},
     "output_type": "execute_result"
    }
   ],
   "source": [
    "string[0:5:-1]"
   ]
  },
  {
   "cell_type": "code",
   "execution_count": 72,
   "id": "fdc0a80f-61cc-4d7a-a4bd-9f9f42c32e7a",
   "metadata": {},
   "outputs": [
    {
     "data": {
      "text/plain": [
       "'likS WP'"
      ]
     },
     "execution_count": 72,
     "metadata": {},
     "output_type": "execute_result"
    }
   ],
   "source": [
    "string[6::-1]"
   ]
  },
  {
   "cell_type": "code",
   "execution_count": 7,
   "id": "77757f04-b571-4568-b896-b7ffe7736878",
   "metadata": {},
   "outputs": [
    {
     "data": {
      "text/plain": [
       "'PW Skills Data Science'"
      ]
     },
     "execution_count": 7,
     "metadata": {},
     "output_type": "execute_result"
    }
   ],
   "source": [
    "string"
   ]
  },
  {
   "cell_type": "code",
   "execution_count": 8,
   "id": "d3d832c9-461f-44f3-9428-7d8886abf670",
   "metadata": {},
   "outputs": [
    {
     "data": {
      "text/plain": [
       "'lik'"
      ]
     },
     "execution_count": 8,
     "metadata": {},
     "output_type": "execute_result"
    }
   ],
   "source": [
    "string[6:3:-1]"
   ]
  },
  {
   "cell_type": "code",
   "execution_count": 9,
   "id": "52a9e92d-1b25-41e5-b3d1-c38315316b53",
   "metadata": {},
   "outputs": [
    {
     "data": {
      "text/plain": [
       "'rt'"
      ]
     },
     "execution_count": 9,
     "metadata": {},
     "output_type": "execute_result"
    }
   ],
   "source": [
    "name = \"Karthik\"\n",
    "name[-5:4]"
   ]
  },
  {
   "cell_type": "code",
   "execution_count": 10,
   "id": "55e30fa7-2825-44be-a7e2-cce8e22d1048",
   "metadata": {},
   "outputs": [
    {
     "data": {
      "text/plain": [
       "'Krishna'"
      ]
     },
     "execution_count": 10,
     "metadata": {},
     "output_type": "execute_result"
    }
   ],
   "source": [
    "name = \"Krishna\"\n",
    "name[::1]"
   ]
  },
  {
   "cell_type": "code",
   "execution_count": 11,
   "id": "58d0fdaf-e8e2-4636-bc13-9eafcb020812",
   "metadata": {},
   "outputs": [
    {
     "data": {
      "text/plain": [
       "'Ksa'"
      ]
     },
     "execution_count": 11,
     "metadata": {},
     "output_type": "execute_result"
    }
   ],
   "source": [
    "name[::3]"
   ]
  },
  {
   "cell_type": "code",
   "execution_count": 12,
   "id": "ff5e5ad2-3846-4d16-b227-599aa96c24e5",
   "metadata": {},
   "outputs": [
    {
     "data": {
      "text/plain": [
       "'irK'"
      ]
     },
     "execution_count": 12,
     "metadata": {},
     "output_type": "execute_result"
    }
   ],
   "source": [
    "name[2::-1]"
   ]
  },
  {
   "cell_type": "code",
   "execution_count": 13,
   "id": "55611e3a-768c-465f-8da8-145cfb05369f",
   "metadata": {},
   "outputs": [
    {
     "data": {
      "text/plain": [
       "'si'"
      ]
     },
     "execution_count": 13,
     "metadata": {},
     "output_type": "execute_result"
    }
   ],
   "source": [
    "name[3:1:-1]"
   ]
  },
  {
   "cell_type": "code",
   "execution_count": 14,
   "id": "7c2d6526-a517-49e0-a3f1-503cb4699c21",
   "metadata": {},
   "outputs": [],
   "source": [
    "course_name = \"Data Science Masters\""
   ]
  },
  {
   "cell_type": "code",
   "execution_count": 15,
   "id": "22b6652c-d72f-414c-8470-9af08a10edf6",
   "metadata": {},
   "outputs": [
    {
     "data": {
      "text/plain": [
       "'Science'"
      ]
     },
     "execution_count": 15,
     "metadata": {},
     "output_type": "execute_result"
    }
   ],
   "source": [
    "course_name[5:12]"
   ]
  },
  {
   "cell_type": "code",
   "execution_count": 16,
   "id": "ebace339-a4d2-44a0-b979-e619b621d315",
   "metadata": {},
   "outputs": [
    {
     "data": {
      "text/plain": [
       "'ecneicS'"
      ]
     },
     "execution_count": 16,
     "metadata": {},
     "output_type": "execute_result"
    }
   ],
   "source": [
    "course_name[11:4:-1]"
   ]
  },
  {
   "cell_type": "code",
   "execution_count": 17,
   "id": "fe2325f0-469c-49d3-a0be-35a898c71c67",
   "metadata": {},
   "outputs": [
    {
     "data": {
      "text/plain": [
       "'Data Science MastersCourse'"
      ]
     },
     "execution_count": 17,
     "metadata": {},
     "output_type": "execute_result"
    }
   ],
   "source": [
    "## concatenation\n",
    "\n",
    "course_name + \"Course\""
   ]
  },
  {
   "cell_type": "code",
   "execution_count": 18,
   "id": "a2c61296-1a10-4a39-9f81-1bb1517df863",
   "metadata": {},
   "outputs": [
    {
     "data": {
      "text/plain": [
       "'Data Science MastersData Science Masters'"
      ]
     },
     "execution_count": 18,
     "metadata": {},
     "output_type": "execute_result"
    }
   ],
   "source": [
    "course_name*2"
   ]
  },
  {
   "cell_type": "code",
   "execution_count": 19,
   "id": "f463997a-2b19-4b13-ad4b-4579458ef87e",
   "metadata": {},
   "outputs": [
    {
     "data": {
      "text/plain": [
       "20"
      ]
     },
     "execution_count": 19,
     "metadata": {},
     "output_type": "execute_result"
    }
   ],
   "source": [
    "## len function\n",
    "\n",
    "len(course_name)"
   ]
  },
  {
   "cell_type": "code",
   "execution_count": 20,
   "id": "c4a2d43c-8c32-49cb-983e-a44ee1438598",
   "metadata": {},
   "outputs": [
    {
     "data": {
      "text/plain": [
       "9"
      ]
     },
     "execution_count": 20,
     "metadata": {},
     "output_type": "execute_result"
    }
   ],
   "source": [
    "## find function\n",
    "\n",
    "course_name.find(\"n\")"
   ]
  },
  {
   "cell_type": "code",
   "execution_count": 21,
   "id": "0d3dd64d-4585-4b3b-b121-4e72a17cf316",
   "metadata": {},
   "outputs": [
    {
     "data": {
      "text/plain": [
       "1"
      ]
     },
     "execution_count": 21,
     "metadata": {},
     "output_type": "execute_result"
    }
   ],
   "source": [
    "course_name.find(\"a\")"
   ]
  },
  {
   "cell_type": "code",
   "execution_count": 23,
   "id": "a72ccdc0-cd7a-4268-94ab-97450b46fe36",
   "metadata": {},
   "outputs": [
    {
     "data": {
      "text/plain": [
       "3"
      ]
     },
     "execution_count": 23,
     "metadata": {},
     "output_type": "execute_result"
    }
   ],
   "source": [
    "course_name.find(\"a\",2,10)"
   ]
  },
  {
   "cell_type": "code",
   "execution_count": 28,
   "id": "9007f126-5dfb-45de-9aa1-b648efdcc01b",
   "metadata": {},
   "outputs": [
    {
     "data": {
      "text/plain": [
       "-1"
      ]
     },
     "execution_count": 28,
     "metadata": {},
     "output_type": "execute_result"
    }
   ],
   "source": [
    "course_name.find(\"z\")"
   ]
  },
  {
   "cell_type": "code",
   "execution_count": 29,
   "id": "c5bd81f2-a592-4501-b805-4063957a27c7",
   "metadata": {},
   "outputs": [
    {
     "data": {
      "text/plain": [
       "3"
      ]
     },
     "execution_count": 29,
     "metadata": {},
     "output_type": "execute_result"
    }
   ],
   "source": [
    "## count function\n",
    "\n",
    "course_name.count(\"a\")"
   ]
  },
  {
   "cell_type": "code",
   "execution_count": 30,
   "id": "d1004b57-107e-4adf-92e7-e2a6d55f3175",
   "metadata": {},
   "outputs": [
    {
     "data": {
      "text/plain": [
       "2"
      ]
     },
     "execution_count": 30,
     "metadata": {},
     "output_type": "execute_result"
    }
   ],
   "source": [
    "course_name.count(\" \")"
   ]
  },
  {
   "cell_type": "code",
   "execution_count": 31,
   "id": "73f8e09d-b3cc-4783-971a-464fa4f6eed2",
   "metadata": {},
   "outputs": [
    {
     "data": {
      "text/plain": [
       "21"
      ]
     },
     "execution_count": 31,
     "metadata": {},
     "output_type": "execute_result"
    }
   ],
   "source": [
    "course_name.count('')"
   ]
  },
  {
   "cell_type": "code",
   "execution_count": 32,
   "id": "07ada52f-a2fd-4149-9ed4-5eb35ee41809",
   "metadata": {},
   "outputs": [
    {
     "data": {
      "text/plain": [
       "['Data', 'Science', 'Masters']"
      ]
     },
     "execution_count": 32,
     "metadata": {},
     "output_type": "execute_result"
    }
   ],
   "source": [
    "## string split function\n",
    "\n",
    "course_name.split(\" \")"
   ]
  },
  {
   "cell_type": "code",
   "execution_count": 33,
   "id": "6602ba94-899c-4ba9-896d-839ac514a70a",
   "metadata": {},
   "outputs": [
    {
     "data": {
      "text/plain": [
       "['Data ', 'cience Masters']"
      ]
     },
     "execution_count": 33,
     "metadata": {},
     "output_type": "execute_result"
    }
   ],
   "source": [
    "course_name.split(\"S\")"
   ]
  },
  {
   "cell_type": "code",
   "execution_count": 34,
   "id": "0bcada6e-a57f-4c73-a09f-6feecb80c57b",
   "metadata": {},
   "outputs": [
    {
     "data": {
      "text/plain": [
       "('Data ', 'S', 'cience Masters')"
      ]
     },
     "execution_count": 34,
     "metadata": {},
     "output_type": "execute_result"
    }
   ],
   "source": [
    "## partition function\n",
    "\n",
    "course_name.partition(\"S\")"
   ]
  },
  {
   "cell_type": "code",
   "execution_count": 35,
   "id": "12a5e32b-e8af-42fd-9a50-f4d986f5d1a9",
   "metadata": {},
   "outputs": [
    {
     "data": {
      "text/plain": [
       "['Data Science Ma', 'ter', '']"
      ]
     },
     "execution_count": 35,
     "metadata": {},
     "output_type": "execute_result"
    }
   ],
   "source": [
    "course_name.split(\"s\")"
   ]
  },
  {
   "cell_type": "code",
   "execution_count": 36,
   "id": "62e68283-506a-4434-8128-f29d43183c51",
   "metadata": {},
   "outputs": [
    {
     "data": {
      "text/plain": [
       "('Data Science Ma', 's', 'ters')"
      ]
     },
     "execution_count": 36,
     "metadata": {},
     "output_type": "execute_result"
    }
   ],
   "source": [
    "course_name.partition(\"s\")"
   ]
  },
  {
   "cell_type": "code",
   "execution_count": 37,
   "id": "89731094-48ca-4b52-a145-91638d0f2e69",
   "metadata": {},
   "outputs": [
    {
     "data": {
      "text/plain": [
       "'DATA SCIENCE MASTERS'"
      ]
     },
     "execution_count": 37,
     "metadata": {},
     "output_type": "execute_result"
    }
   ],
   "source": [
    "## string upper and lower\n",
    "\n",
    "course_name.upper()"
   ]
  },
  {
   "cell_type": "code",
   "execution_count": 38,
   "id": "f079a41e-04f3-4348-9fc7-c3b103705b42",
   "metadata": {},
   "outputs": [
    {
     "data": {
      "text/plain": [
       "'data science masters'"
      ]
     },
     "execution_count": 38,
     "metadata": {},
     "output_type": "execute_result"
    }
   ],
   "source": [
    "course_name.lower()"
   ]
  },
  {
   "cell_type": "code",
   "execution_count": 39,
   "id": "9372d8ed-aefd-4b1e-824e-22b9d762a2df",
   "metadata": {},
   "outputs": [
    {
     "data": {
      "text/plain": [
       "'dATA sCIENCE mASTERS'"
      ]
     },
     "execution_count": 39,
     "metadata": {},
     "output_type": "execute_result"
    }
   ],
   "source": [
    "course_name.swapcase()"
   ]
  },
  {
   "cell_type": "code",
   "execution_count": 40,
   "id": "811cd91c-21c2-45e5-b5fc-c5f6c3690b7a",
   "metadata": {},
   "outputs": [
    {
     "data": {
      "text/plain": [
       "'Srinivas Ramanujan'"
      ]
     },
     "execution_count": 40,
     "metadata": {},
     "output_type": "execute_result"
    }
   ],
   "source": [
    "name = \"srinivas ramanujan\"\n",
    "name.title()"
   ]
  },
  {
   "cell_type": "code",
   "execution_count": null,
   "id": "74a26bf4-8a27-41fb-bf11-9dea9295c2e4",
   "metadata": {},
   "outputs": [],
   "source": []
  }
 ],
 "metadata": {
  "kernelspec": {
   "display_name": "Python 3 (ipykernel)",
   "language": "python",
   "name": "python3"
  },
  "language_info": {
   "codemirror_mode": {
    "name": "ipython",
    "version": 3
   },
   "file_extension": ".py",
   "mimetype": "text/x-python",
   "name": "python",
   "nbconvert_exporter": "python",
   "pygments_lexer": "ipython3",
   "version": "3.10.8"
  }
 },
 "nbformat": 4,
 "nbformat_minor": 5
}
